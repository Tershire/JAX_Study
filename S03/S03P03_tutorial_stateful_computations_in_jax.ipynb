{
 "cells": [
  {
   "cell_type": "markdown",
   "id": "fbe255d7-675a-46b1-9f29-6e30feddd6e0",
   "metadata": {},
   "source": [
    "**S03P03_tutorial_stateful_computations_in_jax.ipynb**\n",
    "\n",
    "Arz\n",
    "\n",
    "2024 APR 22 (MON)\n",
    "\n",
    "reference:\n",
    "https://jax.readthedocs.io/en/latest/jax-101/07-state.html"
   ]
  },
  {
   "cell_type": "code",
   "execution_count": 1,
   "id": "4280d645-5e9f-47ad-8dcc-dae95ed36381",
   "metadata": {},
   "outputs": [],
   "source": [
    "import numpy as np"
   ]
  },
  {
   "cell_type": "code",
   "execution_count": 2,
   "id": "e6b76b09-bb0e-44fd-b1a3-23fb9c32be50",
   "metadata": {},
   "outputs": [],
   "source": [
    "import jax\n",
    "import jax.numpy as jnp\n",
    "from jax import lax\n",
    "from jax import grad, jit, vmap\n",
    "from jax import random"
   ]
  },
  {
   "cell_type": "code",
   "execution_count": 3,
   "id": "25098a68-bd5d-4056-b38e-ba8e2c7e1dfc",
   "metadata": {},
   "outputs": [
    {
     "name": "stdout",
     "output_type": "stream",
     "text": [
      "Exception reporting mode: Minimal\n"
     ]
    }
   ],
   "source": [
    "%xmode minimal"
   ]
  },
  {
   "cell_type": "markdown",
   "id": "13c27a77-cd9f-4cfb-9784-fe3194cbd76f",
   "metadata": {},
   "source": [
    "# motivation\n",
    "\n",
    "in machine learning, program state most often comes in the form of:\n",
    "- model parameters\n",
    "- optimizer state\n",
    "- stateful layers\n",
    "    - ex) batch normalization\n",
    " \n",
    "changing program state is one kind of side-effect. So, if we can’t have side effects, how do we update them? \n",
    "\n",
    "-> functional programming"
   ]
  },
  {
   "cell_type": "markdown",
   "id": "329679d7-4447-49d3-9eed-8980636cc3d6",
   "metadata": {},
   "source": [
    "# a simple example: counter"
   ]
  },
  {
   "cell_type": "code",
   "execution_count": 4,
   "id": "fe515630-0e34-4ee1-a177-1dd2d3673233",
   "metadata": {},
   "outputs": [],
   "source": [
    "class Counter:\n",
    "    def __init__(self):\n",
    "        self.n = 0\n",
    "\n",
    "    def count(self) -> int:\n",
    "        self.n += 1\n",
    "        return self.n\n",
    "\n",
    "    def reset(self):\n",
    "        self.n = 0"
   ]
  },
  {
   "cell_type": "code",
   "execution_count": 5,
   "id": "a940a62d-5b0d-4bf5-b6f0-e57cbcc218ab",
   "metadata": {},
   "outputs": [
    {
     "name": "stdout",
     "output_type": "stream",
     "text": [
      "1\n",
      "2\n",
      "3\n"
     ]
    }
   ],
   "source": [
    "counter = Counter()\n",
    "\n",
    "for _ in range(3):\n",
    "    print(counter.count())"
   ]
  },
  {
   "cell_type": "markdown",
   "id": "2752f52a-12ef-4826-9e5a-6615665566b3",
   "metadata": {},
   "source": [
    "state n gets modified by count(). so self.n += 1 is a side effect."
   ]
  },
  {
   "cell_type": "markdown",
   "id": "425dc0a8-1f63-4dd8-98b0-8970206944a8",
   "metadata": {},
   "source": [
    "## JIT test"
   ]
  },
  {
   "cell_type": "code",
   "execution_count": 6,
   "id": "e2fa5929-bdd2-4265-a13e-fcbcb2860fa9",
   "metadata": {},
   "outputs": [],
   "source": [
    "counter.reset()"
   ]
  },
  {
   "cell_type": "code",
   "execution_count": 7,
   "id": "4fd07682-7533-4580-95f9-c169ecc47bee",
   "metadata": {},
   "outputs": [
    {
     "name": "stdout",
     "output_type": "stream",
     "text": [
      "1\n",
      "1\n",
      "1\n"
     ]
    }
   ],
   "source": [
    "count_jit = jax.jit(counter.count)\n",
    "\n",
    "for _ in range(3):\n",
    "    print(count_jit())"
   ]
  },
  {
   "cell_type": "markdown",
   "id": "a41d1f65-dcc6-406a-9e03-bc322abb1138",
   "metadata": {},
   "source": [
    "# the solution: explicit state"
   ]
  },
  {
   "cell_type": "markdown",
   "id": "dc79eaeb-9fce-4e59-945b-64d825539d39",
   "metadata": {},
   "source": [
    "in this new version of Counter, we moved n to be an argument of count, and added another return value that represents the new, updated, state. \n",
    "\n",
    "to use this counter, we now need to keep track of the state explicitly. but in return, we can now safely jax.jit this counter."
   ]
  },
  {
   "cell_type": "code",
   "execution_count": 8,
   "id": "ab72726f-f7c9-4633-aae3-a5fe8577355f",
   "metadata": {},
   "outputs": [],
   "source": [
    "# typedef\n",
    "Counter_State = int\n",
    "\n",
    "# class\n",
    "class Counter_V2:\n",
    "    def count(self, n: Counter_State) -> tuple[int, Counter_State]:\n",
    "        return n + 1, n + 1\n",
    "\n",
    "    def reset(self) -> Counter_State:\n",
    "        return 0"
   ]
  },
  {
   "cell_type": "code",
   "execution_count": 9,
   "id": "a0b8dcfb-aca8-4632-b028-361316467ebf",
   "metadata": {},
   "outputs": [
    {
     "name": "stdout",
     "output_type": "stream",
     "text": [
      "1\n",
      "2\n",
      "3\n"
     ]
    }
   ],
   "source": [
    "counter_V2 = Counter_V2()\n",
    "counter_state = counter_V2.reset()\n",
    "\n",
    "for _ in range(3):\n",
    "    value, counter_state = counter_V2.count(counter_state)\n",
    "    print(value)"
   ]
  },
  {
   "cell_type": "markdown",
   "id": "a4e6b822-40c1-454b-a4b9-437fd465da3f",
   "metadata": {},
   "source": [
    "## JIT test"
   ]
  },
  {
   "cell_type": "code",
   "execution_count": 10,
   "id": "7d0bb824-c2a9-4094-a189-2a2ec80c017b",
   "metadata": {},
   "outputs": [],
   "source": [
    "counter_state = counter_V2.reset()"
   ]
  },
  {
   "cell_type": "code",
   "execution_count": 11,
   "id": "82b9f355-456b-4074-9b81-6332b2728657",
   "metadata": {},
   "outputs": [
    {
     "name": "stdout",
     "output_type": "stream",
     "text": [
      "1\n",
      "2\n",
      "3\n"
     ]
    }
   ],
   "source": [
    "count_V2_jit = jax.jit(counter_V2.count)\n",
    "\n",
    "for _ in range(3):\n",
    "    value, counter_state = count_V2_jit(counter_state)\n",
    "    print(value)"
   ]
  },
  {
   "cell_type": "markdown",
   "id": "75905120-0343-4cda-ac48-db5864deb378",
   "metadata": {},
   "source": [
    "# a general strategy\n",
    "\n",
    "**common functional programming pattern**\n",
    "- the way that state is handled in all JAX programs.\n",
    "\n",
    "we can apply the same process to any stateful method to convert it into a stateless one."
   ]
  },
  {
   "cell_type": "code",
   "execution_count": 12,
   "id": "0ce2ecf3-5e8f-4956-bff6-096e54704277",
   "metadata": {},
   "outputs": [],
   "source": [
    "from typing import Any"
   ]
  },
  {
   "cell_type": "code",
   "execution_count": 13,
   "id": "42ef6003-8214-40ea-aa7f-dd38ca1cba79",
   "metadata": {},
   "outputs": [],
   "source": [
    "State_Type = Any"
   ]
  },
  {
   "cell_type": "markdown",
   "id": "751dbf2a-db36-4ad4-bf44-cb01bf28ebae",
   "metadata": {},
   "source": [
    "## from"
   ]
  },
  {
   "cell_type": "code",
   "execution_count": 14,
   "id": "42bb183a-c05d-4cd9-badf-e2429584ab2b",
   "metadata": {},
   "outputs": [],
   "source": [
    "class My_Stateful_Class:\n",
    "    def __init__(self):\n",
    "        self.state = initial_state\n",
    "\n",
    "    def my_stateful_method(*args, **kwargs) -> Any:\n",
    "        # some operation on self.state\n",
    "        return value"
   ]
  },
  {
   "cell_type": "markdown",
   "id": "6352fb3b-6eb7-4c0e-bdf1-87cb3b692a8a",
   "metadata": {},
   "source": [
    "## to"
   ]
  },
  {
   "cell_type": "code",
   "execution_count": 15,
   "id": "ac13ad9e-5e98-47f6-a2f0-89009cb0490a",
   "metadata": {},
   "outputs": [],
   "source": [
    "class My_Stateless_Class:\n",
    "    def my_stateless_method(state: State_Type, *args, **kwargs) -> (Any, State_Type):  # (value, state-type)\n",
    "        # some operation on the argument state\n",
    "        return value, state"
   ]
  },
  {
   "cell_type": "markdown",
   "id": "07c43b71-bb84-4732-aedd-bfa0311a97ca",
   "metadata": {},
   "source": [
    "# simple worked example: linear regression\n",
    "\n",
    "in machine learning example, the only program state dealt is:\n",
    "- model parameters"
   ]
  },
  {
   "cell_type": "code",
   "execution_count": 16,
   "id": "af5581c1-a894-408c-adea-b65e641f96fb",
   "metadata": {},
   "outputs": [],
   "source": [
    "from typing import NamedTuple"
   ]
  },
  {
   "cell_type": "code",
   "execution_count": 17,
   "id": "b7b26ee5-273e-4727-8454-a5cbb9820059",
   "metadata": {},
   "outputs": [],
   "source": [
    "class Params(NamedTuple):\n",
    "    weight: jnp.ndarray\n",
    "    bias: jnp.ndarray\n",
    "\n",
    "def initialize(key) -> Params:\n",
    "    weight_key, bias_key = jax.random.split(key)\n",
    "    weight = jax.random.normal(weight_key, ())\n",
    "    bias = jax.random.normal(bias_key, ())\n",
    "    return Params(weight, bias)\n",
    "\n",
    "def loss_function(params: Params, x: jnp.ndarray, y: jnp.ndarray) -> jnp.ndarray:\n",
    "    y_pred = params.weight*x + params.bias\n",
    "    return jnp.mean((y - y_pred)**2)\n",
    "\n",
    "learning_rate = 0.005\n",
    "\n",
    "#\n",
    "@jax.jit\n",
    "def update(params: Params, x: jnp.ndarray, y: jnp.ndarray) -> tuple[Params, jnp.ndarray]:\n",
    "    # compute loss and gradients on each given minibatch (individually on each device using pmap)\n",
    "    loss, grad = jax.value_and_grad(loss_function)(params, x, y)\n",
    "\n",
    "    # update params\n",
    "    new_params = jax.tree_map(lambda param, grad: param - grad*learning_rate, params, grad)\n",
    "\n",
    "    return new_params, loss"
   ]
  },
  {
   "cell_type": "markdown",
   "id": "ca2feb6f-c846-4c16-adf8-3c1c1ac448e1",
   "metadata": {},
   "source": [
    "## data & setting"
   ]
  },
  {
   "cell_type": "code",
   "execution_count": 18,
   "id": "2af32352-5dde-4372-a555-608c28129246",
   "metadata": {},
   "outputs": [],
   "source": [
    "x = np.random.normal(size=(100,))\n",
    "noise = np.random.normal(scale=0.1, size=(100,))\n",
    "\n",
    "y = 3*x - 1 + noise"
   ]
  },
  {
   "cell_type": "markdown",
   "id": "9065b058-ebbd-4c8e-9251-83af87c95fe3",
   "metadata": {},
   "source": [
    "**initialize parameters.**"
   ]
  },
  {
   "cell_type": "code",
   "execution_count": 19,
   "id": "6c2ca4a5-1bad-48a4-acc3-ae73a8b5c0ae",
   "metadata": {},
   "outputs": [],
   "source": [
    "params = initialize(jax.random.key(123))"
   ]
  },
  {
   "cell_type": "markdown",
   "id": "d0459578-e4c6-42e5-903a-c946147e00df",
   "metadata": {},
   "source": [
    "## training"
   ]
  },
  {
   "cell_type": "code",
   "execution_count": 21,
   "id": "4f952e86-2a2c-4795-b20e-13f9599b6475",
   "metadata": {},
   "outputs": [
    {
     "name": "stdout",
     "output_type": "stream",
     "text": [
      "epoch   0, loss: 10.810\n",
      "10.809915\n",
      "epoch 100, loss: 1.238\n",
      "1.2383049\n",
      "epoch 200, loss: 0.165\n",
      "0.16494352\n",
      "epoch 300, loss: 0.031\n",
      "0.03065598\n",
      "epoch 400, loss: 0.012\n",
      "0.011662046\n",
      "epoch 500, loss: 0.009\n",
      "0.008665814\n",
      "epoch 600, loss: 0.008\n",
      "0.008154484\n",
      "epoch 700, loss: 0.008\n",
      "0.0080628805\n",
      "epoch 800, loss: 0.008\n",
      "0.0080460245\n",
      "epoch 900, loss: 0.008\n",
      "0.008042876\n"
     ]
    }
   ],
   "source": [
    "for i in range(1000):\n",
    "    params, loss = update(params, x, y)\n",
    "\n",
    "    if i%100 == 0:\n",
    "        print(f\"epoch {i:3d}, loss: {loss:.3f}\")\n",
    "        print(loss)"
   ]
  },
  {
   "cell_type": "code",
   "execution_count": 22,
   "id": "e55970ed-e7cc-400a-aa28-8305e6f6aeff",
   "metadata": {},
   "outputs": [],
   "source": [
    "import plotly.express as px\n",
    "import plotly.io as pio\n",
    "pio.renderers.default = 'iframe'"
   ]
  },
  {
   "cell_type": "code",
   "execution_count": 23,
   "id": "45ef8881-c81e-465d-a805-4522c333289b",
   "metadata": {},
   "outputs": [
    {
     "data": {
      "text/html": [
       "<iframe\n",
       "    scrolling=\"no\"\n",
       "    width=\"100%\"\n",
       "    height=\"545px\"\n",
       "    src=\"iframe_figures/figure_23.html\"\n",
       "    frameborder=\"0\"\n",
       "    allowfullscreen\n",
       "></iframe>\n"
      ]
     },
     "metadata": {},
     "output_type": "display_data"
    }
   ],
   "source": [
    "fig = px.scatter(x=x, y=y)\n",
    "fig_model = px.line(x=x, y=params.weight*x + params.bias)\n",
    "fig_model.data[0].line.color = \"#e02a19\"\n",
    "fig.add_trace(fig_model.data[0])\n",
    "\n",
    "fig.show()"
   ]
  },
  {
   "cell_type": "markdown",
   "id": "c912d7a1-2d1f-4b9b-92f5-24ac6ea9bd53",
   "metadata": {},
   "source": [
    "# taking it further"
   ]
  },
  {
   "cell_type": "markdown",
   "id": "c6b34335-95e2-4b86-bc5b-3191db035fb0",
   "metadata": {},
   "source": [
    "❓ how to deal with multiple parameters and more?\n",
    "\n",
    "https://github.com/google/jax#neural-network-libraries"
   ]
  },
  {
   "cell_type": "code",
   "execution_count": null,
   "id": "2b969d6f-5084-4f09-8de8-12500b94fae9",
   "metadata": {},
   "outputs": [],
   "source": []
  }
 ],
 "metadata": {
  "kernelspec": {
   "display_name": "Python 3 (ipykernel)",
   "language": "python",
   "name": "python3"
  },
  "language_info": {
   "codemirror_mode": {
    "name": "ipython",
    "version": 3
   },
   "file_extension": ".py",
   "mimetype": "text/x-python",
   "name": "python",
   "nbconvert_exporter": "python",
   "pygments_lexer": "ipython3",
   "version": "3.12.2"
  }
 },
 "nbformat": 4,
 "nbformat_minor": 5
}
