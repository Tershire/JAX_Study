{
 "cells": [
  {
   "cell_type": "markdown",
   "id": "fbe255d7-675a-46b1-9f29-6e30feddd6e0",
   "metadata": {},
   "source": [
    "**S03P03_tutorial_stateful_computations_in_jax.ipynb**\n",
    "\n",
    "Arz\n",
    "\n",
    "2024 APR 22 (MON)\n",
    "\n",
    "reference:\n",
    "https://jax.readthedocs.io/en/latest/jax-101/07-state.html"
   ]
  },
  {
   "cell_type": "code",
   "execution_count": 1,
   "id": "4280d645-5e9f-47ad-8dcc-dae95ed36381",
   "metadata": {},
   "outputs": [],
   "source": [
    "import numpy as np"
   ]
  },
  {
   "cell_type": "code",
   "execution_count": 2,
   "id": "e6b76b09-bb0e-44fd-b1a3-23fb9c32be50",
   "metadata": {},
   "outputs": [],
   "source": [
    "import jax\n",
    "import jax.numpy as jnp\n",
    "from jax import lax\n",
    "from jax import grad, jit, vmap\n",
    "from jax import random"
   ]
  },
  {
   "cell_type": "code",
   "execution_count": 3,
   "id": "25098a68-bd5d-4056-b38e-ba8e2c7e1dfc",
   "metadata": {},
   "outputs": [
    {
     "name": "stdout",
     "output_type": "stream",
     "text": [
      "Exception reporting mode: Minimal\n"
     ]
    }
   ],
   "source": [
    "%xmode minimal"
   ]
  },
  {
   "cell_type": "markdown",
   "id": "13c27a77-cd9f-4cfb-9784-fe3194cbd76f",
   "metadata": {},
   "source": [
    "# motivation\n",
    "\n",
    "in machine learning, program state most often comes in the form of:\n",
    "- model parameters\n",
    "- optimizer state\n",
    "- stateful layers\n",
    "    - ex) batch normalization\n",
    " \n",
    "changing program state is one kind of side-effect. So, if we can’t have side effects, how do we update them? \n",
    "\n",
    "-> functional programming"
   ]
  },
  {
   "cell_type": "markdown",
   "id": "329679d7-4447-49d3-9eed-8980636cc3d6",
   "metadata": {},
   "source": [
    "# a simple example: counter"
   ]
  },
  {
   "cell_type": "code",
   "execution_count": 4,
   "id": "fe515630-0e34-4ee1-a177-1dd2d3673233",
   "metadata": {},
   "outputs": [],
   "source": [
    "class Counter:\n",
    "    def __init__(self):\n",
    "        self.n = 0\n",
    "\n",
    "    def count(self) -> int:\n",
    "        self.n += 1\n",
    "        return self.n\n",
    "\n",
    "    def reset(self):\n",
    "        self.n = 0"
   ]
  },
  {
   "cell_type": "code",
   "execution_count": 5,
   "id": "a940a62d-5b0d-4bf5-b6f0-e57cbcc218ab",
   "metadata": {},
   "outputs": [
    {
     "name": "stdout",
     "output_type": "stream",
     "text": [
      "1\n",
      "2\n",
      "3\n"
     ]
    }
   ],
   "source": [
    "counter = Counter()\n",
    "\n",
    "for _ in range(3):\n",
    "    print(counter.count())"
   ]
  },
  {
   "cell_type": "markdown",
   "id": "2752f52a-12ef-4826-9e5a-6615665566b3",
   "metadata": {},
   "source": [
    "state n gets modified by count(). so self.n += 1 is a side effect."
   ]
  },
  {
   "cell_type": "markdown",
   "id": "425dc0a8-1f63-4dd8-98b0-8970206944a8",
   "metadata": {},
   "source": [
    "## JIT test"
   ]
  },
  {
   "cell_type": "code",
   "execution_count": 6,
   "id": "e2fa5929-bdd2-4265-a13e-fcbcb2860fa9",
   "metadata": {},
   "outputs": [],
   "source": [
    "counter.reset()"
   ]
  },
  {
   "cell_type": "code",
   "execution_count": 7,
   "id": "4fd07682-7533-4580-95f9-c169ecc47bee",
   "metadata": {},
   "outputs": [
    {
     "name": "stdout",
     "output_type": "stream",
     "text": [
      "1\n",
      "1\n",
      "1\n"
     ]
    }
   ],
   "source": [
    "count_jit = jax.jit(counter.count)\n",
    "\n",
    "for _ in range(3):\n",
    "    print(count_jit())"
   ]
  },
  {
   "cell_type": "markdown",
   "id": "a41d1f65-dcc6-406a-9e03-bc322abb1138",
   "metadata": {},
   "source": [
    "# the solution: explicit state"
   ]
  },
  {
   "cell_type": "markdown",
   "id": "dc79eaeb-9fce-4e59-945b-64d825539d39",
   "metadata": {},
   "source": [
    "in this new version of Counter, we moved n to be an argument of count, and added another return value that represents the new, updated, state. \n",
    "\n",
    "to use this counter, we now need to keep track of the state explicitly. but in return, we can now safely jax.jit this counter."
   ]
  },
  {
   "cell_type": "code",
   "execution_count": 10,
   "id": "ab72726f-f7c9-4633-aae3-a5fe8577355f",
   "metadata": {},
   "outputs": [],
   "source": [
    "# typedef\n",
    "Counter_State = int\n",
    "\n",
    "# class\n",
    "class Counter_V2:\n",
    "    def count(self, n: Counter_State) -> tuple[int, Counter_State]:\n",
    "        return n + 1, n + 1\n",
    "\n",
    "    def reset(self) -> Counter_State:\n",
    "        return 0"
   ]
  },
  {
   "cell_type": "code",
   "execution_count": 12,
   "id": "a0b8dcfb-aca8-4632-b028-361316467ebf",
   "metadata": {},
   "outputs": [
    {
     "name": "stdout",
     "output_type": "stream",
     "text": [
      "1\n",
      "2\n",
      "3\n"
     ]
    }
   ],
   "source": [
    "counter_V2 = Counter_V2()\n",
    "counter_state = counter_V2.reset()\n",
    "\n",
    "for _ in range(3):\n",
    "    value, counter_state = counter_V2.count(counter_state)\n",
    "    print(value)"
   ]
  },
  {
   "cell_type": "markdown",
   "id": "a4e6b822-40c1-454b-a4b9-437fd465da3f",
   "metadata": {},
   "source": [
    "## JIT test"
   ]
  },
  {
   "cell_type": "code",
   "execution_count": 13,
   "id": "7d0bb824-c2a9-4094-a189-2a2ec80c017b",
   "metadata": {},
   "outputs": [],
   "source": [
    "counter_state = counter_V2.reset()"
   ]
  },
  {
   "cell_type": "code",
   "execution_count": 14,
   "id": "82b9f355-456b-4074-9b81-6332b2728657",
   "metadata": {},
   "outputs": [
    {
     "name": "stdout",
     "output_type": "stream",
     "text": [
      "1\n",
      "2\n",
      "3\n"
     ]
    }
   ],
   "source": [
    "count_V2_jit = jax.jit(counter_V2.count)\n",
    "\n",
    "for _ in range(3):\n",
    "    value, counter_state = count_V2_jit(counter_state)\n",
    "    print(value)"
   ]
  },
  {
   "cell_type": "code",
   "execution_count": null,
   "id": "46b8b0e8-f7da-4956-8765-344e5a50378b",
   "metadata": {},
   "outputs": [],
   "source": []
  }
 ],
 "metadata": {
  "kernelspec": {
   "display_name": "Python 3 (ipykernel)",
   "language": "python",
   "name": "python3"
  },
  "language_info": {
   "codemirror_mode": {
    "name": "ipython",
    "version": 3
   },
   "file_extension": ".py",
   "mimetype": "text/x-python",
   "name": "python",
   "nbconvert_exporter": "python",
   "pygments_lexer": "ipython3",
   "version": "3.12.2"
  }
 },
 "nbformat": 4,
 "nbformat_minor": 5
}
