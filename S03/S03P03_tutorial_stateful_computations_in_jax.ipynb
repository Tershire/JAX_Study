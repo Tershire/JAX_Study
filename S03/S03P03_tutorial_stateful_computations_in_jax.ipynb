{
 "cells": [
  {
   "cell_type": "markdown",
   "id": "fbe255d7-675a-46b1-9f29-6e30feddd6e0",
   "metadata": {},
   "source": [
    "**S03P03_tutorial_stateful_computations_in_jax.ipynb**\n",
    "\n",
    "Arz\n",
    "\n",
    "2024 APR 22 (MON)\n",
    "\n",
    "reference:\n",
    "https://jax.readthedocs.io/en/latest/jax-101/07-state.html"
   ]
  },
  {
   "cell_type": "code",
   "execution_count": 1,
   "id": "4280d645-5e9f-47ad-8dcc-dae95ed36381",
   "metadata": {},
   "outputs": [],
   "source": [
    "import numpy as np"
   ]
  },
  {
   "cell_type": "code",
   "execution_count": 2,
   "id": "e6b76b09-bb0e-44fd-b1a3-23fb9c32be50",
   "metadata": {},
   "outputs": [],
   "source": [
    "import jax\n",
    "import jax.numpy as jnp\n",
    "from jax import lax\n",
    "from jax import grad, jit, vmap\n",
    "from jax import random"
   ]
  },
  {
   "cell_type": "code",
   "execution_count": 3,
   "id": "25098a68-bd5d-4056-b38e-ba8e2c7e1dfc",
   "metadata": {},
   "outputs": [
    {
     "name": "stdout",
     "output_type": "stream",
     "text": [
      "Exception reporting mode: Minimal\n"
     ]
    }
   ],
   "source": [
    "%xmode minimal"
   ]
  },
  {
   "cell_type": "markdown",
   "id": "13c27a77-cd9f-4cfb-9784-fe3194cbd76f",
   "metadata": {},
   "source": [
    "# motivation"
   ]
  },
  {
   "cell_type": "code",
   "execution_count": null,
   "id": "e2a35bcc-be14-4290-8060-f6fb4713e7c7",
   "metadata": {},
   "outputs": [],
   "source": []
  }
 ],
 "metadata": {
  "kernelspec": {
   "display_name": "Python 3 (ipykernel)",
   "language": "python",
   "name": "python3"
  },
  "language_info": {
   "codemirror_mode": {
    "name": "ipython",
    "version": 3
   },
   "file_extension": ".py",
   "mimetype": "text/x-python",
   "name": "python",
   "nbconvert_exporter": "python",
   "pygments_lexer": "ipython3",
   "version": "3.12.2"
  }
 },
 "nbformat": 4,
 "nbformat_minor": 5
}
