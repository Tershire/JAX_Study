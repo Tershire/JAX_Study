{
 "cells": [
  {
   "cell_type": "markdown",
   "id": "f9106499-e026-4ccf-abc3-b781fec4b36a",
   "metadata": {},
   "source": [
    "**S03P01_tutorial_working_with_pytrees.ipynb**\n",
    "\n",
    "Arz\n",
    "\n",
    "2024 APR 16 (WED)\n",
    "\n",
    "reference:\n",
    "https://jax.readthedocs.io/en/latest/jax-101/05.1-pytrees.html"
   ]
  },
  {
   "cell_type": "code",
   "execution_count": 1,
   "id": "4e0cf4d1-c632-4f1f-8d59-2442e6da3f62",
   "metadata": {},
   "outputs": [],
   "source": [
    "import numpy as np"
   ]
  },
  {
   "cell_type": "code",
   "execution_count": 2,
   "id": "ded4b979-2bb7-40be-b9b1-a7e2d6c37979",
   "metadata": {},
   "outputs": [],
   "source": [
    "import jax\n",
    "import jax.numpy as jnp\n",
    "from jax import lax\n",
    "from jax import grad, jit, vmap\n",
    "from jax import random"
   ]
  },
  {
   "cell_type": "code",
   "execution_count": 3,
   "id": "9eef2727-c2c0-43dd-892c-dc0744661179",
   "metadata": {},
   "outputs": [
    {
     "name": "stdout",
     "output_type": "stream",
     "text": [
      "Exception reporting mode: Minimal\n"
     ]
    }
   ],
   "source": [
    "%xmode minimal"
   ]
  },
  {
   "cell_type": "markdown",
   "id": "c10f62af-e318-4ef1-a8ba-b03e96e1dc18",
   "metadata": {},
   "source": [
    "# what is a pytree?\n",
    "\n",
    "pytree:\n",
    "\n",
    "a container of leaf elements &| more pytrees.\n",
    "- **container**:\n",
    "    - ex) list, tuple, dict\n",
    "- **leaf element**: anything that's not a pytree\n",
    "    - ex) array\n",
    " \n",
    "a possibly-nested standard or user-registered Python container."
   ]
  },
  {
   "cell_type": "code",
   "execution_count": 4,
   "id": "11899935-d7de-4833-b146-9e17c006d346",
   "metadata": {},
   "outputs": [
    {
     "name": "stdout",
     "output_type": "stream",
     "text": [
      "[1, 'a', <object object at 0x7d2dfe2d7830>]   has 3 leaves: [1, 'a', <object object at 0x7d2dfe2d7830>]\n",
      "(1, (2, 3), [], ())                           has 3 leaves: [1, 2, 3]\n",
      "[0, {'a': 1, 'b': (2, 'a')}, 3]               has 5 leaves: [0, 1, 2, 'a', 3]\n",
      "{'p': (7, ''), 'q': 8}                        has 3 leaves: [7, '', 8]\n",
      "Array([1, 2, 3], dtype=int32)                 has 1 leaves: [Array([1, 2, 3], dtype=int32)]\n"
     ]
    }
   ],
   "source": [
    "example_trees = [[1, 'a', object()],\n",
    "                (1, (2, 3), [], ()),\n",
    "                [0, {'a': 1, 'b': (2, 'a')}, 3],\n",
    "                {'p': (7, ''), 'q': 8},\n",
    "                jnp.array([1, 2, 3])]\n",
    "\n",
    "for tree in example_trees:\n",
    "    leaves = jax.tree_util.tree_leaves(tree)\n",
    "    print(f\"{repr(tree):<45} has {len(leaves)} leaves: {leaves}\")"
   ]
  },
  {
   "cell_type": "markdown",
   "id": "91aafa45-2472-4ff3-9955-bcaba092eefb",
   "metadata": {},
   "source": [
    "W: so, key in dict is not a leaf (?)"
   ]
  },
  {
   "cell_type": "markdown",
   "id": "0d29dd56-8af3-4242-ae6b-bbfa7707c60f",
   "metadata": {},
   "source": [
    "# why pytree?\n",
    "\n",
    "- model parameters\n",
    "- dataset entries\n",
    "- RL agent observations\n",
    "\n",
    "(+) working in bulk with datasets"
   ]
  },
  {
   "cell_type": "markdown",
   "id": "8b7a0828-c149-4acf-b1dd-af04cc5c6c5f",
   "metadata": {},
   "source": [
    "# common pytree functions"
   ]
  },
  {
   "cell_type": "markdown",
   "id": "9bbbb516-83d2-4f2b-8ac1-f12eb80e3fda",
   "metadata": {},
   "source": [
    "## jax.tree_map"
   ]
  },
  {
   "cell_type": "code",
   "execution_count": 5,
   "id": "8453c065-5f3a-47e4-aa76-d168a3ba54a0",
   "metadata": {},
   "outputs": [
    {
     "data": {
      "text/plain": [
       "[[2, 4, 6], (2, 4), {'a': 2}]"
      ]
     },
     "execution_count": 5,
     "metadata": {},
     "output_type": "execute_result"
    }
   ],
   "source": [
    "x1 = [[1, 2, 3],\n",
    "     (1, 2),\n",
    "     {'a': 1}]\n",
    "\n",
    "jax.tree_map(lambda x: 2*x, x1)"
   ]
  },
  {
   "cell_type": "markdown",
   "id": "1eb2db4c-afe4-4749-a205-a8927578105d",
   "metadata": {},
   "source": [
    "multiple arguments."
   ]
  },
  {
   "cell_type": "code",
   "execution_count": 6,
   "id": "cc0b7c8d-62a9-48b8-9d8a-9c0b3999e736",
   "metadata": {},
   "outputs": [
    {
     "name": "stdout",
     "output_type": "stream",
     "text": [
      "[[3, 6, 9], (3, 6), {'a': 3}]\n"
     ]
    },
    {
     "data": {
      "text/plain": [
       "[[4, 8, 12], (4, 8), {'a': 4}]"
      ]
     },
     "execution_count": 6,
     "metadata": {},
     "output_type": "execute_result"
    }
   ],
   "source": [
    "# x2 = map(lambda x: 3*x, x1)  # unsupported\n",
    "x2 = jax.tree_map(lambda x: 3*x, x1)  # works!\n",
    "print(x2)\n",
    "\n",
    "jax.tree_map(lambda x, y: x + y, x1, x2)"
   ]
  },
  {
   "cell_type": "code",
   "execution_count": 7,
   "id": "590907bf-23d9-4eb1-a468-87bfdb45a972",
   "metadata": {},
   "outputs": [
    {
     "name": "stdout",
     "output_type": "stream",
     "text": [
      "[[1, 2, 3], [8, 9], [1, 2]]\n"
     ]
    }
   ],
   "source": [
    "x3 = x1\n",
    "x3[1] = [8, 9]\n",
    "x3[2] = [1, 2]\n",
    "x3 = map(lambda x: x, x3)\n",
    "print(list(x3))\n",
    "\n",
    "# jax.tree_map(lambda x, y: x + y, x1, x3)  # forbidden: \n",
    "# pytree structures do not match."
   ]
  },
  {
   "cell_type": "markdown",
   "id": "84316488-2971-4463-a81e-42fcdeb69ab8",
   "metadata": {},
   "source": [
    "# ex) ML model parameters\n",
    "\n",
    "MLP (Multilayer Perceptron)"
   ]
  },
  {
   "cell_type": "code",
   "execution_count": 8,
   "id": "69092198-7e8f-49c2-98ac-51f1b1805356",
   "metadata": {},
   "outputs": [],
   "source": [
    "def init_MLP_params(layer_widths):\n",
    "    params = []\n",
    "    for n_in, n_out in zip(layer_widths[:-1], layer_widths[1:]):\n",
    "        params.append(\n",
    "            dict(weight=np.random.normal(size=(n_in, n_out))*np.sqrt(2/n_in),\n",
    "                bias=np.ones(shape=(n_out,))))\n",
    "    return params\n",
    "\n",
    "# params is a pytree: list of dicts."
   ]
  },
  {
   "cell_type": "code",
   "execution_count": 9,
   "id": "40c5a6f0-9874-4684-a703-7306aa841a0e",
   "metadata": {},
   "outputs": [],
   "source": [
    "params = init_MLP_params([1, 128, 64, 16, 1])"
   ]
  },
  {
   "cell_type": "markdown",
   "id": "3373a2bb-acac-4b5e-b0db-02b8ed4299c5",
   "metadata": {},
   "source": [
    "use jax.tree_map() to check parameters' shapes."
   ]
  },
  {
   "cell_type": "code",
   "execution_count": 10,
   "id": "602ac8cb-2b3f-40db-b497-48cdf8f720f5",
   "metadata": {},
   "outputs": [
    {
     "data": {
      "text/plain": [
       "[{'bias': (128,), 'weight': (1, 128)},\n",
       " {'bias': (64,), 'weight': (128, 64)},\n",
       " {'bias': (16,), 'weight': (64, 16)},\n",
       " {'bias': (1,), 'weight': (16, 1)}]"
      ]
     },
     "execution_count": 10,
     "metadata": {},
     "output_type": "execute_result"
    }
   ],
   "source": [
    "jax.tree_map(lambda x: x.shape, params)"
   ]
  },
  {
   "cell_type": "markdown",
   "id": "08006487-c02b-403f-b191-5f9f36721a35",
   "metadata": {},
   "source": [
    "## train\n",
    "\n",
    "- params: neural net parameters [pytree: list of dicts]\n",
    "- x: input data [batched array]\n",
    "- y: output data [batched array]\n",
    "\n",
    "jax.grad() supports pytree argument.\n",
    "\n",
    "so if we apply grad to the loss function, it finds the gradients of the loss function in terms of params (the first argument), the resulting grads is a pytree having the same structure as that of params. "
   ]
  },
  {
   "cell_type": "code",
   "execution_count": 11,
   "id": "4301f98a-453c-47ef-b985-ef10332e6a40",
   "metadata": {},
   "outputs": [],
   "source": [
    "def model(params, x):\n",
    "    *hidden_layer_params, output_layer_param = params\n",
    "    for layer_param in hidden_layer_params:\n",
    "        x = jax.nn.relu(x@layer_param[\"weight\"] + layer_param[\"bias\"])\n",
    "    return x@output_layer_param[\"weight\"] + output_layer_param[\"bias\"]\n",
    "\n",
    "def loss_function(params, x, y):\n",
    "    return jnp.mean((model(params, x) - y)**2)\n",
    "\n",
    "learning_rate = 0.0001\n",
    "\n",
    "@jit\n",
    "def update(params, x, y):\n",
    "    grads = grad(loss_function)(params, x, y)\n",
    "    return jax.tree_map(lambda p, g: p - learning_rate*g, params, grads)"
   ]
  },
  {
   "cell_type": "markdown",
   "id": "966992f7-909f-4dc0-a18d-96207b2b8238",
   "metadata": {},
   "source": [
    "## test"
   ]
  },
  {
   "cell_type": "code",
   "execution_count": 12,
   "id": "e69dae20-f852-462b-9c15-a149c9259174",
   "metadata": {},
   "outputs": [],
   "source": [
    "import plotly.express as px\n",
    "import plotly.io as pio\n",
    "pio.renderers.default = 'iframe'"
   ]
  },
  {
   "cell_type": "code",
   "execution_count": 13,
   "id": "6f3fad20-138a-4467-b773-67ef110f4483",
   "metadata": {},
   "outputs": [],
   "source": [
    "import plotly.graph_objects as go"
   ]
  },
  {
   "cell_type": "code",
   "execution_count": 14,
   "id": "58f5aed4-4347-4b6f-96de-2a4672b982d4",
   "metadata": {},
   "outputs": [],
   "source": [
    "x = np.random.normal(size=(100, 1))\n",
    "y = x**2"
   ]
  },
  {
   "cell_type": "code",
   "execution_count": 15,
   "id": "956aa0fb-3338-47f0-bdd7-f1efb0e39ef4",
   "metadata": {},
   "outputs": [],
   "source": [
    "num_iterations = 1000\n",
    "for _ in range(num_iterations):\n",
    "    params = update(params, x, y)"
   ]
  },
  {
   "cell_type": "code",
   "execution_count": 16,
   "id": "a08a370e-267a-4da3-b6d9-7a2af9509e51",
   "metadata": {},
   "outputs": [
    {
     "data": {
      "text/html": [
       "<iframe\n",
       "    scrolling=\"no\"\n",
       "    width=\"100%\"\n",
       "    height=\"545px\"\n",
       "    src=\"iframe_figures/figure_16.html\"\n",
       "    frameborder=\"0\"\n",
       "    allowfullscreen\n",
       "></iframe>\n"
      ]
     },
     "metadata": {},
     "output_type": "display_data"
    }
   ],
   "source": [
    "fig = go.Figure()\n",
    "fig.add_trace(go.Scatter(x=x.squeeze(), y=y.squeeze(),\n",
    "                        mode=\"markers\"))\n",
    "fig.add_trace(go.Scatter(x=x.squeeze(), y=model(params, x).squeeze(),\n",
    "                        mode=\"markers\"))\n",
    "\n",
    "fig.show()"
   ]
  },
  {
   "cell_type": "markdown",
   "id": "a082b219-e953-4ecf-a826-3d1fc1b3ae1d",
   "metadata": {},
   "source": [
    "# key_paths"
   ]
  },
  {
   "cell_type": "markdown",
   "id": "6293afc6-bf44-4d3c-99f3-a77243416e99",
   "metadata": {},
   "source": [
    "each leaf has a **key path**: list of keys\n",
    "\n",
    "- lenght of key path == depth of the leaf in the pytree\n",
    "- **key**: a hashable object that represents an index into the corresponding pytree node.\n",
    "    - key type: depends on the pytree node type.\n",
    "\n",
    "<br />\n",
    "\n",
    "- **default key types : built-in python node types**\n",
    "    - SequenceKey(idx: int) : list, tuple\n",
    "    - DictKey(key, hashable) : dict\n",
    "    - GetAttrKey(name: str) : namedtuple, custom pytree node \n",
    "\n",
    "for built-in pytree node types, the set of keys for any pytree node instance is unique. for a pytree comprising nodes with this property, the key path for each leaf is unique."
   ]
  },
  {
   "cell_type": "markdown",
   "id": "71da2fa2-aa12-4920-b13e-aa583f01e0bd",
   "metadata": {},
   "source": [
    "## ex) track key paths for all values in a pytree"
   ]
  },
  {
   "cell_type": "code",
   "execution_count": 17,
   "id": "500e2e2d-940b-4efa-987d-403ed0667e8e",
   "metadata": {},
   "outputs": [],
   "source": [
    "import collections"
   ]
  },
  {
   "cell_type": "code",
   "execution_count": 18,
   "id": "555bf270-4874-4e34-998f-4808ad4e66bb",
   "metadata": {},
   "outputs": [],
   "source": [
    "a = collections.namedtuple(\"a\", [\"school\", \"name\", \"age\"])\n",
    "\n",
    "tree = [7, {\"key1\": 3, \"key2\": 8}, [2], ((0)), a(\"MSS\", \"Arz\", \"27\")]"
   ]
  },
  {
   "cell_type": "code",
   "execution_count": 19,
   "id": "4db29c07-8c90-4d58-ab5b-0f0a5e7ae440",
   "metadata": {},
   "outputs": [
    {
     "name": "stdout",
     "output_type": "stream",
     "text": [
      "value at key path: tree[0] is 7\n",
      "value at key path: tree[1]['key1'] is 3\n",
      "value at key path: tree[1]['key2'] is 8\n",
      "value at key path: tree[2][0] is 2\n",
      "value at key path: tree[3] is 0\n",
      "value at key path: tree[4].school is MSS\n",
      "value at key path: tree[4].name is Arz\n",
      "value at key path: tree[4].age is 27\n"
     ]
    }
   ],
   "source": [
    "key_path_and_keys, _ = jax.tree_util.tree_flatten_with_path(tree)\n",
    "\n",
    "for key_path, value in key_path_and_keys:\n",
    "    print(f'value at key path: tree{jax.tree_util.keystr(key_path)} is {value}')"
   ]
  },
  {
   "cell_type": "code",
   "execution_count": 20,
   "id": "54789456-e26c-4e6a-b2f0-463633f4f676",
   "metadata": {},
   "outputs": [
    {
     "name": "stdout",
     "output_type": "stream",
     "text": [
      "key path: tree[0] has key types\n",
      " (SequenceKey(idx=0),)\n",
      "key path: tree[1]['key1'] has key types\n",
      " (SequenceKey(idx=1), DictKey(key='key1'))\n",
      "key path: tree[1]['key2'] has key types\n",
      " (SequenceKey(idx=1), DictKey(key='key2'))\n",
      "key path: tree[2][0] has key types\n",
      " (SequenceKey(idx=2), SequenceKey(idx=0))\n",
      "key path: tree[3] has key types\n",
      " (SequenceKey(idx=3),)\n",
      "key path: tree[4].school has key types\n",
      " (SequenceKey(idx=4), GetAttrKey(name='school'))\n",
      "key path: tree[4].name has key types\n",
      " (SequenceKey(idx=4), GetAttrKey(name='name'))\n",
      "key path: tree[4].age has key types\n",
      " (SequenceKey(idx=4), GetAttrKey(name='age'))\n"
     ]
    }
   ],
   "source": [
    "for key_path, value in key_path_and_keys:\n",
    "    print(f'key path: tree{jax.tree_util.keystr(key_path)} has key types\\n {repr(key_path)}')"
   ]
  },
  {
   "cell_type": "markdown",
   "id": "211664b2-5f7e-4a02-8056-3b4296869f7e",
   "metadata": {},
   "source": [
    "# custom pytree nodes\n",
    "\n",
    "user-defined container class is considered as a leaf, since it is not an official pytree container (list, tuple, dict)."
   ]
  },
  {
   "cell_type": "code",
   "execution_count": 21,
   "id": "d965c915-7d8a-4437-a5b8-f4c4b7e16ed3",
   "metadata": {},
   "outputs": [],
   "source": [
    "class My_Container:\n",
    "    \"\"\"user-defined container: is a leaf\"\"\"\n",
    "\n",
    "    def __init__(self, name: str, level: int, rankings: list[int]):\n",
    "        self.name = name\n",
    "        self.level = level\n",
    "        self.rankings = rankings"
   ]
  },
  {
   "cell_type": "code",
   "execution_count": 22,
   "id": "58582a66-b935-49be-8497-710ea6ba2f85",
   "metadata": {},
   "outputs": [
    {
     "data": {
      "text/plain": [
       "[<__main__.My_Container at 0x7d2cccd4a8d0>,\n",
       " <__main__.My_Container at 0x7d2cccd0f380>,\n",
       " 'mutant',\n",
       " 100,\n",
       " 0,\n",
       " 0,\n",
       " 0,\n",
       " <__main__.My_Container at 0x7d2d38287f50>]"
      ]
     },
     "execution_count": 22,
     "metadata": {},
     "output_type": "execute_result"
    }
   ],
   "source": [
    "players_including_mutant = [My_Container(\"Arz\", 64, [92925, 91501, 875]),\n",
    "                            My_Container(\"Ssr\", 64, [101973, 97323, 1212]),\n",
    "                            (\"mutant\", 100, [0, 0, 0]),\n",
    "                            My_Container(\"Nov\", 57, [124953, 134056, 7249])]\n",
    "\n",
    "jax.tree_util.tree_leaves(players_including_mutant)"
   ]
  },
  {
   "cell_type": "markdown",
   "id": "19402829-3cf5-4902-8e23-11ff3cc6b00f",
   "metadata": {},
   "source": [
    "you see. My_Container is classified as leaf, while list and tuple are not."
   ]
  },
  {
   "cell_type": "markdown",
   "id": "2e13df17-0a5e-48a6-807e-601d36949da8",
   "metadata": {},
   "source": [
    "My_Container is not a pytree, so it is not supported by pytree functions such as jax.tree_map()."
   ]
  },
  {
   "cell_type": "code",
   "execution_count": 23,
   "id": "d10b1518-4b58-41ef-bda3-5357c7a2f8ff",
   "metadata": {},
   "outputs": [
    {
     "name": "stdout",
     "output_type": "stream",
     "text": [
      "TypeError: unsupported operand type(s) for +: 'My_Container' and 'int'\n"
     ]
    }
   ],
   "source": [
    "try:\n",
    "    jax.tree_map(lambda x: x + 1, players_including_mutant)\n",
    "except TypeError as e:\n",
    "    print(f\"TypeError: {e}\")"
   ]
  },
  {
   "cell_type": "markdown",
   "id": "4b1bd9c6-022e-40fa-807b-367c48882535",
   "metadata": {},
   "source": [
    "## register custom node"
   ]
  },
  {
   "cell_type": "markdown",
   "id": "b62b1727-05a9-4c68-8166-b12655da41c7",
   "metadata": {},
   "source": [
    "### method #1: define flatten and unflatten"
   ]
  },
  {
   "cell_type": "code",
   "execution_count": 24,
   "id": "2f4d6a28-7025-44ef-bbc5-c505f80049f9",
   "metadata": {},
   "outputs": [],
   "source": [
    "from typing import Iterable"
   ]
  },
  {
   "cell_type": "code",
   "execution_count": 25,
   "id": "4b54b969-fb6b-42db-bf42-1a9b7e9ff0b6",
   "metadata": {},
   "outputs": [],
   "source": [
    "def flatten_My_Container(my_container) -> tuple[tuple[int, Iterable[int]], str]:\n",
    "    flat_contents = (my_container.level, my_container.rankings)\n",
    "    aux_data = my_container.name\n",
    "    return flat_contents, aux_data\n",
    "\n",
    "def unflatten_My_Containter(aux_data: str, flat_contents: tuple[int, Iterable[int]]) -> My_Container:\n",
    "    return My_Container(aux_data, *flat_contents)"
   ]
  },
  {
   "cell_type": "code",
   "execution_count": 26,
   "id": "3b4bbb97-1b12-4afc-a60e-306279dc9ef5",
   "metadata": {},
   "outputs": [],
   "source": [
    "jax.tree_util.register_pytree_node(My_Container, flatten_My_Container, unflatten_My_Containter)"
   ]
  },
  {
   "cell_type": "code",
   "execution_count": 27,
   "id": "a97fe5f9-503c-4119-ad05-23c781f3a149",
   "metadata": {},
   "outputs": [],
   "source": [
    "players = [My_Container(\"Arz\", 64, [92925, 91501, 875]),\n",
    "           My_Container(\"Ssr\", 64, [101973, 97323, 1212]),\n",
    "           My_Container(\"Nov\", 57, [124953, 134056, 7249])]\n",
    "\n",
    "players_including_mutant = [My_Container(\"Arz\", 64, [92925, 91501, 875]),\n",
    "                            My_Container(\"Ssr\", 64, [101973, 97323, 1212]),\n",
    "                            (\"mutant\", 100, [0, 0, 0]),\n",
    "                            My_Container(\"Nov\", 57, [124953, 134056, 7249])]"
   ]
  },
  {
   "cell_type": "code",
   "execution_count": 28,
   "id": "748954b9-e190-4b93-9804-6c06f9fe6a39",
   "metadata": {},
   "outputs": [
    {
     "data": {
      "text/plain": [
       "[64,\n",
       " 92925,\n",
       " 91501,\n",
       " 875,\n",
       " 64,\n",
       " 101973,\n",
       " 97323,\n",
       " 1212,\n",
       " 'mutant',\n",
       " 100,\n",
       " 0,\n",
       " 0,\n",
       " 0,\n",
       " 57,\n",
       " 124953,\n",
       " 134056,\n",
       " 7249]"
      ]
     },
     "execution_count": 28,
     "metadata": {},
     "output_type": "execute_result"
    }
   ],
   "source": [
    "jax.tree_util.tree_leaves(players_including_mutant)"
   ]
  },
  {
   "cell_type": "code",
   "execution_count": 29,
   "id": "2ced08e9-24ab-4380-9a6c-d9b536ceba50",
   "metadata": {},
   "outputs": [
    {
     "data": {
      "text/plain": [
       "[65, 92926, 91502, 876, 65, 101974, 97324, 1213, 58, 124954, 134057, 7250]"
      ]
     },
     "execution_count": 29,
     "metadata": {},
     "output_type": "execute_result"
    }
   ],
   "source": [
    "players_updated = jax.tree_map(lambda x: x + 1, players)\n",
    "\n",
    "jax.tree_util.tree_leaves(players_updated)"
   ]
  },
  {
   "cell_type": "markdown",
   "id": "34a0deb4-38aa-45c1-98c5-26e4af8bcbca",
   "metadata": {},
   "source": [
    "in this case, the key for the custom node has key type: **FlattenedIndexKey** and the index is **flat index**"
   ]
  },
  {
   "cell_type": "code",
   "execution_count": 30,
   "id": "b817e42a-d1a8-42d1-ac50-a27671631ed7",
   "metadata": {},
   "outputs": [
    {
     "name": "stdout",
     "output_type": "stream",
     "text": [
      "key path: tree[0][<flat index 0>] has key types\n",
      " (SequenceKey(idx=0), FlattenedIndexKey(key=0))\n",
      "key path: tree[0][<flat index 1>][0] has key types\n",
      " (SequenceKey(idx=0), FlattenedIndexKey(key=1), SequenceKey(idx=0))\n",
      "key path: tree[0][<flat index 1>][1] has key types\n",
      " (SequenceKey(idx=0), FlattenedIndexKey(key=1), SequenceKey(idx=1))\n",
      "key path: tree[0][<flat index 1>][2] has key types\n",
      " (SequenceKey(idx=0), FlattenedIndexKey(key=1), SequenceKey(idx=2))\n",
      "key path: tree[1][<flat index 0>] has key types\n",
      " (SequenceKey(idx=1), FlattenedIndexKey(key=0))\n",
      "key path: tree[1][<flat index 1>][0] has key types\n",
      " (SequenceKey(idx=1), FlattenedIndexKey(key=1), SequenceKey(idx=0))\n",
      "key path: tree[1][<flat index 1>][1] has key types\n",
      " (SequenceKey(idx=1), FlattenedIndexKey(key=1), SequenceKey(idx=1))\n",
      "key path: tree[1][<flat index 1>][2] has key types\n",
      " (SequenceKey(idx=1), FlattenedIndexKey(key=1), SequenceKey(idx=2))\n",
      "key path: tree[2][0] has key types\n",
      " (SequenceKey(idx=2), SequenceKey(idx=0))\n",
      "key path: tree[2][1] has key types\n",
      " (SequenceKey(idx=2), SequenceKey(idx=1))\n",
      "key path: tree[2][2][0] has key types\n",
      " (SequenceKey(idx=2), SequenceKey(idx=2), SequenceKey(idx=0))\n",
      "key path: tree[2][2][1] has key types\n",
      " (SequenceKey(idx=2), SequenceKey(idx=2), SequenceKey(idx=1))\n",
      "key path: tree[2][2][2] has key types\n",
      " (SequenceKey(idx=2), SequenceKey(idx=2), SequenceKey(idx=2))\n",
      "key path: tree[3][<flat index 0>] has key types\n",
      " (SequenceKey(idx=3), FlattenedIndexKey(key=0))\n",
      "key path: tree[3][<flat index 1>][0] has key types\n",
      " (SequenceKey(idx=3), FlattenedIndexKey(key=1), SequenceKey(idx=0))\n",
      "key path: tree[3][<flat index 1>][1] has key types\n",
      " (SequenceKey(idx=3), FlattenedIndexKey(key=1), SequenceKey(idx=1))\n",
      "key path: tree[3][<flat index 1>][2] has key types\n",
      " (SequenceKey(idx=3), FlattenedIndexKey(key=1), SequenceKey(idx=2))\n"
     ]
    }
   ],
   "source": [
    "key_path_and_keys, _ = jax.tree_util.tree_flatten_with_path(players_including_mutant)\n",
    "\n",
    "for key_path, value in key_path_and_keys:\n",
    "    print(f'key path: tree{jax.tree_util.keystr(key_path)} has key types\\n {repr(key_path)}')"
   ]
  },
  {
   "cell_type": "markdown",
   "id": "1c729de8-b966-4f07-be78-43b380a20f7b",
   "metadata": {},
   "source": [
    "### method #2: extended method #1 with keys"
   ]
  },
  {
   "cell_type": "code",
   "execution_count": 31,
   "id": "be0cfeb4-30b7-4e53-9ca3-d800d6e760ad",
   "metadata": {},
   "outputs": [],
   "source": [
    "class My_Container_With_Key(My_Container):\n",
    "    pass\n",
    "\n",
    "def flatten_My_Container_With_Key(my_container_with_key) -> tuple[tuple[int, Iterable[int]], str]:\n",
    "    # GetAttrKey is a common choice.\n",
    "    flat_contents = ((jax.tree_util.GetAttrKey(\"level\"), my_container_with_key.level), \n",
    "                     (jax.tree_util.GetAttrKey(\"rankings\"), my_container_with_key.rankings))\n",
    "    aux_data = my_container_with_key.name\n",
    "    return flat_contents, aux_data\n",
    "\n",
    "def unflatten_My_Containter_With_Key(aux_data: str, flat_contents: tuple[int, Iterable[int]]) -> My_Container_With_Key:\n",
    "    return My_Container_With_Key(aux_data, *flat_contents)"
   ]
  },
  {
   "cell_type": "code",
   "execution_count": 32,
   "id": "a49aa6fe-b445-470e-81e5-978cc1afc2ba",
   "metadata": {},
   "outputs": [],
   "source": [
    "jax.tree_util.register_pytree_with_keys(My_Container_With_Key, flatten_My_Container_With_Key, unflatten_My_Containter_With_Key)"
   ]
  },
  {
   "cell_type": "code",
   "execution_count": 33,
   "id": "db1aa938-f523-4642-898a-f1fd5bd7aa8e",
   "metadata": {},
   "outputs": [],
   "source": [
    "players = [My_Container_With_Key(\"Arz\", 64, [92925, 91501, 875]),\n",
    "           My_Container_With_Key(\"Ssr\", 64, [101973, 97323, 1212]),\n",
    "           My_Container_With_Key(\"Nov\", 57, [124953, 134056, 7249])]\n",
    "\n",
    "players_including_mutant = [My_Container_With_Key(\"Arz\", 64, [92925, 91501, 875]),\n",
    "                            My_Container_With_Key(\"Ssr\", 64, [101973, 97323, 1212]),\n",
    "                            (\"mutant\", 100, [0, 0, 0]),\n",
    "                            My_Container_With_Key(\"Nov\", 57, [124953, 134056, 7249])]"
   ]
  },
  {
   "cell_type": "code",
   "execution_count": 34,
   "id": "7d612b65-3559-4a5f-942a-9453a0147424",
   "metadata": {},
   "outputs": [
    {
     "data": {
      "text/plain": [
       "[64,\n",
       " 92925,\n",
       " 91501,\n",
       " 875,\n",
       " 64,\n",
       " 101973,\n",
       " 97323,\n",
       " 1212,\n",
       " 'mutant',\n",
       " 100,\n",
       " 0,\n",
       " 0,\n",
       " 0,\n",
       " 57,\n",
       " 124953,\n",
       " 134056,\n",
       " 7249]"
      ]
     },
     "execution_count": 34,
     "metadata": {},
     "output_type": "execute_result"
    }
   ],
   "source": [
    "jax.tree_util.tree_leaves(players_including_mutant)"
   ]
  },
  {
   "cell_type": "code",
   "execution_count": 35,
   "id": "2edcf7ca-6af0-4c36-936f-c77febf3bb0c",
   "metadata": {},
   "outputs": [
    {
     "data": {
      "text/plain": [
       "[65, 92926, 91502, 876, 65, 101974, 97324, 1213, 58, 124954, 134057, 7250]"
      ]
     },
     "execution_count": 35,
     "metadata": {},
     "output_type": "execute_result"
    }
   ],
   "source": [
    "players_updated = jax.tree_map(lambda x: x + 1, players)\n",
    "\n",
    "jax.tree_util.tree_leaves(players_updated)"
   ]
  },
  {
   "cell_type": "markdown",
   "id": "a18119ad-fc9d-4327-897e-479f5ea9c615",
   "metadata": {},
   "source": [
    "in this case, the key for the custom node has key type: **GetAttrKey**."
   ]
  },
  {
   "cell_type": "code",
   "execution_count": 36,
   "id": "3e8cdc25-c235-449c-8195-c1e9b4a606f1",
   "metadata": {},
   "outputs": [
    {
     "name": "stdout",
     "output_type": "stream",
     "text": [
      "key path: tree[0].level has key types\n",
      " (SequenceKey(idx=0), GetAttrKey(name='level'))\n",
      "key path: tree[0].rankings[0] has key types\n",
      " (SequenceKey(idx=0), GetAttrKey(name='rankings'), SequenceKey(idx=0))\n",
      "key path: tree[0].rankings[1] has key types\n",
      " (SequenceKey(idx=0), GetAttrKey(name='rankings'), SequenceKey(idx=1))\n",
      "key path: tree[0].rankings[2] has key types\n",
      " (SequenceKey(idx=0), GetAttrKey(name='rankings'), SequenceKey(idx=2))\n",
      "key path: tree[1].level has key types\n",
      " (SequenceKey(idx=1), GetAttrKey(name='level'))\n",
      "key path: tree[1].rankings[0] has key types\n",
      " (SequenceKey(idx=1), GetAttrKey(name='rankings'), SequenceKey(idx=0))\n",
      "key path: tree[1].rankings[1] has key types\n",
      " (SequenceKey(idx=1), GetAttrKey(name='rankings'), SequenceKey(idx=1))\n",
      "key path: tree[1].rankings[2] has key types\n",
      " (SequenceKey(idx=1), GetAttrKey(name='rankings'), SequenceKey(idx=2))\n",
      "key path: tree[2][0] has key types\n",
      " (SequenceKey(idx=2), SequenceKey(idx=0))\n",
      "key path: tree[2][1] has key types\n",
      " (SequenceKey(idx=2), SequenceKey(idx=1))\n",
      "key path: tree[2][2][0] has key types\n",
      " (SequenceKey(idx=2), SequenceKey(idx=2), SequenceKey(idx=0))\n",
      "key path: tree[2][2][1] has key types\n",
      " (SequenceKey(idx=2), SequenceKey(idx=2), SequenceKey(idx=1))\n",
      "key path: tree[2][2][2] has key types\n",
      " (SequenceKey(idx=2), SequenceKey(idx=2), SequenceKey(idx=2))\n",
      "key path: tree[3].level has key types\n",
      " (SequenceKey(idx=3), GetAttrKey(name='level'))\n",
      "key path: tree[3].rankings[0] has key types\n",
      " (SequenceKey(idx=3), GetAttrKey(name='rankings'), SequenceKey(idx=0))\n",
      "key path: tree[3].rankings[1] has key types\n",
      " (SequenceKey(idx=3), GetAttrKey(name='rankings'), SequenceKey(idx=1))\n",
      "key path: tree[3].rankings[2] has key types\n",
      " (SequenceKey(idx=3), GetAttrKey(name='rankings'), SequenceKey(idx=2))\n"
     ]
    }
   ],
   "source": [
    "key_path_and_keys, _ = jax.tree_util.tree_flatten_with_path(players_including_mutant)\n",
    "\n",
    "for key_path, value in key_path_and_keys:\n",
    "    print(f'key path: tree{jax.tree_util.keystr(key_path)} has key types\\n {repr(key_path)}')"
   ]
  },
  {
   "cell_type": "markdown",
   "id": "a06cdffd-4e99-4209-9de3-360a5e712fae",
   "metadata": {},
   "source": [
    "## NamedTuple\n",
    "\n",
    "NamedTuple is already a supported pytree type."
   ]
  },
  {
   "cell_type": "code",
   "execution_count": 37,
   "id": "17cd090a-c9cb-4dae-a125-332253f49172",
   "metadata": {},
   "outputs": [],
   "source": [
    "from typing import NamedTuple, Any"
   ]
  },
  {
   "cell_type": "code",
   "execution_count": 38,
   "id": "155a7151-0f41-414e-9267-fd81a83d2766",
   "metadata": {},
   "outputs": [],
   "source": [
    "class My_NamedTuple_Container(NamedTuple):\n",
    "    name: str\n",
    "    id_number: int\n",
    "    pets: Any    "
   ]
  },
  {
   "cell_type": "code",
   "execution_count": 39,
   "id": "d9ca8be3-aa4a-448e-bc8e-21d9af8110dc",
   "metadata": {},
   "outputs": [],
   "source": [
    "butlers = [My_NamedTuple_Container(\"butler1\", 1, [\"cat1\", \"cat2\", \"dog1\"]),\n",
    "          My_NamedTuple_Container(\"butler2\", 2, [\"cat1\", \"owl1\"])]"
   ]
  },
  {
   "cell_type": "code",
   "execution_count": 40,
   "id": "dd1641ef-d08b-4ee8-b52e-af5465976e93",
   "metadata": {},
   "outputs": [
    {
     "data": {
      "text/plain": [
       "['butler1', 1, 'cat1', 'cat2', 'dog1', 'butler2', 2, 'cat1', 'owl1']"
      ]
     },
     "execution_count": 40,
     "metadata": {},
     "output_type": "execute_result"
    }
   ],
   "source": [
    "jax.tree_util.tree_leaves(butlers)"
   ]
  },
  {
   "cell_type": "markdown",
   "id": "0fc245ef-701e-4e88-b22d-c9a3d649d9a4",
   "metadata": {},
   "source": [
    "but now *name* appears as leaf. "
   ]
  },
  {
   "cell_type": "markdown",
   "id": "f0e97a3f-f8ed-4f3a-87f2-c0f87b16f56d",
   "metadata": {},
   "source": [
    "### shortcut: register_static\n",
    "\n",
    "use register_static to keep *name* as aux_data rather than a child."
   ]
  },
  {
   "cell_type": "code",
   "execution_count": 41,
   "id": "81bfbedb-2cc8-47c9-8ac0-fe49d1a2c4c8",
   "metadata": {},
   "outputs": [],
   "source": [
    "@jax.tree_util.register_static\n",
    "class Static_String(str):\n",
    "    pass\n",
    "\n",
    "class My_NamedTuple_Container_With_Static_Name(NamedTuple):\n",
    "    name: Static_String\n",
    "    id_number: int\n",
    "    pets: Any"
   ]
  },
  {
   "cell_type": "code",
   "execution_count": 42,
   "id": "aaa56c81-789b-44ae-ae55-b86968c9593d",
   "metadata": {},
   "outputs": [],
   "source": [
    "butlers = [My_NamedTuple_Container_With_Static_Name(Static_String(\"butler1\"), 1, [\"cat1\", \"cat2\", \"dog1\"]),\n",
    "          My_NamedTuple_Container_With_Static_Name(Static_String(\"butler2\"), 2, [\"cat1\", \"owl1\"])]"
   ]
  },
  {
   "cell_type": "code",
   "execution_count": 43,
   "id": "85d4fd4b-e74b-4e6f-8c68-c71da81a9ebf",
   "metadata": {},
   "outputs": [
    {
     "data": {
      "text/plain": [
       "[1, 'cat1', 'cat2', 'dog1', 2, 'cat1', 'owl1']"
      ]
     },
     "execution_count": 43,
     "metadata": {},
     "output_type": "execute_result"
    }
   ],
   "source": [
    "jax.tree_util.tree_leaves(butlers)"
   ]
  },
  {
   "cell_type": "markdown",
   "id": "5053c2b4-814d-49cb-9f22-8169efa8eaff",
   "metadata": {},
   "source": [
    "now *name* disappears. "
   ]
  },
  {
   "cell_type": "markdown",
   "id": "deee970e-8795-4c81-93ac-86862cc0885e",
   "metadata": {},
   "source": [
    "# common pytree gotchas and patterns"
   ]
  },
  {
   "cell_type": "markdown",
   "id": "1c222134-ae4b-409b-95f5-e4fae1fd613b",
   "metadata": {},
   "source": [
    "## gotchas"
   ]
  },
  {
   "cell_type": "markdown",
   "id": "8201faa3-cad5-4574-867d-4c54262bf382",
   "metadata": {},
   "source": [
    "### mistaking nodes for leaves"
   ]
  },
  {
   "cell_type": "code",
   "execution_count": 44,
   "id": "bbea8c23-e2a0-4938-88eb-99467a475ee8",
   "metadata": {},
   "outputs": [],
   "source": [
    "a = [jnp.zeros((3, 1)), jnp.zeros((2, 6))]\n",
    "\n",
    "shapes_of_a = jax.tree_map(lambda x: x.shape, a)\n",
    "\n",
    "b = jax.tree_map(jnp.ones, shapes_of_a)"
   ]
  },
  {
   "cell_type": "code",
   "execution_count": 45,
   "id": "62ac5349-aa8c-41e0-b807-e879e02e4596",
   "metadata": {},
   "outputs": [
    {
     "name": "stdout",
     "output_type": "stream",
     "text": [
      "[Array([[0.],\n",
      "       [0.],\n",
      "       [0.]], dtype=float32), Array([[0., 0., 0., 0., 0., 0.],\n",
      "       [0., 0., 0., 0., 0., 0.]], dtype=float32)]\n",
      "[(3, 1), (2, 6)]\n",
      "[(Array([1., 1., 1.], dtype=float32), Array([1.], dtype=float32)), (Array([1., 1.], dtype=float32), Array([1., 1., 1., 1., 1., 1.], dtype=float32))]\n"
     ]
    }
   ],
   "source": [
    "print(a)\n",
    "print(shapes_of_a)\n",
    "print(b)"
   ]
  },
  {
   "cell_type": "markdown",
   "id": "6c7db84f-97d8-40d9-9591-99fbb61455e4",
   "metadata": {},
   "source": [
    ".shape returns tuple, so its elements are the leaves to which tree_map is applying the ones operation."
   ]
  },
  {
   "cell_type": "markdown",
   "id": "b70aa99c-d15d-4c55-abb2-f4f0d46fb2b1",
   "metadata": {},
   "source": [
    "**two example approachs to solve this issue**\n",
    "\n",
    "- method #1: rewrite the code to avoid the intermediate tree_map.\n",
    "- method #2: convert the tuple into np.array or jnp.array, which makes the entire sequence a leaf."
   ]
  },
  {
   "cell_type": "markdown",
   "id": "490f8b2b-d4f1-4713-9f9e-68acac7d8842",
   "metadata": {},
   "source": [
    "ex) method #2"
   ]
  },
  {
   "cell_type": "code",
   "execution_count": 46,
   "id": "f1ae3d72-b53a-4ab7-a963-a1618393d0d1",
   "metadata": {},
   "outputs": [],
   "source": [
    "shapes_of_a = jax.tree_map(lambda x: jnp.array(x.shape), a)\n",
    "\n",
    "b = jax.tree_map(jnp.ones, shapes_of_a)"
   ]
  },
  {
   "cell_type": "code",
   "execution_count": 47,
   "id": "2c3b9111-7eac-4861-913f-c9ee30428bae",
   "metadata": {},
   "outputs": [
    {
     "name": "stdout",
     "output_type": "stream",
     "text": [
      "[Array([3, 1], dtype=int32), Array([2, 6], dtype=int32)]\n",
      "[Array([[1.],\n",
      "       [1.],\n",
      "       [1.]], dtype=float32), Array([[1., 1., 1., 1., 1., 1.],\n",
      "       [1., 1., 1., 1., 1., 1.]], dtype=float32)]\n"
     ]
    }
   ],
   "source": [
    "print(shapes_of_a)\n",
    "print(b)"
   ]
  },
  {
   "cell_type": "markdown",
   "id": "18c7121c-dff2-431c-987e-0a0a578dcf9a",
   "metadata": {},
   "source": [
    "### handling of None\n",
    "\n",
    "jax.tree_utils treats None as a node without children, not as a leaf."
   ]
  },
  {
   "cell_type": "code",
   "execution_count": 48,
   "id": "ceacd284-94b1-4037-a362-c7ff3d6e78bd",
   "metadata": {},
   "outputs": [
    {
     "data": {
      "text/plain": [
       "[]"
      ]
     },
     "execution_count": 48,
     "metadata": {},
     "output_type": "execute_result"
    }
   ],
   "source": [
    "jax.tree_util.tree_leaves([None, None, None])"
   ]
  },
  {
   "cell_type": "markdown",
   "id": "c96370f9-4021-4d85-8058-85ca53f0be65",
   "metadata": {},
   "source": [
    "## patterns"
   ]
  },
  {
   "cell_type": "markdown",
   "id": "8a441254-3cc3-45f6-a0bc-1f0d54427d42",
   "metadata": {},
   "source": [
    "### transposing trees"
   ]
  },
  {
   "cell_type": "markdown",
   "id": "1ad47b1f-407b-4085-9739-ad92e43fa946",
   "metadata": {},
   "source": [
    "ex) (?) list of trees ---> tree of lists"
   ]
  },
  {
   "cell_type": "code",
   "execution_count": 49,
   "id": "70e59c41-1fd8-4bf3-8cdc-348ec5ebdc02",
   "metadata": {},
   "outputs": [],
   "source": [
    "def transpose_list_of_trees(list_of_trees):\n",
    "    \"\"\"convert a list of trees of identical structure into a single tree of lists.\"\"\"\n",
    "    return jax.tree_map(lambda *x: list(x), *list_of_trees)"
   ]
  },
  {
   "cell_type": "code",
   "execution_count": 50,
   "id": "4118de9d-d0f8-4022-88ea-ad8cd768519a",
   "metadata": {},
   "outputs": [
    {
     "name": "stdout",
     "output_type": "stream",
     "text": [
      "[{'t': 0, 'obs': (0, 0)}, {'t': 1, 'obs': (1, 2)}, {'t': 2, 'obs': (3, -1)}]\n"
     ]
    },
    {
     "data": {
      "text/plain": [
       "{'obs': ([0, 1, 3], [0, 2, -1]), 't': [0, 1, 2]}"
      ]
     },
     "execution_count": 50,
     "metadata": {},
     "output_type": "execute_result"
    }
   ],
   "source": [
    "episode_steps = [dict(t=0, obs=(0, 0)),\n",
    "                dict(t=1, obs=(1, 2)),\n",
    "                dict(t=2, obs=(3, -1))]\n",
    "print(episode_steps)\n",
    "\n",
    "transpose_list_of_trees(episode_steps)"
   ]
  },
  {
   "cell_type": "markdown",
   "id": "64c2b72d-5471-46e6-b362-c86cab7a6f88",
   "metadata": {},
   "source": [
    "**for more complicated transposes**\n",
    "\n",
    "use jax.tree_transpose, which is more verbose, but allows you specify the structure of the inner and outer Pytree for more flexibility."
   ]
  },
  {
   "cell_type": "code",
   "execution_count": 53,
   "id": "83e2a170-8b08-419b-abfc-d6be346569ce",
   "metadata": {},
   "outputs": [
    {
     "data": {
      "text/plain": [
       "{'obs': ([0, 1, 3], [0, 2, -1]), 't': [0, 1, 2]}"
      ]
     },
     "execution_count": 53,
     "metadata": {},
     "output_type": "execute_result"
    }
   ],
   "source": [
    "jax.tree.transpose(\n",
    "    outer_treedef=jax.tree.structure([0 for e in episode_steps]),\n",
    "    inner_treedef=jax.tree.structure(episode_steps[0]),\n",
    "    pytree_to_transpose=episode_steps)"
   ]
  },
  {
   "cell_type": "code",
   "execution_count": null,
   "id": "af2efb89-28f4-4d0a-acf7-fbe3fa1e3ee3",
   "metadata": {},
   "outputs": [],
   "source": []
  }
 ],
 "metadata": {
  "kernelspec": {
   "display_name": "Python 3 (ipykernel)",
   "language": "python",
   "name": "python3"
  },
  "language_info": {
   "codemirror_mode": {
    "name": "ipython",
    "version": 3
   },
   "file_extension": ".py",
   "mimetype": "text/x-python",
   "name": "python",
   "nbconvert_exporter": "python",
   "pygments_lexer": "ipython3",
   "version": "3.11.9"
  }
 },
 "nbformat": 4,
 "nbformat_minor": 5
}
