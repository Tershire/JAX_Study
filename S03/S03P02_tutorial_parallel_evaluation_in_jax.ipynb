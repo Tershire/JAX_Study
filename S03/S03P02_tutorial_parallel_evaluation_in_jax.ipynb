{
 "cells": [
  {
   "cell_type": "markdown",
   "id": "dc5a3999-fa63-4642-b2ef-f7e111182913",
   "metadata": {},
   "source": [
    "**S03P02_tutorial_parallel_evaluation_in_jax.ipynb**\n",
    "\n",
    "Arz\n",
    "\n",
    "2024 APR 21 (SUN)\n",
    "\n",
    "reference:\n",
    "https://jax.readthedocs.io/en/latest/jax-101/06-parallelism.html"
   ]
  },
  {
   "cell_type": "code",
   "execution_count": 2,
   "id": "76f31ce7-e4ce-4763-80d6-373cd65574da",
   "metadata": {},
   "outputs": [],
   "source": [
    "import numpy as np"
   ]
  },
  {
   "cell_type": "code",
   "execution_count": 3,
   "id": "ae255041-0388-46b5-8d96-05c07dc83f4b",
   "metadata": {},
   "outputs": [],
   "source": [
    "import jax\n",
    "import jax.numpy as jnp\n",
    "from jax import lax\n",
    "from jax import grad, jit, vmap\n",
    "from jax import random"
   ]
  },
  {
   "cell_type": "code",
   "execution_count": 4,
   "id": "3568e791-1f08-4f9d-8d27-8811627c242a",
   "metadata": {},
   "outputs": [
    {
     "name": "stdout",
     "output_type": "stream",
     "text": [
      "Exception reporting mode: Minimal\n"
     ]
    }
   ],
   "source": [
    "%xmode minimal"
   ]
  },
  {
   "cell_type": "markdown",
   "id": "6a7408ac-0bed-4702-9a5c-28b40eac39a5",
   "metadata": {},
   "source": [
    "facilities built into JAX for SPMD (single-program, multiple-data) code."
   ]
  },
  {
   "cell_type": "markdown",
   "id": "03869b92-1f8b-480b-a4e8-563181c02b91",
   "metadata": {},
   "source": [
    "# TPU setup"
   ]
  },
  {
   "cell_type": "code",
   "execution_count": 5,
   "id": "37363ef7-a98b-424d-bb20-8e616ff52c3b",
   "metadata": {},
   "outputs": [
    {
     "data": {
      "text/plain": [
       "[cuda(id=0)]"
      ]
     },
     "execution_count": 5,
     "metadata": {},
     "output_type": "execute_result"
    }
   ],
   "source": [
    "jax.devices()"
   ]
  },
  {
   "cell_type": "markdown",
   "id": "44c3b33f-d619-4d1e-a6e2-978b59781437",
   "metadata": {},
   "source": [
    "# the basics"
   ]
  },
  {
   "cell_type": "markdown",
   "id": "a64eda2f-f10e-4954-9110-7d7798e2a992",
   "metadata": {},
   "source": [
    "## ex) convolve"
   ]
  },
  {
   "cell_type": "code",
   "execution_count": 6,
   "id": "f8fa89cf-6e62-482e-8f15-519f59a607c8",
   "metadata": {},
   "outputs": [],
   "source": [
    "def convolve(x, y):\n",
    "    output = []\n",
    "    for i in range(1, len(x) - 1):\n",
    "        output.append(jnp.dot(x[i-1:i+2], y))\n",
    "    return jnp.array(output)"
   ]
  },
  {
   "cell_type": "code",
   "execution_count": 7,
   "id": "ee205086-8eb1-4e25-af13-819f02b5f6ff",
   "metadata": {},
   "outputs": [],
   "source": [
    "x = jnp.arange(5)\n",
    "y = jnp.array([2., 3., 4.])"
   ]
  },
  {
   "cell_type": "code",
   "execution_count": 8,
   "id": "7da3d035-efe3-447d-978e-629a8db09c14",
   "metadata": {},
   "outputs": [
    {
     "data": {
      "text/plain": [
       "Array([11., 20., 29.], dtype=float32)"
      ]
     },
     "execution_count": 8,
     "metadata": {},
     "output_type": "execute_result"
    }
   ],
   "source": [
    "convolve(x, y)"
   ]
  },
  {
   "cell_type": "code",
   "execution_count": 19,
   "id": "2f9237fb-082f-4ef7-93f5-c925a143de0d",
   "metadata": {},
   "outputs": [
    {
     "name": "stdout",
     "output_type": "stream",
     "text": [
      "[[0 1 2 3 4]]\n",
      "[[2. 3. 4.]]\n"
     ]
    }
   ],
   "source": [
    "num_devices = jax.local_device_count()\n",
    "\n",
    "x_batch = np.arange(5*num_devices).reshape(-1, 5)\n",
    "y_batch = np.stack([y]*num_devices)\n",
    "\n",
    "if num_devices > 1:\n",
    "    y_batch[1] = [7, 4, 2]\n",
    "\n",
    "print(x_batch)\n",
    "print(y_batch)"
   ]
  },
  {
   "cell_type": "markdown",
   "id": "38d872b0-7a71-4fbe-852d-d406bacb5f5e",
   "metadata": {},
   "source": [
    "### vmap"
   ]
  },
  {
   "cell_type": "code",
   "execution_count": 20,
   "id": "fe6464e8-f85b-487d-8365-171535789e52",
   "metadata": {},
   "outputs": [
    {
     "data": {
      "text/plain": [
       "Array([[11., 20., 29.]], dtype=float32)"
      ]
     },
     "execution_count": 20,
     "metadata": {},
     "output_type": "execute_result"
    }
   ],
   "source": [
    "jax.vmap(convolve)(x_batch, y_batch)"
   ]
  },
  {
   "cell_type": "markdown",
   "id": "a2c196fe-f97c-4e00-9f34-d222915baf86",
   "metadata": {},
   "source": [
    "### pmap"
   ]
  },
  {
   "cell_type": "code",
   "execution_count": 21,
   "id": "264b428f-8da4-4af5-ab41-46559ea12497",
   "metadata": {},
   "outputs": [
    {
     "data": {
      "text/plain": [
       "Array([[11., 20., 29.]], dtype=float32)"
      ]
     },
     "execution_count": 21,
     "metadata": {},
     "output_type": "execute_result"
    }
   ],
   "source": [
    "jax.pmap(convolve)(x_batch, y_batch)"
   ]
  },
  {
   "cell_type": "markdown",
   "id": "6021f955-d176-4760-955e-4ec6771b70fe",
   "metadata": {},
   "source": [
    "❓ if we were to run another parallel computation, the elements would stay on their respective devices, without incurring cross-device communication costs."
   ]
  },
  {
   "cell_type": "code",
   "execution_count": 22,
   "id": "389606c2-8e37-4679-b64d-9aba4e495601",
   "metadata": {},
   "outputs": [
    {
     "data": {
      "text/plain": [
       "Array([[ 78., 138., 198.]], dtype=float32)"
      ]
     },
     "execution_count": 22,
     "metadata": {},
     "output_type": "execute_result"
    }
   ],
   "source": [
    "jax.pmap(convolve)(x_batch, jax.pmap(convolve)(x_batch, y_batch))"
   ]
  },
  {
   "cell_type": "markdown",
   "id": "940870a6-3b08-4e90-840d-ea536703d222",
   "metadata": {},
   "source": [
    "# specifying in_axes"
   ]
  },
  {
   "cell_type": "markdown",
   "id": "b7422cd0-681c-4ba1-8dea-d6d7fb5ad687",
   "metadata": {},
   "source": [
    "⚠️ note: unlike vmap's case, _axes option must be a tuple, not a vector.\n",
    "\n",
    "e.g.) in_axes=[1, 0]: throws error, in_axes=(1, 0): OK."
   ]
  },
  {
   "cell_type": "code",
   "execution_count": 24,
   "id": "2399f9ab-a46d-4982-9338-bc005669cec3",
   "metadata": {},
   "outputs": [
    {
     "data": {
      "text/plain": [
       "Array([[11.],\n",
       "       [20.],\n",
       "       [29.]], dtype=float32)"
      ]
     },
     "execution_count": 24,
     "metadata": {},
     "output_type": "execute_result"
    }
   ],
   "source": [
    "jax.pmap(convolve, in_axes=1, out_axes=1)(x_batch.T, y_batch.T) "
   ]
  },
  {
   "cell_type": "markdown",
   "id": "8d584bbc-1ba8-4b87-8da5-26d160dc5dd8",
   "metadata": {},
   "source": [
    "## case: dimension inconsistency"
   ]
  },
  {
   "cell_type": "code",
   "execution_count": 30,
   "id": "914e8662-2f62-4d63-ab94-92c9a9dc6634",
   "metadata": {},
   "outputs": [],
   "source": [
    "# jax.pmap(convolve, in_axes=1, out_axes=0)(x_batch.T, y_batch)  # forbidden: throws error\n",
    "\n",
    "# dimension inconsistency"
   ]
  },
  {
   "cell_type": "markdown",
   "id": "64c3da02-7a53-45ef-965c-287ca320ba07",
   "metadata": {},
   "source": [
    "### fix\n",
    "\n",
    "in_axes=[axis to take for arg1 (x_batch), axis to take for arg2 (y_batch)]"
   ]
  },
  {
   "cell_type": "code",
   "execution_count": 37,
   "id": "f106c815-1720-431e-80a7-46d94858ae77",
   "metadata": {},
   "outputs": [
    {
     "data": {
      "text/plain": [
       "Array([[11., 20., 29.]], dtype=float32)"
      ]
     },
     "execution_count": 37,
     "metadata": {},
     "output_type": "execute_result"
    }
   ],
   "source": [
    "jax.pmap(convolve, in_axes=(1, 0), out_axes=0)(x_batch.T, y_batch)"
   ]
  },
  {
   "cell_type": "code",
   "execution_count": 38,
   "id": "a7ffdbe2-2339-4a52-b8a4-785c64016746",
   "metadata": {},
   "outputs": [
    {
     "data": {
      "text/plain": [
       "Array([[11.],\n",
       "       [20.],\n",
       "       [29.]], dtype=float32)"
      ]
     },
     "execution_count": 38,
     "metadata": {},
     "output_type": "execute_result"
    }
   ],
   "source": [
    "jax.pmap(convolve, in_axes=(1, 0), out_axes=1)(x_batch.T, y_batch)"
   ]
  },
  {
   "cell_type": "markdown",
   "id": "97a3534e-c3ac-4e7a-aa7a-47fef3c1a18a",
   "metadata": {},
   "source": [
    "## case: when only one of the arguments is batched"
   ]
  },
  {
   "cell_type": "code",
   "execution_count": 23,
   "id": "339265b5-1554-4624-9aff-d54b41aa4116",
   "metadata": {},
   "outputs": [
    {
     "data": {
      "text/plain": [
       "Array([[11., 20., 29.]], dtype=float32)"
      ]
     },
     "execution_count": 23,
     "metadata": {},
     "output_type": "execute_result"
    }
   ],
   "source": [
    "jax.pmap(convolve, in_axes=(0, None))(x_batch, y)"
   ]
  },
  {
   "cell_type": "markdown",
   "id": "c2a925cf-8f87-4444-8b27-b029e0dd13dc",
   "metadata": {},
   "source": [
    "# pmap and jit"
   ]
  },
  {
   "cell_type": "markdown",
   "id": "f5f264ab-d1bd-46c4-8236-a972fa5c0565",
   "metadata": {},
   "source": [
    "jax.pmap JIT-compiles the function given to it as part of its operation.\n",
    "\n",
    "**so there is no need to additionally jax.jit it**."
   ]
  },
  {
   "cell_type": "markdown",
   "id": "25281a88-7d89-4a6b-9e7e-d171692de471",
   "metadata": {},
   "source": [
    "# communication between devices\n",
    "\n",
    "sometimes we need to pass information between the devices."
   ]
  },
  {
   "cell_type": "markdown",
   "id": "9745d1d2-cc2d-409b-b1f6-9311fcebcc75",
   "metadata": {},
   "source": [
    "## ex) normalized convolve\n",
    "\n",
    "❓\n",
    "\n",
    "the collective operation here is **jax.lax.psum**"
   ]
  },
  {
   "cell_type": "code",
   "execution_count": 39,
   "id": "181a428c-a1a6-49cc-a674-3ec8b3fada65",
   "metadata": {},
   "outputs": [],
   "source": [
    "def normalized_convolve(x, y):\n",
    "    output = []\n",
    "    for i in range(1, len(x) - 1):\n",
    "        output.append(jnp.dot(x[i-1:i+2], y))\n",
    "    output = jnp.array(output)\n",
    "    return output/jax.lax.psum(output, axis_name='p')"
   ]
  },
  {
   "cell_type": "code",
   "execution_count": 41,
   "id": "c0d7e7e0-3405-431b-8ab3-6b3b0c285a76",
   "metadata": {},
   "outputs": [
    {
     "name": "stdout",
     "output_type": "stream",
     "text": [
      "[[1. 1. 1.]]\n"
     ]
    }
   ],
   "source": [
    "result = jax.pmap(normalized_convolve, axis_name='p')(x_batch, y_batch)\n",
    "\n",
    "print(result)"
   ]
  },
  {
   "cell_type": "markdown",
   "id": "868c5c49-0b92-4cc1-b2f9-6f6f80412e1c",
   "metadata": {},
   "source": [
    "sum of each column should equal 1."
   ]
  },
  {
   "cell_type": "code",
   "execution_count": 42,
   "id": "da1dab09-f47c-42a3-8678-4702dd1d821c",
   "metadata": {},
   "outputs": [
    {
     "data": {
      "text/plain": [
       "Array([1., 1., 1.], dtype=float32)"
      ]
     },
     "execution_count": 42,
     "metadata": {},
     "output_type": "execute_result"
    }
   ],
   "source": [
    "jnp.sum(result, axis=0)"
   ]
  },
  {
   "cell_type": "markdown",
   "id": "e8a59a26-ec30-404a-8d53-95b1c447c9ae",
   "metadata": {},
   "source": [
    "## vmap case\n",
    "\n",
    "jax.vmap can also have axis_name."
   ]
  },
  {
   "cell_type": "code",
   "execution_count": 43,
   "id": "b00e95d9-d412-4c25-a7e5-517773b19d88",
   "metadata": {},
   "outputs": [
    {
     "name": "stdout",
     "output_type": "stream",
     "text": [
      "[[1. 1. 1.]]\n"
     ]
    }
   ],
   "source": [
    "result = jax.vmap(normalized_convolve, axis_name='p')(x_batch, y_batch)\n",
    "\n",
    "print(result)"
   ]
  },
  {
   "cell_type": "code",
   "execution_count": 44,
   "id": "9f6e0dc8-d5b2-49ed-b211-7d9c403e5e24",
   "metadata": {},
   "outputs": [
    {
     "data": {
      "text/plain": [
       "Array([1., 1., 1.], dtype=float32)"
      ]
     },
     "execution_count": 44,
     "metadata": {},
     "output_type": "execute_result"
    }
   ],
   "source": [
    "jnp.sum(result, axis=0)"
   ]
  },
  {
   "cell_type": "markdown",
   "id": "90d8e098-7574-49de-a8fa-c088fcd0edc5",
   "metadata": {},
   "source": [
    "# nesting jax.pmap and jax.vmap"
   ]
  },
  {
   "cell_type": "markdown",
   "id": "4720cc9f-7bb6-4509-afeb-9ce3cfffdfde",
   "metadata": {},
   "source": [
    "the reason we specify axis_name as a string is so we can use collective operations when nesting jax.pmap and jax.vmap."
   ]
  },
  {
   "cell_type": "markdown",
   "id": "68a4bc54-37dd-4c31-a055-9e98637151db",
   "metadata": {},
   "source": [
    "in general, jax.pmap and jax.vmap can be nested in any order, and with themselves (so you can have a pmap within another pmap, for instance)."
   ]
  },
  {
   "cell_type": "markdown",
   "id": "318bf228-3057-4c87-b687-f4448af5e17b",
   "metadata": {},
   "source": [
    "## ex) regression training loop with data parallelism\n",
    "\n",
    "each batch is split into sub-batches which are evaluated on separate devices."
   ]
  },
  {
   "cell_type": "code",
   "execution_count": 45,
   "id": "b33a6763-53b3-4e8c-ba56-f0eaefeb6ef3",
   "metadata": {},
   "outputs": [],
   "source": [
    "from typing import NamedTuple\n",
    "import functools"
   ]
  },
  {
   "cell_type": "code",
   "execution_count": 50,
   "id": "5e804be9-ea30-4795-9303-0d13cc080656",
   "metadata": {},
   "outputs": [],
   "source": [
    "class Params(NamedTuple):\n",
    "    weight: jnp.ndarray\n",
    "    bias: jnp.ndarray\n",
    "\n",
    "def initialize(key) -> Params:\n",
    "    weight_key, bias_key = jax.random.split(key)\n",
    "    weight = jax.random.normal(weight_key, ())\n",
    "    bias = jax.random.normal(bias_key, ())\n",
    "    return Params(weight, bias)\n",
    "\n",
    "def loss_function(params: Params, x: jnp.ndarray, y: jnp.ndarray) -> jnp.ndarray:\n",
    "    y_pred = params.weight*x + params.bias\n",
    "    return jnp.mean((y - y_pred)**2)\n",
    "\n",
    "learning_rate = 0.005\n",
    "\n",
    "#\n",
    "@functools.partial(jax.pmap, axis_name=\"num_devices\")\n",
    "def update(params: Params, x: jnp.ndarray, y: jnp.ndarray) -> tuple[Params, jnp.ndarray]:\n",
    "    # compute loss and gradients on each given minibatch (individually on each device using pmap)\n",
    "    losses, gradss = jax.value_and_grad(loss_function)(params, x, y)\n",
    "\n",
    "    # take the mean of losses and gradients \n",
    "    loss = jax.lax.pmean(losses, axis_name=\"num_devices\")\n",
    "    grads = jax.lax.pmean(gradss, axis_name=\"num_devices\")\n",
    "\n",
    "    # update params\n",
    "    new_params = jax.tree_map(lambda param, grad: param - grad*learning_rate, params, grads)\n",
    "\n",
    "    return new_params, loss"
   ]
  },
  {
   "cell_type": "markdown",
   "id": "44d43b5e-9985-44f5-958c-5281b0e04987",
   "metadata": {},
   "source": [
    "### data & setting"
   ]
  },
  {
   "cell_type": "code",
   "execution_count": 73,
   "id": "53b32f11-6c1a-4105-9a5c-3f3f7f1846c3",
   "metadata": {},
   "outputs": [],
   "source": [
    "num_devices = jax.local_device_count()\n",
    "if num_devices > 1:\n",
    "    x = np.random.normal(size=(num_devices*16,))\n",
    "    noise = np.random.normal(scale=0.1, size=(num_devices*16,))\n",
    "else:\n",
    "    x = np.random.normal(size=(100,))\n",
    "    noise = np.random.normal(scale=0.1, size=(100,))\n",
    "\n",
    "y = 3*x - 1 + noise"
   ]
  },
  {
   "cell_type": "markdown",
   "id": "487324ac-7c5f-45f1-90e5-11c59168a9eb",
   "metadata": {},
   "source": [
    "**initialize parameters and replicate across devices.**"
   ]
  },
  {
   "cell_type": "code",
   "execution_count": 74,
   "id": "948280f6-1ad9-4e1c-b728-9d69d10cb9f9",
   "metadata": {},
   "outputs": [],
   "source": [
    "params = initialize(jax.random.key(123))\n",
    "num_devices = jax.local_device_count()\n",
    "replicated_params = jax.tree_map(lambda x: jnp.array([x]*num_devices), params)\n",
    "\n",
    "# params will be comunicated to each device when update() is first called, \n",
    "# then each copy of params will stay on its own device subsequently. "
   ]
  },
  {
   "cell_type": "code",
   "execution_count": 75,
   "id": "5880c9cc-b53d-4af2-821e-f8a8a14e87e0",
   "metadata": {},
   "outputs": [
    {
     "name": "stdout",
     "output_type": "stream",
     "text": [
      "Params(weight=Array([-0.12120728], dtype=float32), bias=Array([-1.7093881], dtype=float32))\n",
      "<class '__main__.Params'>\n",
      "<class 'jaxlib.xla_extension.ArrayImpl'> <class 'jaxlib.xla_extension.ArrayImpl'>\n"
     ]
    }
   ],
   "source": [
    "print(replicated_params)\n",
    "print(type(replicated_params))\n",
    "print(type(replicated_params.weight), type(replicated_params.bias))"
   ]
  },
  {
   "cell_type": "markdown",
   "id": "321fe0de-af39-4952-b201-d980d805979f",
   "metadata": {},
   "source": [
    "**split data into minibatches such that each minibatch has the size of num_devices**"
   ]
  },
  {
   "cell_type": "code",
   "execution_count": 76,
   "id": "d20514c4-2478-451b-a60e-4f227eada3a2",
   "metadata": {},
   "outputs": [],
   "source": [
    "def split_data(x):\n",
    "    return x.reshape(num_devices, x.shape[0]//num_devices, *x.shape[1:])"
   ]
  },
  {
   "cell_type": "code",
   "execution_count": 77,
   "id": "ea475f33-b13b-490e-8638-102567e00de5",
   "metadata": {},
   "outputs": [],
   "source": [
    "x_batch = split_data(x)\n",
    "y_batch = split_data(y)"
   ]
  },
  {
   "cell_type": "code",
   "execution_count": 78,
   "id": "42929b20-23d4-4706-8d51-fe35707053d1",
   "metadata": {},
   "outputs": [
    {
     "name": "stdout",
     "output_type": "stream",
     "text": [
      "[[ 0.33596082  0.4160086   0.149929    0.75965705  2.14434221  2.14092551\n",
      "   0.69953455  0.78254533  1.12916677 -0.78112501  1.00605159  0.66764108\n",
      "  -1.20902483  1.07137935  0.39122226  0.49429518 -1.87083096 -1.64257915\n",
      "  -0.23276109 -0.63230313 -0.33630381 -0.88661858  0.60621643 -0.02192579\n",
      "   1.04646006  1.56940571  0.61744109 -0.47373537  0.36797314 -1.01429225\n",
      "   1.56518501  0.88358108  0.19960978  0.49541447  0.02417953 -0.49567561\n",
      "   0.25201306 -0.82571614 -0.11546714  0.40030643 -0.89492143  0.79662802\n",
      "   1.30199593  0.64503735  0.11328555  0.10429732  1.54464023 -0.72126082\n",
      "   0.11065123 -0.43703535 -0.22680218 -1.03178947 -0.37999731 -0.11700991\n",
      "   1.54878456 -1.07871082 -1.94356133 -0.16686865 -0.8442943  -1.13331754\n",
      "   0.24904953  1.73928313 -0.31184078  0.21499956 -1.60165727  2.02374289\n",
      "  -1.21639568 -1.26595997  0.57824847 -2.50447147 -0.35102177 -0.93901348\n",
      "  -1.02771758  1.20862917  0.23053017  0.04920859 -0.93937376 -1.9007063\n",
      "   0.84431626  0.39518575  0.84667979 -1.63197547  0.88931367 -1.73207804\n",
      "  -0.98878875 -0.41827844 -0.29200578  1.83097453  0.0441086   0.37955671\n",
      "  -0.5204881   0.51355857  0.17132453 -1.05459905 -1.30560826  1.14997402\n",
      "  -0.23871157  0.43013634 -0.49300553  0.23544993]]\n",
      "<class 'numpy.ndarray'>\n"
     ]
    }
   ],
   "source": [
    "print(x_batch)\n",
    "print(type(x_batch))\n",
    "\n",
    "# x_batch stays on CPU.\n",
    "# each call of update() communicate data samples from CPU to devices."
   ]
  },
  {
   "cell_type": "markdown",
   "id": "84bccdc6-3d14-495c-afd1-e0a6ea9f2316",
   "metadata": {},
   "source": [
    "### training"
   ]
  },
  {
   "cell_type": "code",
   "execution_count": 79,
   "id": "304cbf85-f45a-4ae1-b67a-65eb05ad0003",
   "metadata": {},
   "outputs": [],
   "source": [
    "def print_type(name: str, obj: object):\n",
    "    print(f\"{name} has type {type(obj)}\")"
   ]
  },
  {
   "cell_type": "code",
   "execution_count": 80,
   "id": "77ea2424-7b7d-4794-8099-f66d3dad2605",
   "metadata": {},
   "outputs": [
    {
     "name": "stdout",
     "output_type": "stream",
     "text": [
      "after the first call of update():\n",
      "replicated_params.weight has type <class 'jaxlib.xla_extension.ArrayImpl'>\n",
      "loss has type <class 'jaxlib.xla_extension.ArrayImpl'>\n",
      "x_batch has type <class 'numpy.ndarray'>\n",
      "epoch   0, loss: 9.980\n",
      "[9.980379]\n",
      "epoch 100, loss: 1.384\n",
      "[1.38366]\n",
      "epoch 200, loss: 0.198\n",
      "[0.19841388]\n",
      "epoch 300, loss: 0.035\n",
      "[0.03498678]\n",
      "epoch 400, loss: 0.012\n",
      "[0.01245054]\n",
      "epoch 500, loss: 0.009\n",
      "[0.00934265]\n",
      "epoch 600, loss: 0.009\n",
      "[0.008914]\n",
      "epoch 700, loss: 0.009\n",
      "[0.00885487]\n",
      "epoch 800, loss: 0.009\n",
      "[0.0088467]\n",
      "epoch 900, loss: 0.009\n",
      "[0.00884558]\n"
     ]
    }
   ],
   "source": [
    "for i in range(1000):\n",
    "    # update\n",
    "    # - this is where the params and data gets communicated to devices\n",
    "    replicated_params, loss = update(replicated_params, x_batch, y_batch)\n",
    "\n",
    "    if i == 0:\n",
    "        print(\"after the first call of update():\")\n",
    "        print_type(\"replicated_params.weight\", replicated_params.weight)\n",
    "        print_type(\"loss\", loss)\n",
    "        print_type(\"x_batch\", x_batch)\n",
    "\n",
    "    if i%100 == 0:\n",
    "        print(f\"epoch {i:3d}, loss: {loss[0]:.3f}\")\n",
    "        print(loss)\n",
    "\n",
    "params = jax.device_get(jax.tree_map(lambda x: x[0], replicated_params))"
   ]
  },
  {
   "cell_type": "code",
   "execution_count": 81,
   "id": "6f498441-f270-48a0-85d2-b8e32990c3fd",
   "metadata": {},
   "outputs": [],
   "source": [
    "import plotly.express as px\n",
    "import plotly.io as pio\n",
    "pio.renderers.default = 'iframe'"
   ]
  },
  {
   "cell_type": "code",
   "execution_count": 82,
   "id": "eb7e9675-0051-4a77-93d0-8d0c87168d75",
   "metadata": {},
   "outputs": [
    {
     "data": {
      "text/html": [
       "<iframe\n",
       "    scrolling=\"no\"\n",
       "    width=\"100%\"\n",
       "    height=\"545px\"\n",
       "    src=\"iframe_figures/figure_82.html\"\n",
       "    frameborder=\"0\"\n",
       "    allowfullscreen\n",
       "></iframe>\n"
      ]
     },
     "metadata": {},
     "output_type": "display_data"
    }
   ],
   "source": [
    "fig = px.scatter(x=x, y=y)\n",
    "fig_model = px.line(x=x, y=params.weight*x + params.bias)\n",
    "fig_model.data[0].line.color = \"#e02a19\"\n",
    "fig.add_trace(fig_model.data[0])\n",
    "\n",
    "fig.show()"
   ]
  },
  {
   "cell_type": "markdown",
   "id": "676aa3bc-0866-4273-bf64-f242d33b1c55",
   "metadata": {},
   "source": [
    "# aside: hosts & devices in JAX\n",
    "\n",
    "**host**: CPU that manages several devices. \n",
    "\n",
    "- A single host can only manage so many devices (usually 8)\n",
    "\n",
    "so when running very large parallel programs, multiple hosts are needed, and some finesse is required to manage them."
   ]
  },
  {
   "cell_type": "markdown",
   "id": "08ebced0-228e-42d7-b4be-61ee6ff97176",
   "metadata": {},
   "source": [
    "**--xla_force_host_platform_device_count=8**\n",
    "\n",
    "❓ before importing JAX"
   ]
  },
  {
   "cell_type": "code",
   "execution_count": 84,
   "id": "d7d86962-9e44-4f31-bd56-f708dbf382ca",
   "metadata": {},
   "outputs": [
    {
     "data": {
      "text/plain": [
       "[cuda(id=0)]"
      ]
     },
     "execution_count": 84,
     "metadata": {},
     "output_type": "execute_result"
    }
   ],
   "source": [
    "import os\n",
    "os.environ['XLA_FLAGS'] = '--xla_force_host_platform_device_count=8'\n",
    "jax.devices()"
   ]
  },
  {
   "cell_type": "markdown",
   "id": "46b9d792-e981-45b8-b51b-c6af153506ad",
   "metadata": {},
   "source": [
    "this is especially useful for debugging and testing locally or even for prototyping in Colab since a CPU runtime is faster to (re-)start."
   ]
  },
  {
   "cell_type": "code",
   "execution_count": null,
   "id": "1340a6a1-cb14-4312-9d09-a03a96edf8d9",
   "metadata": {},
   "outputs": [],
   "source": []
  }
 ],
 "metadata": {
  "kernelspec": {
   "display_name": "Python 3 (ipykernel)",
   "language": "python",
   "name": "python3"
  },
  "language_info": {
   "codemirror_mode": {
    "name": "ipython",
    "version": 3
   },
   "file_extension": ".py",
   "mimetype": "text/x-python",
   "name": "python",
   "nbconvert_exporter": "python",
   "pygments_lexer": "ipython3",
   "version": "3.12.2"
  }
 },
 "nbformat": 4,
 "nbformat_minor": 5
}
