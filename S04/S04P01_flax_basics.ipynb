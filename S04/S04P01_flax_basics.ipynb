{
 "cells": [
  {
   "cell_type": "markdown",
   "id": "baa32933-af20-4005-9447-3751782b514d",
   "metadata": {},
   "source": [
    "**S04P01_flax_basics.ipynb**\n",
    "\n",
    "Arz\n",
    "\n",
    "2024 APR 25 (THU)\n",
    "\n",
    "reference:\n",
    "https://flax.readthedocs.io/en/latest/guides/flax_fundamentals/flax_basics.html"
   ]
  },
  {
   "cell_type": "markdown",
   "id": "a2c8e588-5618-429a-a501-6bc9c9805020",
   "metadata": {},
   "source": [
    "# setting up out environment"
   ]
  },
  {
   "cell_type": "code",
   "execution_count": 1,
   "id": "55a1baec-01b9-457d-a171-a9bd4075abf2",
   "metadata": {},
   "outputs": [],
   "source": [
    "import jax\n",
    "import jax.numpy as jnp"
   ]
  },
  {
   "cell_type": "code",
   "execution_count": 2,
   "id": "533740cc-1cd8-47b8-9310-620c98b83e5b",
   "metadata": {},
   "outputs": [],
   "source": [
    "import flax\n",
    "from flax import linen as nn"
   ]
  },
  {
   "cell_type": "code",
   "execution_count": 3,
   "id": "b565adc6-d667-4103-849f-e54e3405ea6c",
   "metadata": {},
   "outputs": [],
   "source": [
    "from typing import Any, Callable, Sequence"
   ]
  },
  {
   "cell_type": "markdown",
   "id": "0a14f2cb-1c8d-4af5-a9f0-c35210e00264",
   "metadata": {},
   "source": [
    "# linear regression with Flax\n",
    "\n",
    "linear regression can also be written as a single dense neural network layer."
   ]
  },
  {
   "cell_type": "markdown",
   "id": "d2ba9364-1192-4d89-9bfe-5eff5c9aa7c4",
   "metadata": {},
   "source": [
    "## ex) dense layer\n",
    "\n",
    "models (including layers) are subclasses of flax.linen.Module class.\n",
    "\n",
    "https://flax.readthedocs.io/en/v0.5.3/_autosummary/flax.linen.Dense.html"
   ]
  },
  {
   "cell_type": "code",
   "execution_count": 4,
   "id": "35f798d8-5e9f-443d-bbbb-8c25eb846181",
   "metadata": {},
   "outputs": [],
   "source": [
    "model = nn.Dense(features=3)  # output dimension is 3"
   ]
  },
  {
   "cell_type": "markdown",
   "id": "11e3b98d-b562-4572-aa5e-e9353a858aa7",
   "metadata": {},
   "source": [
    "### model parameters & initialization\n",
    "\n",
    "⚠️ parameters are not stored with the models themselves. \n",
    "\n",
    "you need to initialize parameters by calling the **init** function, using a PRNGKey and dummy input data."
   ]
  },
  {
   "cell_type": "code",
   "execution_count": 5,
   "id": "cc4b3eca-ebd7-4413-827b-ce19e5f05110",
   "metadata": {},
   "outputs": [
    {
     "name": "stderr",
     "output_type": "stream",
     "text": [
      "2024-04-25 13:03:45.038654: W external/xla/xla/service/gpu/nvptx_compiler.cc:718] The NVIDIA driver's CUDA version is 12.2 which is older than the ptxas CUDA version (12.4.131). Because the driver is older than the ptxas version, XLA is disabling parallel compilation, which may slow down compilation. You should update your NVIDIA driver or use the NVIDIA-provided CUDA forward compatibility packages.\n"
     ]
    }
   ],
   "source": [
    "key1, key2 = jax.random.split(jax.random.key(0))\n",
    "\n",
    "x = jax.random.normal(key1, (7,))  # dummy input data\n",
    "params = model.init(key2, x)  # initialize model parameters"
   ]
  },
  {
   "cell_type": "code",
   "execution_count": 7,
   "id": "b1e6e3c4-9567-4912-ab6d-e9317fdfb2e7",
   "metadata": {},
   "outputs": [
    {
     "data": {
      "text/plain": [
       "{'params': {'bias': (3,), 'kernel': (7, 3)}}"
      ]
     },
     "execution_count": 7,
     "metadata": {},
     "output_type": "execute_result"
    }
   ],
   "source": [
    "# check dimensions\n",
    "jax.tree_util.tree_map(lambda x: x.shape, params)"
   ]
  },
  {
   "cell_type": "markdown",
   "id": "b8cdcc63-a5c5-45cf-8fc7-af37e287e59e",
   "metadata": {},
   "source": [
    "### forward propagation"
   ]
  },
  {
   "cell_type": "code",
   "execution_count": 8,
   "id": "54352d9b-bb99-4b7f-a6f2-eddf2142c318",
   "metadata": {},
   "outputs": [
    {
     "data": {
      "text/plain": [
       "Array([ 1.3483415 , -0.4280271 , -0.10713735], dtype=float32)"
      ]
     },
     "execution_count": 8,
     "metadata": {},
     "output_type": "execute_result"
    }
   ],
   "source": [
    "model.apply(params, x)"
   ]
  },
  {
   "cell_type": "markdown",
   "id": "90bb7d9c-2101-42fc-8415-01dc819f464f",
   "metadata": {},
   "source": [
    "### gradient descent"
   ]
  },
  {
   "cell_type": "code",
   "execution_count": null,
   "id": "019693d3-59bc-49ee-b556-2fdcfa66eac5",
   "metadata": {},
   "outputs": [],
   "source": []
  }
 ],
 "metadata": {
  "kernelspec": {
   "display_name": "Python 3 (ipykernel)",
   "language": "python",
   "name": "python3"
  },
  "language_info": {
   "codemirror_mode": {
    "name": "ipython",
    "version": 3
   },
   "file_extension": ".py",
   "mimetype": "text/x-python",
   "name": "python",
   "nbconvert_exporter": "python",
   "pygments_lexer": "ipython3",
   "version": "3.11.9"
  }
 },
 "nbformat": 4,
 "nbformat_minor": 5
}
