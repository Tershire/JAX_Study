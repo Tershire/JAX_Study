{
 "cells": [
  {
   "cell_type": "markdown",
   "id": "04d3f1ea-16b3-4620-b908-fdfe0f0339b6",
   "metadata": {},
   "source": [
    "**jax_various_tests.ipynb**\n",
    "\n",
    "Arz\n",
    "\n",
    "2024 MAY 19 (SUN)"
   ]
  },
  {
   "cell_type": "code",
   "execution_count": 1,
   "id": "baab89f3-ce8b-414b-ab98-00ec4e5b6e32",
   "metadata": {},
   "outputs": [],
   "source": [
    "import jax\n",
    "import jax.numpy as jnp"
   ]
  },
  {
   "cell_type": "markdown",
   "id": "ac1269bf-b68f-48e2-ac3a-f3de08ba4757",
   "metadata": {},
   "source": [
    "### key split"
   ]
  },
  {
   "cell_type": "markdown",
   "id": "aca6a4fb-b54f-49ab-b1fa-19f60c96f6f6",
   "metadata": {},
   "source": [
    "key = jax.random.key(0)"
   ]
  },
  {
   "cell_type": "code",
   "execution_count": 2,
   "id": "fae50661-76ef-442a-8762-d57556e9c545",
   "metadata": {},
   "outputs": [
    {
     "name": "stderr",
     "output_type": "stream",
     "text": [
      "2024-05-28 01:35:54.365683: W external/xla/xla/service/gpu/nvptx_compiler.cc:718] The NVIDIA driver's CUDA version is 12.2 which is older than the ptxas CUDA version (12.4.131). Because the driver is older than the ptxas version, XLA is disabling parallel compilation, which may slow down compilation. You should update your NVIDIA driver or use the NVIDIA-provided CUDA forward compatibility packages.\n"
     ]
    },
    {
     "name": "stdout",
     "output_type": "stream",
     "text": [
      "[Array((), dtype=key<fry>) overlaying:\n",
      "[3186719485 3840466878], Array((), dtype=key<fry>) overlaying:\n",
      "[2562233961 1946702221]]\n"
     ]
    }
   ],
   "source": [
    "_, *subkeys = jax.random.split(jax.random.key(0), 3)\n",
    "print(subkeys)"
   ]
  },
  {
   "cell_type": "code",
   "execution_count": 3,
   "id": "669fcfec-5f4c-4c62-bf28-e506acece39f",
   "metadata": {},
   "outputs": [
    {
     "name": "stdout",
     "output_type": "stream",
     "text": [
      "Array((), dtype=key<fry>) overlaying:\n",
      "[3186719485 3840466878]\n"
     ]
    }
   ],
   "source": [
    "print(subkeys[0])"
   ]
  },
  {
   "cell_type": "code",
   "execution_count": 4,
   "id": "be37cc97-c946-43de-af62-236ab8f93a4d",
   "metadata": {},
   "outputs": [
    {
     "name": "stdout",
     "output_type": "stream",
     "text": [
      "Array((), dtype=key<fry>) overlaying:\n",
      "[3186719485 3840466878]\n",
      "Array((), dtype=key<fry>) overlaying:\n",
      "[2562233961 1946702221]\n"
     ]
    }
   ],
   "source": [
    "for subkey in subkeys:\n",
    "    print(subkey)"
   ]
  },
  {
   "cell_type": "markdown",
   "id": "d9a04c89-9105-4570-9f7b-7de048ff112b",
   "metadata": {},
   "source": [
    "### jnp array indexing"
   ]
  },
  {
   "cell_type": "code",
   "execution_count": 5,
   "id": "c3ec9e20-f638-4647-a7d4-a24fde790c2f",
   "metadata": {},
   "outputs": [
    {
     "name": "stdout",
     "output_type": "stream",
     "text": [
      "[[0. 0.]\n",
      " [0. 0.]\n",
      " [0. 0.]]\n"
     ]
    }
   ],
   "source": [
    "q_table = jnp.zeros((3, 2), dtype=jnp.float32)\n",
    "\n",
    "print(q_table)"
   ]
  },
  {
   "cell_type": "code",
   "execution_count": 6,
   "id": "4e7b091b-2c0e-42bc-a692-a6c717982573",
   "metadata": {},
   "outputs": [
    {
     "data": {
      "text/plain": [
       "Array(0., dtype=float32)"
      ]
     },
     "execution_count": 6,
     "metadata": {},
     "output_type": "execute_result"
    }
   ],
   "source": [
    "state = 1\n",
    "action = 0\n",
    "\n",
    "q_table[state, action]"
   ]
  },
  {
   "cell_type": "code",
   "execution_count": 7,
   "id": "9839bb7f-efd8-4afd-bb59-8c846926db06",
   "metadata": {},
   "outputs": [
    {
     "data": {
      "text/plain": [
       "Array([[0., 0.],\n",
       "       [7., 0.],\n",
       "       [0., 0.]], dtype=float32)"
      ]
     },
     "execution_count": 7,
     "metadata": {},
     "output_type": "execute_result"
    }
   ],
   "source": [
    "q_table.at[state, action].set(7)"
   ]
  }
 ],
 "metadata": {
  "kernelspec": {
   "display_name": "Python 3 (ipykernel)",
   "language": "python",
   "name": "python3"
  },
  "language_info": {
   "codemirror_mode": {
    "name": "ipython",
    "version": 3
   },
   "file_extension": ".py",
   "mimetype": "text/x-python",
   "name": "python",
   "nbconvert_exporter": "python",
   "pygments_lexer": "ipython3",
   "version": "3.11.9"
  }
 },
 "nbformat": 4,
 "nbformat_minor": 5
}
