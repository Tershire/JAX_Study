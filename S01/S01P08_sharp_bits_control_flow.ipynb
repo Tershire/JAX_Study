{
 "cells": [
  {
   "cell_type": "markdown",
   "id": "25e339cb-362a-4455-9093-f80c09466c9b",
   "metadata": {},
   "source": [
    "**S01P08_sharp_bits_control_flow.ipynb**\n",
    "\n",
    "Arz\n",
    "\n",
    "2024 APR 06 (SAT)\n",
    "\n",
    "reference:\n",
    "https://jax.readthedocs.io/en/latest/notebooks/Common_Gotchas_in_JAX.html"
   ]
  },
  {
   "cell_type": "code",
   "execution_count": 1,
   "id": "4ee925e7-2caa-4af5-a9ca-fc59a1103be8",
   "metadata": {},
   "outputs": [],
   "source": [
    "import numpy as np"
   ]
  },
  {
   "cell_type": "code",
   "execution_count": 2,
   "id": "e2289058-4a12-4d5f-a44d-5c880112367a",
   "metadata": {},
   "outputs": [],
   "source": [
    "import jax\n",
    "import jax.numpy as jnp\n",
    "from jax import lax\n",
    "from jax import grad, jit\n",
    "from jax import random"
   ]
  },
  {
   "cell_type": "code",
   "execution_count": 3,
   "id": "8fa8ac1d-204d-40d3-b4fc-70b21c3335aa",
   "metadata": {},
   "outputs": [
    {
     "name": "stdout",
     "output_type": "stream",
     "text": [
      "Exception reporting mode: Minimal\n"
     ]
    }
   ],
   "source": [
    "%xmode minimal"
   ]
  },
  {
   "cell_type": "markdown",
   "id": "813dffe6-135e-4d58-8e1a-c0079dd78aa6",
   "metadata": {},
   "source": [
    "# control flow"
   ]
  },
  {
   "cell_type": "markdown",
   "id": "efc796b1-87f7-472e-bbff-6b6c9adeb91c",
   "metadata": {},
   "source": [
    "## ok! Python control flow & *grad*\n",
    "\n",
    "applying *grad* to functions having regular control flow."
   ]
  },
  {
   "cell_type": "code",
   "execution_count": 4,
   "id": "82f1741a-ce6e-4c5b-be20-a349eb6ba34a",
   "metadata": {},
   "outputs": [],
   "source": [
    "def f(x):\n",
    "    if x < 3:\n",
    "        return 3*x**2\n",
    "    else:\n",
    "        return -4*x"
   ]
  },
  {
   "cell_type": "code",
   "execution_count": 5,
   "id": "031a99db-52d3-41fd-a585-bf90afdb4d49",
   "metadata": {},
   "outputs": [
    {
     "name": "stdout",
     "output_type": "stream",
     "text": [
      "12.0\n",
      "-4.0\n"
     ]
    }
   ],
   "source": [
    "print(grad(f)(2.0))  # ok!\n",
    "print(grad(f)(4.0))  # ok!"
   ]
  },
  {
   "cell_type": "markdown",
   "id": "fff70060-ce52-4f81-9485-8533fd43c27e",
   "metadata": {},
   "source": [
    "## Python control flow & JIT\n",
    "\n",
    "more complicated with more constraints."
   ]
  },
  {
   "cell_type": "markdown",
   "id": "4a22124f-4a87-4ef6-b128-62e560dfade6",
   "metadata": {},
   "source": [
    "### ex)\n",
    "\n",
    "JIT traces {shape, type}, and not value. so value evaluation flow control fails."
   ]
  },
  {
   "cell_type": "code",
   "execution_count": 6,
   "id": "6552fcac-4be1-44c1-aedd-248479472d6e",
   "metadata": {},
   "outputs": [],
   "source": [
    "@jit\n",
    "def f(x):\n",
    "    if x < 3:\n",
    "        return 3*x**2\n",
    "    else:\n",
    "        return -4*x"
   ]
  },
  {
   "cell_type": "code",
   "execution_count": 7,
   "id": "f6514dd1-1823-45fa-b3d5-f479a3acc005",
   "metadata": {},
   "outputs": [],
   "source": [
    "# f(2.0)  # forbidden"
   ]
  },
  {
   "cell_type": "markdown",
   "id": "ed0d0dc3-f5b2-413f-b084-53d2dabf75a3",
   "metadata": {},
   "source": [
    "however, one can control which variable | operation to trace."
   ]
  },
  {
   "cell_type": "code",
   "execution_count": 8,
   "id": "947cc59e-7a1b-4fde-8430-0508487bbc9c",
   "metadata": {},
   "outputs": [],
   "source": [
    "def f(x):\n",
    "    if x < 3:\n",
    "        return 3*x**2\n",
    "    else:\n",
    "        return -4*x"
   ]
  },
  {
   "cell_type": "code",
   "execution_count": 9,
   "id": "f7691591-6e9c-41b5-88bc-ba9692ae740e",
   "metadata": {},
   "outputs": [],
   "source": [
    "f_jit = jit(f, static_argnums=(0,))"
   ]
  },
  {
   "cell_type": "code",
   "execution_count": 10,
   "id": "8b644e8e-1d14-4114-8de5-8645ed860cdd",
   "metadata": {},
   "outputs": [
    {
     "data": {
      "text/plain": [
       "Array(12., dtype=float32, weak_type=True)"
      ]
     },
     "execution_count": 10,
     "metadata": {},
     "output_type": "execute_result"
    }
   ],
   "source": [
    "f_jit(2.0)"
   ]
  },
  {
   "cell_type": "markdown",
   "id": "832779d7-8ca3-4644-a531-95e7dc574b40",
   "metadata": {},
   "source": [
    "### ex) involving a loop\n",
    "\n",
    "❓ in effect, the loop gets statically unrolled. "
   ]
  },
  {
   "cell_type": "code",
   "execution_count": 11,
   "id": "54ed0f83-7467-4f16-bc98-7f1d94438c2d",
   "metadata": {},
   "outputs": [],
   "source": [
    "def f(x, n):\n",
    "    y = 0\n",
    "    for i in range(n):\n",
    "        y += x[i]\n",
    "    return y"
   ]
  },
  {
   "cell_type": "code",
   "execution_count": 12,
   "id": "fbd0c8c4-8462-433c-9a50-281e90d21dcc",
   "metadata": {},
   "outputs": [],
   "source": [
    "f_jit = jit(f)"
   ]
  },
  {
   "cell_type": "code",
   "execution_count": 13,
   "id": "e12b4a3c-e132-440c-8373-8900075715aa",
   "metadata": {},
   "outputs": [
    {
     "data": {
      "text/plain": [
       "Array(3, dtype=int32)"
      ]
     },
     "execution_count": 13,
     "metadata": {},
     "output_type": "execute_result"
    }
   ],
   "source": [
    "f(jnp.array([1, 2, 3]), 2)"
   ]
  },
  {
   "cell_type": "code",
   "execution_count": 14,
   "id": "512c6b52-9cf7-447f-98ea-4247878e3eca",
   "metadata": {},
   "outputs": [],
   "source": [
    "f_jit = jit(f, static_argnums=(1,))"
   ]
  },
  {
   "cell_type": "code",
   "execution_count": 15,
   "id": "ca03bf9c-9ded-42c0-9394-4a5e9375daf2",
   "metadata": {},
   "outputs": [
    {
     "data": {
      "text/plain": [
       "Array(3, dtype=int32)"
      ]
     },
     "execution_count": 15,
     "metadata": {},
     "output_type": "execute_result"
    }
   ],
   "source": [
    "f(jnp.array([1, 2, 3]), 2)"
   ]
  },
  {
   "cell_type": "markdown",
   "id": "dba58a56-9a55-405a-82d7-1eb6c8d0429d",
   "metadata": {},
   "source": [
    "### ex) with argument-value dependent shapes\n",
    "\n",
    "shape should be static."
   ]
  },
  {
   "cell_type": "code",
   "execution_count": 16,
   "id": "66c13c44-69a2-48bd-896a-e5493bba5955",
   "metadata": {},
   "outputs": [],
   "source": [
    "def f(size, value):\n",
    "    return jnp.ones((size,))*value"
   ]
  },
  {
   "cell_type": "code",
   "execution_count": 17,
   "id": "fdab1550-bd3d-4d0d-89f7-2c1c74ad1cfc",
   "metadata": {},
   "outputs": [
    {
     "data": {
      "text/plain": [
       "Array([7., 7., 7.], dtype=float32)"
      ]
     },
     "execution_count": 17,
     "metadata": {},
     "output_type": "execute_result"
    }
   ],
   "source": [
    "f(3, 7)"
   ]
  },
  {
   "cell_type": "markdown",
   "id": "00bfc2cf-6fc9-46f5-8875-d39a8eefafae",
   "metadata": {},
   "source": [
    "**not ok**"
   ]
  },
  {
   "cell_type": "code",
   "execution_count": 18,
   "id": "869a4a43-2aa4-4414-8a31-b46b3b92a832",
   "metadata": {},
   "outputs": [],
   "source": [
    "f_jit = jit(f)\n",
    "\n",
    "# f_jit(3, 7)  # forbidden"
   ]
  },
  {
   "cell_type": "markdown",
   "id": "c4552a78-8a24-48c6-8550-6ad66d490e32",
   "metadata": {},
   "source": [
    "**ok!**"
   ]
  },
  {
   "cell_type": "code",
   "execution_count": 19,
   "id": "34bbd969-59ed-4f51-af9a-5b2b950acf0b",
   "metadata": {},
   "outputs": [
    {
     "data": {
      "text/plain": [
       "Array([7., 7., 7.], dtype=float32)"
      ]
     },
     "execution_count": 19,
     "metadata": {},
     "output_type": "execute_result"
    }
   ],
   "source": [
    "f_jit = jit(f, static_argnums=(0,))\n",
    "\n",
    "f_jit(3, 7)"
   ]
  },
  {
   "cell_type": "markdown",
   "id": "100046f1-45ad-4ec8-9243-ef9edbc66441",
   "metadata": {},
   "source": [
    "whenever this static argument *size* changes, the code recompiles.\n",
    "\n",
    "so, if *size* gets changed frequently, not very efficient."
   ]
  },
  {
   "cell_type": "markdown",
   "id": "60bf6c56-f183-47c8-9745-4e19d119553b",
   "metadata": {},
   "source": [
    "## structured control flow primitives\n",
    "\n",
    "more options for control flow in JAX.\n",
    "\n",
    "use next if you want to avoid re-compilations, but still want it to be traceable and avoid un-rolling large loops.\n",
    "\n",
    "- **lax.cond**: differentiable\n",
    "\n",
    "- **lax.while_loop**: forward-mode-differentiable\n",
    "\n",
    "- **lax.fori_loop**: forwardd-mode-differentiable in general; forward and reverse-mode differentiable if endpoints are static.\n",
    "\n",
    "- **lax.scan**: differentiable"
   ]
  },
  {
   "cell_type": "markdown",
   "id": "d20d1c56-8f4c-4b10-822c-e1b1cf45fbfb",
   "metadata": {},
   "source": [
    "### lax.cond"
   ]
  },
  {
   "cell_type": "markdown",
   "id": "81ed8219-b1ce-42e9-909a-888c90209296",
   "metadata": {},
   "source": [
    "**Python equivalent:**"
   ]
  },
  {
   "cell_type": "code",
   "execution_count": 20,
   "id": "c71e40d3-ef6d-43b6-9d5a-2f7057ee1899",
   "metadata": {},
   "outputs": [],
   "source": [
    "def cond(pred, f_true, f_false, operand):\n",
    "    if pred:\n",
    "        return f_true(operand)\n",
    "    else:\n",
    "        return f_false(operand)"
   ]
  },
  {
   "cell_type": "markdown",
   "id": "cbd5d5b0-4aac-4a14-8fbb-12d5562c84ec",
   "metadata": {},
   "source": [
    "**demo**"
   ]
  },
  {
   "cell_type": "code",
   "execution_count": 21,
   "id": "726f56df-b680-4e50-8028-5b49b52c9eff",
   "metadata": {},
   "outputs": [],
   "source": [
    "operand = jnp.array([0.])"
   ]
  },
  {
   "cell_type": "code",
   "execution_count": 22,
   "id": "74118d33-c2be-4968-82b2-27657f2a9115",
   "metadata": {},
   "outputs": [
    {
     "name": "stdout",
     "output_type": "stream",
     "text": [
      "[1.]\n",
      "[-1.]\n"
     ]
    }
   ],
   "source": [
    "y = lax.cond(True, lambda x: x + 1, lambda x: x - 1, operand)\n",
    "print(y)\n",
    "\n",
    "y = lax.cond(False, lambda x: x + 1, lambda x: x - 1, operand)\n",
    "print(y)"
   ]
  },
  {
   "cell_type": "markdown",
   "id": "f915f0c2-2548-469a-aeb5-ff8e89595fbe",
   "metadata": {},
   "source": [
    "**related jax.lax fuctions**"
   ]
  },
  {
   "cell_type": "markdown",
   "id": "53d2d91a-d712-48b0-bec0-df57214678b6",
   "metadata": {},
   "source": [
    "- **lax.select**\n",
    "- **lax.switch**"
   ]
  },
  {
   "cell_type": "markdown",
   "id": "04cb8edc-a0a3-4a24-8481-a0483881d577",
   "metadata": {},
   "source": [
    "**related jax.numpy wrappers**"
   ]
  },
  {
   "cell_type": "markdown",
   "id": "67febb3d-3894-491c-a040-15dd412c9e4b",
   "metadata": {},
   "source": [
    "- **jnp.where**\n",
    "- **jnp.piecewise**\n",
    "- **jnp.select**"
   ]
  },
  {
   "cell_type": "markdown",
   "id": "07076252-407f-4396-ba8a-7b66b93eb7b9",
   "metadata": {},
   "source": [
    "### lax.while_loop"
   ]
  },
  {
   "cell_type": "markdown",
   "id": "58af4285-29f4-487a-b561-3032ea2c1f08",
   "metadata": {},
   "source": [
    "**Python equivalent:**"
   ]
  },
  {
   "cell_type": "code",
   "execution_count": 23,
   "id": "105a9c72-98a1-4214-bfc4-431440effce8",
   "metadata": {},
   "outputs": [],
   "source": [
    "def while_loop(cond_f, body_f, init_value):\n",
    "    value = init_value\n",
    "    while cond_f(value):\n",
    "        value = body_f(value)\n",
    "    return value"
   ]
  },
  {
   "cell_type": "markdown",
   "id": "bab41d70-29f1-4dda-a620-c6a81f74fe83",
   "metadata": {},
   "source": [
    "**demo**"
   ]
  },
  {
   "cell_type": "code",
   "execution_count": 25,
   "id": "8fc5861d-1f81-4372-9207-2db4a02d942a",
   "metadata": {},
   "outputs": [
    {
     "data": {
      "text/plain": [
       "Array(7, dtype=int32, weak_type=True)"
      ]
     },
     "execution_count": 25,
     "metadata": {},
     "output_type": "execute_result"
    }
   ],
   "source": [
    "init_value = 0\n",
    "cond_f = lambda x: x < 7\n",
    "body_f = lambda x: x + 1\n",
    "\n",
    "lax.while_loop(cond_f, body_f, init_value)"
   ]
  },
  {
   "cell_type": "markdown",
   "id": "22831e9a-0322-40a0-88d3-f30c0231f02c",
   "metadata": {},
   "source": [
    "### lax.fori_loop"
   ]
  },
  {
   "cell_type": "markdown",
   "id": "35fdaf27-a406-4883-9d92-50cfdd7d61ac",
   "metadata": {},
   "source": [
    "**Python equivalent:**"
   ]
  },
  {
   "cell_type": "code",
   "execution_count": 26,
   "id": "e0c06910-bbaf-4c33-903f-d886c01186cd",
   "metadata": {},
   "outputs": [],
   "source": [
    "def fori_loop(start, stop, body_f, init_value):\n",
    "    value = init_value\n",
    "    for i in range(start, stop):\n",
    "        value = body_f(i, value)\n",
    "    return value"
   ]
  },
  {
   "cell_type": "markdown",
   "id": "ebd55597-7ca3-4db2-b4dd-a6030006588c",
   "metadata": {},
   "source": [
    "**demo**"
   ]
  },
  {
   "cell_type": "code",
   "execution_count": 29,
   "id": "16240cd6-bb43-44c5-b27e-b89d6cce65de",
   "metadata": {},
   "outputs": [
    {
     "data": {
      "text/plain": [
       "Array(45, dtype=int32, weak_type=True)"
      ]
     },
     "execution_count": 29,
     "metadata": {},
     "output_type": "execute_result"
    }
   ],
   "source": [
    "start = 0\n",
    "stop = 10\n",
    "body_f = lambda i, x: x + i\n",
    "init_value = 0\n",
    "\n",
    "lax.fori_loop(start, stop, body_f, init_value)"
   ]
  },
  {
   "cell_type": "markdown",
   "id": "fb3fb5fb-e6aa-4b4c-be2a-56b777a99fc0",
   "metadata": {},
   "source": [
    "### summary"
   ]
  },
  {
   "cell_type": "markdown",
   "id": "608a5000-5e0c-4f4c-acb5-7c3b97262e09",
   "metadata": {},
   "source": [
    "|                 | JIT | grad    |\n",
    "|-----------------|-----|---------|\n",
    "| if              | ❌   | ✔       |\n",
    "| for             | ✔*  | ✔       |\n",
    "| while           | ✔*  | ✔       |\n",
    "| lax.cond        | ✔   | ✔       |\n",
    "| lax.while_loop  | ✔   | forward |\n",
    "| lax.fori_loop   | ✔   | forward |\n",
    "| lax.scan        | ✔   | ✔       |\n",
    " \n",
    "*: argument-value-independent loop condition - unrolls the loop"
   ]
  },
  {
   "cell_type": "code",
   "execution_count": null,
   "id": "70b6304e-e9e8-4569-865c-3e9e5186fafc",
   "metadata": {},
   "outputs": [],
   "source": []
  }
 ],
 "metadata": {
  "kernelspec": {
   "display_name": "Python 3 (ipykernel)",
   "language": "python",
   "name": "python3"
  },
  "language_info": {
   "codemirror_mode": {
    "name": "ipython",
    "version": 3
   },
   "file_extension": ".py",
   "mimetype": "text/x-python",
   "name": "python",
   "nbconvert_exporter": "python",
   "pygments_lexer": "ipython3",
   "version": "3.12.2"
  }
 },
 "nbformat": 4,
 "nbformat_minor": 5
}
