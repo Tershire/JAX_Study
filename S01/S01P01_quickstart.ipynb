{
 "cells": [
  {
   "cell_type": "markdown",
   "id": "aeadb42b-6efc-49b0-beb7-19215df8bdbd",
   "metadata": {},
   "source": [
    "**S01P01_quickstart.ipynb**\n",
    "\n",
    "Arz\n",
    "\n",
    "2024 APR 03 (WED)\n",
    "\n",
    "reference:\n",
    "https://jax.readthedocs.io/en/latest/notebooks/quickstart.html"
   ]
  },
  {
   "cell_type": "code",
   "execution_count": 1,
   "id": "73502bc2-9f92-423c-9684-3a14478a2e96",
   "metadata": {},
   "outputs": [],
   "source": [
    "import jax\n",
    "import jax.numpy as jnp\n",
    "from jax import grad, jit, vmap"
   ]
  },
  {
   "cell_type": "markdown",
   "id": "8a18dfb2-3467-4adb-91ed-03e04003e6a8",
   "metadata": {},
   "source": [
    "# multiplying matrices"
   ]
  },
  {
   "cell_type": "code",
   "execution_count": 2,
   "id": "c6491f6f-37e4-4467-9306-7abd16969772",
   "metadata": {},
   "outputs": [],
   "source": [
    "key = jax.random.key(0)\n",
    "x = jax.random.normal(key, (5,))"
   ]
  },
  {
   "cell_type": "code",
   "execution_count": 3,
   "id": "6ea9e8c3-b6e2-4349-b1dd-d6d3aae960da",
   "metadata": {},
   "outputs": [
    {
     "name": "stdout",
     "output_type": "stream",
     "text": [
      "[ 0.18784384 -1.2833426  -0.2710917   1.2490593   0.24447003]\n"
     ]
    }
   ],
   "source": [
    "print(x)"
   ]
  },
  {
   "cell_type": "code",
   "execution_count": 4,
   "id": "09235683-273f-40c9-8856-557369f916eb",
   "metadata": {},
   "outputs": [],
   "source": [
    "x = jax.random.normal(key, (3, 2))"
   ]
  },
  {
   "cell_type": "code",
   "execution_count": 5,
   "id": "0d9df4fd-b226-4f39-9f16-5d7392b6b2e6",
   "metadata": {},
   "outputs": [
    {
     "name": "stdout",
     "output_type": "stream",
     "text": [
      "[[ 0.18784384 -1.2833426 ]\n",
      " [ 0.6494181   1.2490593 ]\n",
      " [ 0.24447003 -0.11744965]]\n"
     ]
    }
   ],
   "source": [
    "print(x)"
   ]
  },
  {
   "cell_type": "markdown",
   "id": "9b8f5a3e-b3a9-475d-88e0-db9ef375b132",
   "metadata": {},
   "source": [
    "## test on JAX array ##"
   ]
  },
  {
   "cell_type": "code",
   "execution_count": 6,
   "id": "a50461ae-0291-4def-bcf1-d2a38b328447",
   "metadata": {},
   "outputs": [
    {
     "name": "stdout",
     "output_type": "stream",
     "text": [
      "13 ms ± 152 µs per loop (mean ± std. dev. of 7 runs, 1 loop each)\n"
     ]
    }
   ],
   "source": [
    "size = 3000\n",
    "x = jax.random.normal(key, (size, size), dtype=jnp.float32)\n",
    "\n",
    "%timeit jnp.dot(x, x.T).block_until_ready()"
   ]
  },
  {
   "cell_type": "markdown",
   "id": "a19c85ea-8eba-439e-99e9-b143d43dd08d",
   "metadata": {},
   "source": [
    "## test on NumPy array ##"
   ]
  },
  {
   "cell_type": "code",
   "execution_count": 7,
   "id": "644858cc-2eb2-4dc7-9f2d-d86e5669ea55",
   "metadata": {},
   "outputs": [],
   "source": [
    "import numpy as np"
   ]
  },
  {
   "cell_type": "code",
   "execution_count": 8,
   "id": "6af3639f-3362-47d0-a5c3-1976801225eb",
   "metadata": {},
   "outputs": [
    {
     "name": "stdout",
     "output_type": "stream",
     "text": [
      "46 ms ± 1.62 ms per loop (mean ± std. dev. of 7 runs, 10 loops each)\n"
     ]
    }
   ],
   "source": [
    "size = 3000\n",
    "x = np.random.normal(size=(size, size)).astype(np.float32)\n",
    "\n",
    "%timeit jnp.dot(x, x.T).block_until_ready()"
   ]
  },
  {
   "cell_type": "markdown",
   "id": "d0906188-00d2-4cc9-8f05-42991571ca07",
   "metadata": {},
   "source": [
    "slower than JAX array because of data transfers to the GPU.\n",
    "\n",
    "one can use JAX's device_put."
   ]
  },
  {
   "cell_type": "code",
   "execution_count": 9,
   "id": "307af3af-3540-42fc-acb2-4a10afc951f7",
   "metadata": {},
   "outputs": [],
   "source": [
    "from jax import device_put"
   ]
  },
  {
   "cell_type": "code",
   "execution_count": 10,
   "id": "a3ab5009-c14b-4283-addd-561158e7d9ce",
   "metadata": {},
   "outputs": [
    {
     "name": "stdout",
     "output_type": "stream",
     "text": [
      "13.9 ms ± 285 µs per loop (mean ± std. dev. of 7 runs, 100 loops each)\n"
     ]
    }
   ],
   "source": [
    "size = 3000\n",
    "x = np.random.normal(size=(size, size)).astype(np.float32)\n",
    "x = device_put(x)\n",
    "\n",
    "%timeit jnp.dot(x, x.T).block_until_ready()"
   ]
  },
  {
   "cell_type": "markdown",
   "id": "77c41be3-5820-4bf7-a845-5cf1e15abaa5",
   "metadata": {},
   "source": [
    "# program transformations"
   ]
  },
  {
   "cell_type": "markdown",
   "id": "38314f02-dd5a-4d92-9981-ce7d9a192531",
   "metadata": {},
   "source": [
    "## jit()"
   ]
  },
  {
   "cell_type": "code",
   "execution_count": 11,
   "id": "c72fd4e8-09c9-41f5-87fb-c6470cc662c1",
   "metadata": {},
   "outputs": [],
   "source": [
    "def selu(x, alpha=1.07, lamda=1.05):\n",
    "    return lamda*jnp.where(x > 0, x, alpha*jnp.exp(x) - alpha)"
   ]
  },
  {
   "cell_type": "code",
   "execution_count": 12,
   "id": "bbc1c58e-86d3-4efc-8320-d2ca43914b31",
   "metadata": {},
   "outputs": [],
   "source": [
    "x = jax.random.normal(key, (1000000,))"
   ]
  },
  {
   "cell_type": "markdown",
   "id": "aefab94d-4673-4d31-9357-b73ede9c35b4",
   "metadata": {},
   "source": [
    "### without jit()"
   ]
  },
  {
   "cell_type": "code",
   "execution_count": 13,
   "id": "50ec1bd8-b5be-4109-a8a0-91373b89910c",
   "metadata": {},
   "outputs": [
    {
     "name": "stdout",
     "output_type": "stream",
     "text": [
      "1.6 ms ± 77.2 µs per loop (mean ± std. dev. of 7 runs, 1 loop each)\n"
     ]
    }
   ],
   "source": [
    "%timeit selu(x).block_until_ready()"
   ]
  },
  {
   "cell_type": "markdown",
   "id": "95193bb9-e045-4215-a41e-87561375419a",
   "metadata": {},
   "source": [
    "### with jit()"
   ]
  },
  {
   "cell_type": "code",
   "execution_count": 14,
   "id": "80968e5c-ad04-4f03-9bde-732a46d83107",
   "metadata": {},
   "outputs": [
    {
     "name": "stdout",
     "output_type": "stream",
     "text": [
      "363 µs ± 60.2 µs per loop (mean ± std. dev. of 7 runs, 1 loop each)\n"
     ]
    }
   ],
   "source": [
    "selu_jit = jit(selu)\n",
    "\n",
    "%timeit selu_jit(x).block_until_ready()"
   ]
  },
  {
   "cell_type": "markdown",
   "id": "eb785858-8d3d-4455-a6ea-a49148dc07ed",
   "metadata": {},
   "source": [
    "## grad()"
   ]
  },
  {
   "cell_type": "code",
   "execution_count": 15,
   "id": "c479791d-7f67-4968-ba01-63dc958961e1",
   "metadata": {},
   "outputs": [],
   "source": [
    "def sum_logistic(x):\n",
    "    return jnp.sum(1.0/(1.0 + jnp.exp(-x)))"
   ]
  },
  {
   "cell_type": "code",
   "execution_count": 16,
   "id": "7a6c7bc3-530d-4bc0-b18f-8b69d5805e5e",
   "metadata": {},
   "outputs": [],
   "source": [
    "def sum_sin(x):\n",
    "    return jnp.sum(jnp.sin(x))"
   ]
  },
  {
   "cell_type": "code",
   "execution_count": 17,
   "id": "5f72661e-010e-40a3-8b1c-3422f0eac30a",
   "metadata": {},
   "outputs": [],
   "source": [
    "function = sum_sin"
   ]
  },
  {
   "cell_type": "code",
   "execution_count": 18,
   "id": "73019b80-a98e-43f6-b609-5c12fd08631a",
   "metadata": {},
   "outputs": [],
   "source": [
    "x = jnp.arange(jnp.pi)"
   ]
  },
  {
   "cell_type": "markdown",
   "id": "d6b877bc-8ab3-4769-9f76-791f7714fd23",
   "metadata": {},
   "source": [
    "### using grad()"
   ]
  },
  {
   "cell_type": "code",
   "execution_count": 19,
   "id": "808deab6-e039-4ab3-a0b9-736479d2a62b",
   "metadata": {},
   "outputs": [],
   "source": [
    "derivative_function = grad(function)"
   ]
  },
  {
   "cell_type": "code",
   "execution_count": 20,
   "id": "52d6f56c-73a3-4228-9298-59220d86b67a",
   "metadata": {},
   "outputs": [
    {
     "name": "stdout",
     "output_type": "stream",
     "text": [
      "[ 1.         0.5403023 -0.4161468 -0.9899925]\n"
     ]
    }
   ],
   "source": [
    "print(derivative_function(x))"
   ]
  },
  {
   "cell_type": "markdown",
   "id": "f915666d-1c98-4c35-bd35-f14409b8c133",
   "metadata": {},
   "source": [
    "### using manual finite difference"
   ]
  },
  {
   "cell_type": "code",
   "execution_count": 21,
   "id": "a0e628ae-8608-427e-a4e8-f84bf5ef5a92",
   "metadata": {},
   "outputs": [
    {
     "name": "stdout",
     "output_type": "stream",
     "text": [
      "[[1. 0. 0. 0.]\n",
      " [0. 1. 0. 0.]\n",
      " [0. 0. 1. 0.]\n",
      " [0. 0. 0. 1.]]\n"
     ]
    }
   ],
   "source": [
    "print(jnp.eye(len(x)))"
   ]
  },
  {
   "cell_type": "code",
   "execution_count": 22,
   "id": "e5403b6e-9aae-4c05-a33e-4fb143c1f0d4",
   "metadata": {},
   "outputs": [],
   "source": [
    "def finite_difference_central_ord1(f, x):\n",
    "    h = 1E-3\n",
    "    return jnp.array([(f(x + h*v) - f(x - h*v))/(2*h)\n",
    "                     for v in jnp.eye(len(x))])"
   ]
  },
  {
   "cell_type": "code",
   "execution_count": 23,
   "id": "716e699c-34a5-4d4a-9796-c6f288005398",
   "metadata": {},
   "outputs": [
    {
     "name": "stdout",
     "output_type": "stream",
     "text": [
      "[ 1.0000466   0.54031605 -0.4161596  -0.9899139 ]\n"
     ]
    }
   ],
   "source": [
    "print(finite_difference_central_ord1(function, x))"
   ]
  },
  {
   "cell_type": "markdown",
   "id": "91456b83-2a09-40b2-815a-33a969452dd4",
   "metadata": {},
   "source": [
    "### composing grad() and jit()"
   ]
  },
  {
   "cell_type": "code",
   "execution_count": 24,
   "id": "787a1f08-2238-4541-b022-9693ecbb0ea5",
   "metadata": {},
   "outputs": [
    {
     "name": "stdout",
     "output_type": "stream",
     "text": [
      "8.742278e-08\n"
     ]
    }
   ],
   "source": [
    "y = grad(jit(grad(function)))(jnp.pi)\n",
    "\n",
    "print(y)  # case for sum_sin: sin->cos->sin, we get sin(pi) == 0"
   ]
  },
  {
   "cell_type": "code",
   "execution_count": 25,
   "id": "2e61fee5-0e2f-4268-9e06-10d2fd07eaab",
   "metadata": {},
   "outputs": [
    {
     "name": "stdout",
     "output_type": "stream",
     "text": [
      "1.0\n"
     ]
    }
   ],
   "source": [
    "y = grad(jit(grad(jit(grad(function)))))(jnp.pi)\n",
    "\n",
    "print(y)  # case for sum_sin: sin->cos->-sin->-cos, we get cos(pi) == 1"
   ]
  },
  {
   "cell_type": "markdown",
   "id": "de124734-2df5-4964-ba0c-2f9ea6e07a9e",
   "metadata": {},
   "source": [
    "### advanced\n",
    "\n",
    "- jax.vjp(): reverse-mode vector-Jacobian products\n",
    "- jax.jvp(): forward-mode Jacobian-vector products"
   ]
  },
  {
   "cell_type": "code",
   "execution_count": 26,
   "id": "75e22819-54d5-4ce0-ab32-f0749ff33d81",
   "metadata": {},
   "outputs": [],
   "source": [
    "# def hessian_(f):\n",
    "#     return jit(jax.jvp(jax.vjp(f)))  # seems wrong"
   ]
  },
  {
   "cell_type": "code",
   "execution_count": 27,
   "id": "9e11d8d3-2971-47de-8f0c-94053191345a",
   "metadata": {},
   "outputs": [],
   "source": [
    "from jax import jacfwd, jacrev"
   ]
  },
  {
   "cell_type": "code",
   "execution_count": 28,
   "id": "951b38a7-0744-4ea2-9dfc-bee71d4ceda6",
   "metadata": {},
   "outputs": [
    {
     "name": "stdout",
     "output_type": "stream",
     "text": [
      "[ 1.         0.5403023 -0.4161468 -0.9899925]\n",
      "[ 1.         0.5403023 -0.4161468 -0.9899925]\n"
     ]
    }
   ],
   "source": [
    "print(jit(jacfwd(function))(x))\n",
    "print(jit(jacrev(function))(x))"
   ]
  },
  {
   "cell_type": "code",
   "execution_count": 29,
   "id": "35a26070-ba97-4d80-8076-debd8fbd69e5",
   "metadata": {},
   "outputs": [],
   "source": [
    "def hessian(f):\n",
    "    return jit(jacfwd(jacrev(f)))"
   ]
  },
  {
   "cell_type": "code",
   "execution_count": 30,
   "id": "d283ee69-5c5d-4b8d-b91f-69c8eaf8caeb",
   "metadata": {},
   "outputs": [
    {
     "name": "stdout",
     "output_type": "stream",
     "text": [
      "[[-0.         -0.         -0.         -0.        ]\n",
      " [-0.         -0.841471   -0.         -0.        ]\n",
      " [-0.         -0.         -0.90929747 -0.        ]\n",
      " [-0.         -0.         -0.         -0.14112   ]]\n"
     ]
    }
   ],
   "source": [
    "y = hessian(function)(x)\n",
    "\n",
    "print(y)"
   ]
  },
  {
   "cell_type": "markdown",
   "id": "19e09931-fd64-4af5-b0b4-92073c19641f",
   "metadata": {},
   "source": [
    "## vmap()"
   ]
  },
  {
   "cell_type": "code",
   "execution_count": 31,
   "id": "43d20420-1355-4e05-89e9-52ee82dfea03",
   "metadata": {},
   "outputs": [
    {
     "name": "stdout",
     "output_type": "stream",
     "text": [
      "[[ 0.18784384 -1.2833426 ]\n",
      " [ 0.6494181   1.2490593 ]\n",
      " [ 0.24447003 -0.11744965]]\n",
      "[ 0.18784384 -1.2833426 ]\n",
      "[0.6494181 1.2490593]\n",
      "[ 0.24447003 -0.11744965]\n"
     ]
    }
   ],
   "source": [
    "v_batch = jax.random.normal(key, (3, 2))\n",
    "print(v_batch)\n",
    "\n",
    "for v in v_batch:\n",
    "    print(v)"
   ]
  },
  {
   "cell_type": "code",
   "execution_count": 32,
   "id": "7a2601cb-439d-41bc-8dea-215cf4f27204",
   "metadata": {},
   "outputs": [],
   "source": [
    "def left_A_multiply(v):\n",
    "    return jnp.dot(A, v)"
   ]
  },
  {
   "cell_type": "code",
   "execution_count": 33,
   "id": "f384ffcb-cd70-49e9-84d9-9f459a38da54",
   "metadata": {},
   "outputs": [],
   "source": [
    "A = jax.random.normal(key, (150, 100))"
   ]
  },
  {
   "cell_type": "code",
   "execution_count": 34,
   "id": "f9908904-b344-42bd-889b-80732b0ba440",
   "metadata": {},
   "outputs": [],
   "source": [
    "v_batch = jax.random.normal(key, (10, 100))"
   ]
  },
  {
   "cell_type": "markdown",
   "id": "693a3dc6-fdc4-454b-a61f-4393ae87fda3",
   "metadata": {},
   "source": [
    "### naive multiplication\n",
    "\n",
    "for loop"
   ]
  },
  {
   "cell_type": "code",
   "execution_count": 35,
   "id": "d569c632-a64b-4170-ab63-19278b4676ec",
   "metadata": {},
   "outputs": [],
   "source": [
    "def naive_batch_left_A_multiply(v_batch):\n",
    "    return jnp.stack([left_A_multiply(v) for v in v_batch])"
   ]
  },
  {
   "cell_type": "code",
   "execution_count": 36,
   "id": "0d76cbad-9f02-4a3b-8370-d4ae97e9e26d",
   "metadata": {},
   "outputs": [
    {
     "name": "stdout",
     "output_type": "stream",
     "text": [
      "4.01 ms ± 128 µs per loop (mean ± std. dev. of 7 runs, 1 loop each)\n"
     ]
    }
   ],
   "source": [
    "%timeit naive_batch_left_A_multiply(v_batch).block_until_ready()"
   ]
  },
  {
   "cell_type": "code",
   "execution_count": 37,
   "id": "cf076e58-ae56-4f51-a758-a505302ed454",
   "metadata": {},
   "outputs": [],
   "source": [
    "@jit\n",
    "def naive_batch_left_A_multiply(v_batch):\n",
    "    return jnp.stack([left_A_multiply(v) for v in v_batch])"
   ]
  },
  {
   "cell_type": "code",
   "execution_count": 38,
   "id": "85bef429-75b7-4d1b-b0e5-b090174780f4",
   "metadata": {},
   "outputs": [
    {
     "name": "stdout",
     "output_type": "stream",
     "text": [
      "314 µs ± 29 µs per loop (mean ± std. dev. of 7 runs, 1 loop each)\n"
     ]
    }
   ],
   "source": [
    "%timeit naive_batch_left_A_multiply(v_batch).block_until_ready()"
   ]
  },
  {
   "cell_type": "markdown",
   "id": "e4efd35a-09c7-4456-bcfe-b8e1fd7f3ca2",
   "metadata": {},
   "source": [
    "### multiplication using linear algebra\n",
    "\n",
    "matrix multiplication"
   ]
  },
  {
   "cell_type": "code",
   "execution_count": 39,
   "id": "8987ba84-6512-4852-bc72-7190ccb72096",
   "metadata": {},
   "outputs": [],
   "source": [
    "def mathy_batch_left_A_multiply(v_batch):\n",
    "    return jnp.dot(v_batch, A.T)"
   ]
  },
  {
   "cell_type": "code",
   "execution_count": 40,
   "id": "64f52114-98b0-4363-b4b2-da933d907139",
   "metadata": {},
   "outputs": [
    {
     "name": "stdout",
     "output_type": "stream",
     "text": [
      "490 µs ± 90.7 µs per loop (mean ± std. dev. of 7 runs, 1 loop each)\n"
     ]
    }
   ],
   "source": [
    "%timeit mathy_batch_left_A_multiply(v_batch).block_until_ready()"
   ]
  },
  {
   "cell_type": "code",
   "execution_count": 41,
   "id": "877539a3-7459-427e-b1fa-9d2dc76cd37c",
   "metadata": {},
   "outputs": [],
   "source": [
    "@jit\n",
    "def mathy_batch_left_A_multiply(v_batch):\n",
    "    return jnp.dot(v_batch, A.T)"
   ]
  },
  {
   "cell_type": "code",
   "execution_count": 42,
   "id": "4fd9781e-78a7-4378-9f00-7613aec10977",
   "metadata": {},
   "outputs": [
    {
     "name": "stdout",
     "output_type": "stream",
     "text": [
      "96.6 µs ± 52.6 µs per loop (mean ± std. dev. of 7 runs, 1,000 loops each)\n"
     ]
    }
   ],
   "source": [
    "%timeit mathy_batch_left_A_multiply(v_batch).block_until_ready()"
   ]
  },
  {
   "cell_type": "markdown",
   "id": "7883bbe6-5507-4719-b00b-8f565bb18012",
   "metadata": {},
   "source": [
    "### multiplication using vectorizing map\n",
    "\n",
    "JAX computational"
   ]
  },
  {
   "cell_type": "code",
   "execution_count": 43,
   "id": "6bdb2a17-f52c-4a30-8271-48e74fd40bc8",
   "metadata": {},
   "outputs": [],
   "source": [
    "def vmap_batch_left_A_multiply(v_batch):\n",
    "    return vmap(left_A_multiply)(v_batch)"
   ]
  },
  {
   "cell_type": "code",
   "execution_count": 44,
   "id": "a713e197-b8a3-43c1-b779-1b8d496ee96c",
   "metadata": {},
   "outputs": [
    {
     "name": "stdout",
     "output_type": "stream",
     "text": [
      "976 µs ± 412 µs per loop (mean ± std. dev. of 7 runs, 1,000 loops each)\n"
     ]
    }
   ],
   "source": [
    "%timeit vmap_batch_left_A_multiply(v_batch).block_until_ready()"
   ]
  },
  {
   "cell_type": "code",
   "execution_count": 45,
   "id": "ee9376a8-19b3-4221-9f75-ee3fb0a57468",
   "metadata": {},
   "outputs": [],
   "source": [
    "@jit\n",
    "def vmap_batch_left_A_multiply(v_batch):\n",
    "    return vmap(left_A_multiply)(v_batch)"
   ]
  },
  {
   "cell_type": "code",
   "execution_count": 46,
   "id": "18734230-623f-426a-9844-86f8d8ffb453",
   "metadata": {},
   "outputs": [
    {
     "name": "stdout",
     "output_type": "stream",
     "text": [
      "195 µs ± 35.9 µs per loop (mean ± std. dev. of 7 runs, 1,000 loops each)\n"
     ]
    }
   ],
   "source": [
    "%timeit vmap_batch_left_A_multiply(v_batch).block_until_ready()"
   ]
  },
  {
   "cell_type": "code",
   "execution_count": null,
   "id": "2f5fc389-29df-4dbc-aa21-dd3a24301219",
   "metadata": {},
   "outputs": [],
   "source": []
  }
 ],
 "metadata": {
  "kernelspec": {
   "display_name": "Python 3 (ipykernel)",
   "language": "python",
   "name": "python3"
  },
  "language_info": {
   "codemirror_mode": {
    "name": "ipython",
    "version": 3
   },
   "file_extension": ".py",
   "mimetype": "text/x-python",
   "name": "python",
   "nbconvert_exporter": "python",
   "pygments_lexer": "ipython3",
   "version": "3.12.2"
  }
 },
 "nbformat": 4,
 "nbformat_minor": 5
}
