{
 "cells": [
  {
   "cell_type": "markdown",
   "id": "e9a6436a-61db-4f9d-b7fb-61c72362b10b",
   "metadata": {},
   "source": [
    "**S01P07_random_numbers.ipynb**\n",
    "\n",
    "Arz\n",
    "\n",
    "2024 APR 06 (SAT)\n",
    "\n",
    "reference:\n",
    "https://jax.readthedocs.io/en/latest/notebooks/Common_Gotchas_in_JAX.html"
   ]
  },
  {
   "cell_type": "code",
   "execution_count": 1,
   "id": "7b72c1ab-5a6e-4932-ace1-3d95c794ba87",
   "metadata": {},
   "outputs": [],
   "source": [
    "import numpy as np"
   ]
  },
  {
   "cell_type": "code",
   "execution_count": 2,
   "id": "d96809c0-7445-4e79-ad03-dd143b93a499",
   "metadata": {},
   "outputs": [],
   "source": [
    "import jax\n",
    "import jax.numpy as jnp\n",
    "from jax import lax\n",
    "from jax import grad, jit\n",
    "from jax import random"
   ]
  },
  {
   "cell_type": "code",
   "execution_count": 3,
   "id": "40330129-71a9-4946-9ae1-953dfcf538a7",
   "metadata": {},
   "outputs": [
    {
     "name": "stdout",
     "output_type": "stream",
     "text": [
      "Exception reporting mode: Minimal\n"
     ]
    }
   ],
   "source": [
    "%xmode minimal"
   ]
  },
  {
   "cell_type": "markdown",
   "id": "29e8d626-0582-4758-a9dd-6b5b47331629",
   "metadata": {},
   "source": [
    "# random numbers"
   ]
  },
  {
   "cell_type": "markdown",
   "id": "9913692d-547f-4969-a84c-25859364bda4",
   "metadata": {},
   "source": [
    "## NumPy: PRNG"
   ]
  },
  {
   "cell_type": "code",
   "execution_count": 4,
   "id": "fd3e37d6-a57d-415c-aee6-5165d8d1d4f9",
   "metadata": {},
   "outputs": [
    {
     "data": {
      "text/plain": [
       "0.35283432881870713"
      ]
     },
     "execution_count": 4,
     "metadata": {},
     "output_type": "execute_result"
    }
   ],
   "source": [
    "np.random.random()"
   ]
  },
  {
   "cell_type": "code",
   "execution_count": 5,
   "id": "d0a0ca26-85e3-4be8-9fac-f63e4bb9b747",
   "metadata": {},
   "outputs": [],
   "source": [
    "np.random.seed(0)\n",
    "rng_state = np.random.get_state()"
   ]
  },
  {
   "cell_type": "code",
   "execution_count": 6,
   "id": "97f71f8a-b707-4acb-81a1-86bc75a99f8f",
   "metadata": {},
   "outputs": [],
   "source": [
    "# print(rng_state)"
   ]
  },
  {
   "cell_type": "markdown",
   "id": "f241e3d2-d08f-435e-ae7a-dda54718fd2a",
   "metadata": {},
   "source": [
    "## JAX: PRNG"
   ]
  },
  {
   "cell_type": "code",
   "execution_count": 7,
   "id": "cf23019e-9f03-460f-a078-fa2cd154caba",
   "metadata": {},
   "outputs": [
    {
     "data": {
      "text/plain": [
       "Array((), dtype=key<fry>) overlaying:\n",
       "[0 0]"
      ]
     },
     "execution_count": 7,
     "metadata": {},
     "output_type": "execute_result"
    }
   ],
   "source": [
    "key = random.key(0)\n",
    "\n",
    "key"
   ]
  },
  {
   "cell_type": "markdown",
   "id": "79e72193-e7ef-482f-acd3-38e5c6881b1b",
   "metadata": {},
   "source": [
    "the same key produces the same result."
   ]
  },
  {
   "cell_type": "code",
   "execution_count": 8,
   "id": "5058fce0-09d5-417f-9aa1-6a4acb138c0b",
   "metadata": {},
   "outputs": [
    {
     "name": "stdout",
     "output_type": "stream",
     "text": [
      "[-0.20584226]\n",
      "Array((), dtype=key<fry>) overlaying:\n",
      "[0 0]\n",
      "[-0.20584226]\n",
      "Array((), dtype=key<fry>) overlaying:\n",
      "[0 0]\n"
     ]
    }
   ],
   "source": [
    "print(random.normal(key, shape=(1,)))\n",
    "print(key)\n",
    "\n",
    "print(random.normal(key, shape=(1,)))\n",
    "print(key)"
   ]
  },
  {
   "cell_type": "markdown",
   "id": "128d7f46-2b3e-4d39-9e11-0479edbfa278",
   "metadata": {},
   "source": [
    "so split a key into subkeys to generate different random numbers."
   ]
  },
  {
   "cell_type": "code",
   "execution_count": 9,
   "id": "3044ad59-21ac-4b01-9cdb-3f60dda6a575",
   "metadata": {},
   "outputs": [
    {
     "name": "stdout",
     "output_type": "stream",
     "text": [
      "key before split: Array((), dtype=key<fry>) overlaying:\n",
      "[0 0]\n",
      "  number: [-0.20584226] \n",
      "\n",
      "key after split: Array((), dtype=key<fry>) overlaying:\n",
      "[4146024105  967050713]\n",
      "subkey: Array((), dtype=key<fry>) overlaying:\n",
      "[2718843009 1272950319]\n",
      "  number: [-1.2515389]\n"
     ]
    }
   ],
   "source": [
    "print(\"key before split:\", key)\n",
    "print(\"  number:\", random.normal(key, shape=(1,)), \"\\n\")\n",
    "\n",
    "key, subkey = random.split(key)\n",
    "print(\"key after split:\", key)\n",
    "print(\"subkey:\", subkey)\n",
    "print(\"  number:\", random.normal(subkey, shape=(1,)))"
   ]
  },
  {
   "cell_type": "markdown",
   "id": "00a8120c-ae59-49ac-b758-fc6413f02342",
   "metadata": {},
   "source": [
    "propagate key and split it to produce subkeys that will be used to generate random numbers."
   ]
  },
  {
   "cell_type": "code",
   "execution_count": 10,
   "id": "2d745bdb-f89f-4f08-890b-3fd3a4dc4f20",
   "metadata": {},
   "outputs": [
    {
     "name": "stdout",
     "output_type": "stream",
     "text": [
      "key before split: Array((), dtype=key<fry>) overlaying:\n",
      "[4146024105  967050713]\n",
      "  number: [0.14389051] \n",
      "\n",
      "key after split: Array((), dtype=key<fry>) overlaying:\n",
      "[2384771982 3928867769]\n",
      "subkey: Array((), dtype=key<fry>) overlaying:\n",
      "[1278412471 2182328957]\n",
      "  number: [-0.58665055]\n"
     ]
    }
   ],
   "source": [
    "print(\"key before split:\", key)\n",
    "print(\"  number:\", random.normal(key, shape=(1,)), \"\\n\")\n",
    "\n",
    "key, subkey = random.split(key)\n",
    "print(\"key after split:\", key)\n",
    "print(\"subkey:\", subkey)\n",
    "print(\"  number:\", random.normal(subkey, shape=(1,)))"
   ]
  },
  {
   "cell_type": "markdown",
   "id": "5a42013e-8fd4-4a37-a161-acb8fb7aa79a",
   "metadata": {},
   "source": [
    "### how to produce >1 subkeys at a time\n",
    "\n",
    "ex) 3 subkeys"
   ]
  },
  {
   "cell_type": "code",
   "execution_count": 11,
   "id": "80e6e6fa-d96c-4b78-b97f-332d947f5aa6",
   "metadata": {},
   "outputs": [
    {
     "name": "stdout",
     "output_type": "stream",
     "text": [
      "key after split: Array((), dtype=key<fry>) overlaying:\n",
      "[1594945422 1369375165]\n",
      "subkeys: [Array((), dtype=key<fry>) overlaying:\n",
      "[2931675882 1444655455], Array((), dtype=key<fry>) overlaying:\n",
      "[2994431502 1854917485], Array((), dtype=key<fry>) overlaying:\n",
      "[2303906914 4183882777]] \n",
      "\n",
      "[-0.37533438]\n",
      "[0.98645043]\n",
      "[0.14553197]\n"
     ]
    }
   ],
   "source": [
    "key, *subkeys = random.split(key, 4)\n",
    "print(\"key after split:\", key)\n",
    "print(\"subkeys:\", subkeys, \"\\n\")\n",
    "\n",
    "for subkey in subkeys:\n",
    "    print(random.normal(subkey, shape=(1,)))"
   ]
  },
  {
   "cell_type": "code",
   "execution_count": null,
   "id": "076449d4-c363-4cdf-864f-9fe10f95895c",
   "metadata": {},
   "outputs": [],
   "source": []
  }
 ],
 "metadata": {
  "kernelspec": {
   "display_name": "Python 3 (ipykernel)",
   "language": "python",
   "name": "python3"
  },
  "language_info": {
   "codemirror_mode": {
    "name": "ipython",
    "version": 3
   },
   "file_extension": ".py",
   "mimetype": "text/x-python",
   "name": "python",
   "nbconvert_exporter": "python",
   "pygments_lexer": "ipython3",
   "version": "3.12.2"
  }
 },
 "nbformat": 4,
 "nbformat_minor": 5
}
