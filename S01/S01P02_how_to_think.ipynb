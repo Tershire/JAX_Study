{
 "cells": [
  {
   "cell_type": "markdown",
   "id": "470ab3ac-d929-4576-a149-18bd3dcaa144",
   "metadata": {},
   "source": [
    "**S01P02_how_to_think.ipynb**\n",
    "\n",
    "Arz\n",
    "\n",
    "2024 APR 04 (THU)\n",
    "\n",
    "reference:\n",
    "https://jax.readthedocs.io/en/latest/notebooks/thinking_in_jax.html"
   ]
  },
  {
   "cell_type": "code",
   "execution_count": 1,
   "id": "d59fd04e-3a69-4904-b9f6-e11949c93da7",
   "metadata": {},
   "outputs": [],
   "source": [
    "import jax.numpy as jnp"
   ]
  },
  {
   "cell_type": "code",
   "execution_count": 2,
   "id": "2ef1bdfb-f461-4ac7-ac52-53d20be852db",
   "metadata": {},
   "outputs": [],
   "source": [
    "import plotly.express as px\n",
    "import plotly.io as pio\n",
    "pio.renderers.default = 'iframe'"
   ]
  },
  {
   "cell_type": "markdown",
   "id": "22a7cde9-56e5-4514-8543-a15fc680ef8c",
   "metadata": {},
   "source": [
    "# plot test"
   ]
  },
  {
   "cell_type": "code",
   "execution_count": 3,
   "id": "8e665373-d88f-4213-97b6-76d7e869526b",
   "metadata": {},
   "outputs": [],
   "source": [
    "x = jnp.linspace(0, 10, 1000)\n",
    "y = 2*jnp.sin(x)*jnp.cos(x)"
   ]
  },
  {
   "cell_type": "code",
   "execution_count": 4,
   "id": "fe8e9d41-3b3c-41a1-9619-4ce7ed284787",
   "metadata": {},
   "outputs": [
    {
     "data": {
      "text/html": [
       "<iframe\n",
       "    scrolling=\"no\"\n",
       "    width=\"100%\"\n",
       "    height=\"545px\"\n",
       "    src=\"iframe_figures/figure_4.html\"\n",
       "    frameborder=\"0\"\n",
       "    allowfullscreen\n",
       "></iframe>\n"
      ]
     },
     "metadata": {},
     "output_type": "display_data"
    }
   ],
   "source": [
    "fig = px.line(x=x, y=y, markers=True)\n",
    "fig.show()"
   ]
  },
  {
   "cell_type": "markdown",
   "id": "24ecb274-38af-492a-9a3f-8d1f1f698083",
   "metadata": {},
   "source": [
    "# about type"
   ]
  },
  {
   "cell_type": "code",
   "execution_count": 5,
   "id": "de0eb4cf-22a7-406e-be3e-ebc366db7669",
   "metadata": {},
   "outputs": [
    {
     "data": {
      "text/plain": [
       "jaxlib.xla_extension.ArrayImpl"
      ]
     },
     "execution_count": 5,
     "metadata": {},
     "output_type": "execute_result"
    }
   ],
   "source": [
    "type(x)"
   ]
  },
  {
   "cell_type": "code",
   "execution_count": null,
   "id": "1ba60891-32f0-4fec-80f4-65b356534249",
   "metadata": {},
   "outputs": [],
   "source": []
  }
 ],
 "metadata": {
  "kernelspec": {
   "display_name": "Python 3 (ipykernel)",
   "language": "python",
   "name": "python3"
  },
  "language_info": {
   "codemirror_mode": {
    "name": "ipython",
    "version": 3
   },
   "file_extension": ".py",
   "mimetype": "text/x-python",
   "name": "python",
   "nbconvert_exporter": "python",
   "pygments_lexer": "ipython3",
   "version": "3.12.2"
  }
 },
 "nbformat": 4,
 "nbformat_minor": 5
}
