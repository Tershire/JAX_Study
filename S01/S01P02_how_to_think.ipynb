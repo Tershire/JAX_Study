{
 "cells": [
  {
   "cell_type": "markdown",
   "id": "470ab3ac-d929-4576-a149-18bd3dcaa144",
   "metadata": {},
   "source": [
    "**S01P02_how_to_think.ipynb**\n",
    "\n",
    "Arz\n",
    "\n",
    "2024 APR 04 (THU)\n",
    "\n",
    "reference:\n",
    "https://jax.readthedocs.io/en/latest/notebooks/thinking_in_jax.html"
   ]
  },
  {
   "cell_type": "code",
   "execution_count": 1,
   "id": "d59fd04e-3a69-4904-b9f6-e11949c93da7",
   "metadata": {},
   "outputs": [],
   "source": [
    "import jax.numpy as jnp\n",
    "from jax import lax"
   ]
  },
  {
   "cell_type": "code",
   "execution_count": 2,
   "id": "6d563c39-040f-457c-a1ee-75b92814cc58",
   "metadata": {},
   "outputs": [],
   "source": [
    "import numpy as np"
   ]
  },
  {
   "cell_type": "code",
   "execution_count": 3,
   "id": "2ef1bdfb-f461-4ac7-ac52-53d20be852db",
   "metadata": {},
   "outputs": [],
   "source": [
    "import plotly.express as px\n",
    "import plotly.io as pio\n",
    "pio.renderers.default = 'iframe'"
   ]
  },
  {
   "cell_type": "code",
   "execution_count": 4,
   "id": "212f9125-aea2-4cc5-a997-c7809706466b",
   "metadata": {},
   "outputs": [
    {
     "name": "stdout",
     "output_type": "stream",
     "text": [
      "Exception reporting mode: Minimal\n"
     ]
    }
   ],
   "source": [
    "%xmode minimal"
   ]
  },
  {
   "cell_type": "markdown",
   "id": "22a7cde9-56e5-4514-8543-a15fc680ef8c",
   "metadata": {},
   "source": [
    "# plot test"
   ]
  },
  {
   "cell_type": "code",
   "execution_count": 5,
   "id": "8e665373-d88f-4213-97b6-76d7e869526b",
   "metadata": {},
   "outputs": [
    {
     "name": "stderr",
     "output_type": "stream",
     "text": [
      "CUDA backend failed to initialize: Unable to load CUDA. Is it installed? (Set TF_CPP_MIN_LOG_LEVEL=0 and rerun for more info.)\n"
     ]
    }
   ],
   "source": [
    "x = jnp.linspace(0, 10, 1000)\n",
    "y = 2*jnp.sin(x)*jnp.cos(x)"
   ]
  },
  {
   "cell_type": "code",
   "execution_count": 6,
   "id": "fe8e9d41-3b3c-41a1-9619-4ce7ed284787",
   "metadata": {},
   "outputs": [
    {
     "data": {
      "text/html": [
       "<iframe\n",
       "    scrolling=\"no\"\n",
       "    width=\"100%\"\n",
       "    height=\"545px\"\n",
       "    src=\"iframe_figures/figure_6.html\"\n",
       "    frameborder=\"0\"\n",
       "    allowfullscreen\n",
       "></iframe>\n"
      ]
     },
     "metadata": {},
     "output_type": "display_data"
    }
   ],
   "source": [
    "fig = px.line(x=x, y=y, markers=True)\n",
    "fig.show()"
   ]
  },
  {
   "cell_type": "markdown",
   "id": "24ecb274-38af-492a-9a3f-8d1f1f698083",
   "metadata": {},
   "source": [
    "# about type"
   ]
  },
  {
   "cell_type": "code",
   "execution_count": 7,
   "id": "de0eb4cf-22a7-406e-be3e-ebc366db7669",
   "metadata": {},
   "outputs": [
    {
     "data": {
      "text/plain": [
       "jaxlib.xla_extension.ArrayImpl"
      ]
     },
     "execution_count": 7,
     "metadata": {},
     "output_type": "execute_result"
    }
   ],
   "source": [
    "type(x)"
   ]
  },
  {
   "cell_type": "markdown",
   "id": "d5e59691-40fe-4c7a-b79c-1edbdaf95880",
   "metadata": {},
   "source": [
    "## NumPy array: mutable"
   ]
  },
  {
   "cell_type": "code",
   "execution_count": 8,
   "id": "51b10c1d-574e-4753-97d9-39b9c8cdac8f",
   "metadata": {},
   "outputs": [],
   "source": [
    "x = np.arange(10)\n",
    "x[0] = 7"
   ]
  },
  {
   "cell_type": "code",
   "execution_count": 9,
   "id": "0628e7ff-8114-40f7-ba66-11be4e6d790c",
   "metadata": {},
   "outputs": [
    {
     "name": "stdout",
     "output_type": "stream",
     "text": [
      "[7 1 2 3 4 5 6 7 8 9]\n"
     ]
    }
   ],
   "source": [
    "print(x)"
   ]
  },
  {
   "cell_type": "markdown",
   "id": "8fbb6a26-d3db-4ede-9f9e-77c988018128",
   "metadata": {},
   "source": [
    "## JAX array: immutable"
   ]
  },
  {
   "cell_type": "code",
   "execution_count": 10,
   "id": "09e7cfdf-1d8e-44a7-b7eb-df528802243d",
   "metadata": {},
   "outputs": [],
   "source": [
    "x = jnp.arange(10)\n",
    "# x[0] = 7  # forbidden\n",
    "x = x.at[0].set(7)  # reassignment with a modified copy "
   ]
  },
  {
   "cell_type": "code",
   "execution_count": 11,
   "id": "096a642d-1898-422d-a045-304ef4e96456",
   "metadata": {},
   "outputs": [
    {
     "name": "stdout",
     "output_type": "stream",
     "text": [
      "[7 1 2 3 4 5 6 7 8 9]\n"
     ]
    }
   ],
   "source": [
    "print(x)"
   ]
  },
  {
   "cell_type": "markdown",
   "id": "a3c155ca-f446-4ab7-9107-7ce15f2739b9",
   "metadata": {},
   "source": [
    "# jax.numpy vs jax.lax"
   ]
  },
  {
   "cell_type": "markdown",
   "id": "ddf8444f-74d6-453b-8c4b-9d5f7d1c3e42",
   "metadata": {},
   "source": [
    "## ex) promotion"
   ]
  },
  {
   "cell_type": "code",
   "execution_count": 12,
   "id": "cf6cb17a-0bf8-4106-be2c-e1af27770989",
   "metadata": {},
   "outputs": [
    {
     "data": {
      "text/plain": [
       "Array(2., dtype=float32, weak_type=True)"
      ]
     },
     "execution_count": 12,
     "metadata": {},
     "output_type": "execute_result"
    }
   ],
   "source": [
    "jnp.add(1, 1.0)  # automatic promotion"
   ]
  },
  {
   "cell_type": "code",
   "execution_count": 13,
   "id": "8ecc64cc-48a7-474f-996d-c18c081017c2",
   "metadata": {},
   "outputs": [],
   "source": [
    "# lax.add(1, 1.0)  # forbidden"
   ]
  },
  {
   "cell_type": "code",
   "execution_count": 14,
   "id": "61b45eab-92d9-4eae-9a61-9dc44ed32fd2",
   "metadata": {},
   "outputs": [
    {
     "data": {
      "text/plain": [
       "Array(2., dtype=float32)"
      ]
     },
     "execution_count": 14,
     "metadata": {},
     "output_type": "execute_result"
    }
   ],
   "source": [
    "lax.add(jnp.float32(1), 1.0)"
   ]
  },
  {
   "cell_type": "markdown",
   "id": "d6aee38e-a268-40a6-a21e-c714407b7baa",
   "metadata": {},
   "source": [
    "## ex) more general operations allowed by lax API"
   ]
  },
  {
   "cell_type": "code",
   "execution_count": 15,
   "id": "73d9dbe0-bac6-4bd4-be58-85aba79586ec",
   "metadata": {},
   "outputs": [],
   "source": [
    "x = jnp.array([1, 2, 1])\n",
    "y = jnp.ones(5)"
   ]
  },
  {
   "cell_type": "code",
   "execution_count": 16,
   "id": "b6106c45-805d-4785-8643-23d2551f5d10",
   "metadata": {},
   "outputs": [
    {
     "name": "stdout",
     "output_type": "stream",
     "text": [
      "[1. 3. 4. 4. 4. 3. 1.]\n"
     ]
    }
   ],
   "source": [
    "z = jnp.convolve(x, y)\n",
    "\n",
    "print(z)"
   ]
  },
  {
   "cell_type": "code",
   "execution_count": 17,
   "id": "074265a2-8cdf-47d1-a5f9-c19837f916f0",
   "metadata": {},
   "outputs": [
    {
     "name": "stdout",
     "output_type": "stream",
     "text": [
      "[[[1. 3. 4. 4. 4. 3. 1.]]]\n",
      "[1. 3. 4. 4. 4. 3. 1.]\n"
     ]
    }
   ],
   "source": [
    "z = lax.conv_general_dilated(\n",
    "    x.reshape(1, 1, len(x)).astype(float),  # explicit promotion\n",
    "    y.reshape(1, 1, len(y)),\n",
    "    window_strides=(1,),\n",
    "    padding=[(len(y) - 1, len(y) - 1)])\n",
    "\n",
    "print(z)\n",
    "print(z[0, 0])"
   ]
  },
  {
   "cell_type": "markdown",
   "id": "82bfdfaf-bedd-490a-be15-771c4f9878fd",
   "metadata": {},
   "source": [
    "# to JIT or not to JIT"
   ]
  },
  {
   "cell_type": "code",
   "execution_count": 18,
   "id": "f8298c45-908a-46a9-8ef0-26881fe7ebb2",
   "metadata": {},
   "outputs": [],
   "source": [
    "from jax import jit"
   ]
  },
  {
   "cell_type": "markdown",
   "id": "217db4c0-e4ce-466c-a76a-9fbbd1065804",
   "metadata": {},
   "source": [
    "## to JIT"
   ]
  },
  {
   "cell_type": "code",
   "execution_count": 19,
   "id": "8eff3afd-ee6a-4980-ae95-eef58c0358b7",
   "metadata": {},
   "outputs": [],
   "source": [
    "def norm(X):\n",
    "    X = X - X.mean(0)\n",
    "    return X/X.std(0)"
   ]
  },
  {
   "cell_type": "code",
   "execution_count": 20,
   "id": "c1221abe-aecb-4ba8-8f4d-1a4bab823d35",
   "metadata": {},
   "outputs": [],
   "source": [
    "norm_jit = jit(norm)"
   ]
  },
  {
   "cell_type": "markdown",
   "id": "01f06a77-e52a-4730-931d-99e70ea5df40",
   "metadata": {},
   "source": [
    "### comparison: result"
   ]
  },
  {
   "cell_type": "code",
   "execution_count": 21,
   "id": "0b229499-2ca9-4de0-8b6a-fb4454a90720",
   "metadata": {},
   "outputs": [],
   "source": [
    "np.random.seed(1701)\n",
    "X = jnp.array(np.random.rand(10000, 10))"
   ]
  },
  {
   "cell_type": "code",
   "execution_count": 22,
   "id": "455ee4cc-d083-41fc-b840-71dec450dcb0",
   "metadata": {},
   "outputs": [
    {
     "data": {
      "text/plain": [
       "True"
      ]
     },
     "execution_count": 22,
     "metadata": {},
     "output_type": "execute_result"
    }
   ],
   "source": [
    "np.allclose(norm(X), norm_jit(X), atol=1E-6)"
   ]
  },
  {
   "cell_type": "markdown",
   "id": "612ecf4f-a4d6-4c8a-b9c4-2523a1b2e80e",
   "metadata": {},
   "source": [
    "### comparison: execution time"
   ]
  },
  {
   "cell_type": "code",
   "execution_count": 23,
   "id": "f18a3409-bf95-437a-af1c-296a825ddcc4",
   "metadata": {},
   "outputs": [
    {
     "name": "stdout",
     "output_type": "stream",
     "text": [
      "1.29 ms ± 1.65 µs per loop (mean ± std. dev. of 7 runs, 1,000 loops each)\n",
      "1.25 ms ± 666 ns per loop (mean ± std. dev. of 7 runs, 1,000 loops each)\n"
     ]
    }
   ],
   "source": [
    "%timeit norm(X).block_until_ready()\n",
    "%timeit norm_jit(X).block_until_ready()"
   ]
  },
  {
   "cell_type": "markdown",
   "id": "681f100b-3d6a-4685-9668-8d6515f7b8de",
   "metadata": {},
   "source": [
    "## not to JIT"
   ]
  },
  {
   "cell_type": "code",
   "execution_count": 24,
   "id": "b263c56a-f022-4b01-b631-d730f3bbddce",
   "metadata": {},
   "outputs": [],
   "source": [
    "def get_negatives(x):\n",
    "    return x[x < 0]"
   ]
  },
  {
   "cell_type": "code",
   "execution_count": 25,
   "id": "50c4a885-423c-48f0-a657-8759858d50f4",
   "metadata": {},
   "outputs": [],
   "source": [
    "x = jnp.array(np.random.randn(10))"
   ]
  },
  {
   "cell_type": "code",
   "execution_count": 26,
   "id": "f6abb070-7f28-461a-a997-a8069683ee6b",
   "metadata": {},
   "outputs": [
    {
     "data": {
      "text/plain": [
       "Array([-0.10570311, -0.59403396, -0.8680282 , -0.23489487], dtype=float32)"
      ]
     },
     "execution_count": 26,
     "metadata": {},
     "output_type": "execute_result"
    }
   ],
   "source": [
    "get_negatives(x)"
   ]
  },
  {
   "cell_type": "code",
   "execution_count": 27,
   "id": "a17933cb-4eb4-44e9-9465-b0b558e89cf3",
   "metadata": {},
   "outputs": [],
   "source": [
    "get_negatives_jit = jit(get_negatives)"
   ]
  },
  {
   "cell_type": "code",
   "execution_count": 28,
   "id": "6d38a111-c827-4878-96b4-3be5aa173cf9",
   "metadata": {},
   "outputs": [],
   "source": [
    "# get_negatives_jit(x)  # forbidden because the shape of x is not static"
   ]
  },
  {
   "cell_type": "markdown",
   "id": "d24bff33-3187-422c-90fb-ef612f50eced",
   "metadata": {},
   "source": [
    "# JIT mechanics: tracing & static variables"
   ]
  },
  {
   "cell_type": "markdown",
   "id": "5bae4071-5eeb-488b-90ae-da965d423b03",
   "metadata": {},
   "source": [
    "JIT traces a function."
   ]
  },
  {
   "cell_type": "code",
   "execution_count": 29,
   "id": "1152f705-176a-4d0a-b6a1-6d9c45d6e118",
   "metadata": {},
   "outputs": [],
   "source": [
    "@jit\n",
    "def f(x, y):\n",
    "    print(\"f():\")\n",
    "    print(f\"  x = {x}\")\n",
    "    print(f\"  y = {y}\")\n",
    "\n",
    "    result = jnp.dot(x + 1, y + 1)\n",
    "\n",
    "    print(f\"  result = {result}\")\n",
    "    \n",
    "    return result"
   ]
  },
  {
   "cell_type": "code",
   "execution_count": 30,
   "id": "267367b4-3e20-4f4c-ae75-bf356954b2f6",
   "metadata": {},
   "outputs": [
    {
     "name": "stdout",
     "output_type": "stream",
     "text": [
      "[[ 0.24124517 -1.25714202 -0.48511598 -0.98639282]\n",
      " [ 1.39783022  0.48784978  1.90996403 -0.26037156]\n",
      " [-0.49505737  1.34450656  0.59428027  0.61083763]] [-0.57855466  1.05148987 -0.48361592 -1.27473592]\n",
      "f():\n",
      "  x = Traced<ShapedArray(float32[3,4])>with<DynamicJaxprTrace(level=1/0)>\n",
      "  y = Traced<ShapedArray(float32[4])>with<DynamicJaxprTrace(level=1/0)>\n",
      "  result = Traced<ShapedArray(float32[3])>with<DynamicJaxprTrace(level=1/0)>\n"
     ]
    },
    {
     "data": {
      "text/plain": [
       "Array([0.25773212, 5.3623195 , 5.403243  ], dtype=float32)"
      ]
     },
     "execution_count": 30,
     "metadata": {},
     "output_type": "execute_result"
    }
   ],
   "source": [
    "x = np.random.randn(3, 4)\n",
    "y = np.random.randn(4)\n",
    "print(x, y)\n",
    "\n",
    "f(x, y)"
   ]
  },
  {
   "cell_type": "markdown",
   "id": "4273d33e-c7bb-4f7b-b926-8e18ff9f23c5",
   "metadata": {},
   "source": [
    "tracer objects are printed. this is how JIT views while tracing a function."
   ]
  },
  {
   "cell_type": "code",
   "execution_count": 31,
   "id": "e56830f4-46e8-42eb-bf67-12e0ec279c40",
   "metadata": {},
   "outputs": [
    {
     "name": "stdout",
     "output_type": "stream",
     "text": [
      "[[-0.82886446 -0.96895962  0.31626638 -1.30240421]\n",
      " [ 1.42542593 -0.01968225 -1.03792854 -1.98280329]\n",
      " [ 0.29157075 -0.1554043   0.87975108 -0.14639181]] [0.88247808 0.76965426 0.25971301 0.98657674]\n"
     ]
    },
    {
     "data": {
      "text/plain": [
       "Array([1.4344584, 4.3004413, 7.9897013], dtype=float32)"
      ]
     },
     "execution_count": 31,
     "metadata": {},
     "output_type": "execute_result"
    }
   ],
   "source": [
    "x2 = np.random.randn(3, 4)\n",
    "y2 = np.random.randn(4)\n",
    "print(x2, y2)\n",
    "\n",
    "f(x2, y2)"
   ]
  },
  {
   "cell_type": "markdown",
   "id": "2a18cb99-1b3e-4590-b920-1bc478b204b3",
   "metadata": {},
   "source": [
    "tracer objects are not printed. \n",
    "\n",
    "since JIT already saw and compiled for this specific shape and type of the inputs, it just cache and run the compiled code of the function."
   ]
  },
  {
   "cell_type": "code",
   "execution_count": 32,
   "id": "ea42bf52-e27a-4c1a-890e-d979fb10ec06",
   "metadata": {},
   "outputs": [
    {
     "name": "stdout",
     "output_type": "stream",
     "text": [
      "[[-0.16529104  0.86774901  0.879805   -0.5616348 ]\n",
      " [ 1.26464251 -0.02158209 -0.37602974 -0.82070135]] [-1.50348735 -0.18001363  0.28808094 -0.11594711]\n",
      "f():\n",
      "  x = Traced<ShapedArray(float32[2,4])>with<DynamicJaxprTrace(level=1/0)>\n",
      "  y = Traced<ShapedArray(float32[4])>with<DynamicJaxprTrace(level=1/0)>\n",
      "  result = Traced<ShapedArray(float32[2])>with<DynamicJaxprTrace(level=1/0)>\n"
     ]
    },
    {
     "data": {
      "text/plain": [
       "Array([3.9201422, 0.6243042], dtype=float32)"
      ]
     },
     "execution_count": 32,
     "metadata": {},
     "output_type": "execute_result"
    }
   ],
   "source": [
    "x3 = np.random.randn(2, 4)\n",
    "y3 = np.random.randn(4)\n",
    "print(x3, y3)\n",
    "\n",
    "f(x3, y3)"
   ]
  },
  {
   "cell_type": "markdown",
   "id": "b1ecee3a-8314-4246-9eac-0a127ec37e26",
   "metadata": {},
   "source": [
    "tracer objects are printed. \n",
    "\n",
    "the shape and type of the inputs have changed, JIT has to trace the function for this new shape and type of the inputs."
   ]
  },
  {
   "cell_type": "markdown",
   "id": "a1422e6d-4b64-4370-906a-3689aacc3ec4",
   "metadata": {},
   "source": [
    "## view JAX expression (jaxpr)\n",
    "\n",
    "expression encoding extracted sequence of operations."
   ]
  },
  {
   "cell_type": "code",
   "execution_count": 33,
   "id": "26e87fa4-0321-4624-b826-f619fc19662c",
   "metadata": {},
   "outputs": [],
   "source": [
    "from jax import make_jaxpr"
   ]
  },
  {
   "cell_type": "code",
   "execution_count": 34,
   "id": "e8449dd8-3a39-43bf-bd60-cd5d6bee85f3",
   "metadata": {},
   "outputs": [
    {
     "data": {
      "text/plain": [
       "{ lambda ; a:f32[3,4] b:f32[4]. let\n",
       "    c:f32[3] = pjit[\n",
       "      name=f\n",
       "      jaxpr={ lambda ; d:f32[3,4] e:f32[4]. let\n",
       "          f:f32[3,4] = add d 1.0\n",
       "          g:f32[4] = add e 1.0\n",
       "          h:f32[3] = dot_general[\n",
       "            dimension_numbers=(([1], [0]), ([], []))\n",
       "            preferred_element_type=float32\n",
       "          ] f g\n",
       "        in (h,) }\n",
       "    ] a b\n",
       "  in (c,) }"
      ]
     },
     "execution_count": 34,
     "metadata": {},
     "output_type": "execute_result"
    }
   ],
   "source": [
    "make_jaxpr(f)(x, y)"
   ]
  },
  {
   "cell_type": "code",
   "execution_count": 35,
   "id": "024a7fd3-b66f-42bb-857f-8079af5028c2",
   "metadata": {},
   "outputs": [
    {
     "data": {
      "text/plain": [
       "{ lambda ; a:f32[2,4] b:f32[4]. let\n",
       "    c:f32[2] = pjit[\n",
       "      name=f\n",
       "      jaxpr={ lambda ; d:f32[2,4] e:f32[4]. let\n",
       "          f:f32[2,4] = add d 1.0\n",
       "          g:f32[4] = add e 1.0\n",
       "          h:f32[2] = dot_general[\n",
       "            dimension_numbers=(([1], [0]), ([], []))\n",
       "            preferred_element_type=float32\n",
       "          ] f g\n",
       "        in (h,) }\n",
       "    ] a b\n",
       "  in (c,) }"
      ]
     },
     "execution_count": 35,
     "metadata": {},
     "output_type": "execute_result"
    }
   ],
   "source": [
    "make_jaxpr(f)(x3, y3)"
   ]
  },
  {
   "cell_type": "markdown",
   "id": "6a07915b-bad0-43ea-a4e9-24161b5d7d9d",
   "metadata": {},
   "source": [
    "## partial tracing\n",
    "\n",
    "some arguments are value-dependent and hence not traceable."
   ]
  },
  {
   "cell_type": "code",
   "execution_count": 36,
   "id": "e4e3f807-5a90-44bc-918f-08387d78f57f",
   "metadata": {},
   "outputs": [],
   "source": [
    "@jit \n",
    "def f(x, make_negative):\n",
    "    return -x if make_negative else x"
   ]
  },
  {
   "cell_type": "code",
   "execution_count": 37,
   "id": "5e00e43d-4e63-4a51-8cc6-874693ed162f",
   "metadata": {},
   "outputs": [],
   "source": [
    "# f(7, True)  # forbidden because flow control using boolean argument is value-dependent"
   ]
  },
  {
   "cell_type": "code",
   "execution_count": 38,
   "id": "042f2b94-3f4d-4af8-8d24-5378a6f550c4",
   "metadata": {},
   "outputs": [],
   "source": [
    "from functools import partial"
   ]
  },
  {
   "cell_type": "code",
   "execution_count": 39,
   "id": "1f06773a-f158-40ed-b5b2-9e1d3c64afbb",
   "metadata": {},
   "outputs": [],
   "source": [
    "@partial(jit, static_argnums=(1,))  # set the boolean argument as static w.r.t. jit.\n",
    "def f(x, make_negative):\n",
    "    return -x if make_negative else x"
   ]
  },
  {
   "cell_type": "code",
   "execution_count": 40,
   "id": "f85194f0-a676-431d-b20d-b1ee82f24fff",
   "metadata": {},
   "outputs": [
    {
     "data": {
      "text/plain": [
       "Array(-7, dtype=int32, weak_type=True)"
      ]
     },
     "execution_count": 40,
     "metadata": {},
     "output_type": "execute_result"
    }
   ],
   "source": [
    "f(7, True)  # now works"
   ]
  },
  {
   "cell_type": "markdown",
   "id": "472eabe2-c238-4ed4-900e-43592be5e5d2",
   "metadata": {},
   "source": [
    "# static vs traced operations"
   ]
  },
  {
   "cell_type": "code",
   "execution_count": 44,
   "id": "957c4a34-8148-4029-97ce-a0c539f8f463",
   "metadata": {},
   "outputs": [],
   "source": [
    "def f(x):\n",
    "    return x.reshape(np.array(x.shape).prod())"
   ]
  },
  {
   "cell_type": "code",
   "execution_count": 50,
   "id": "add98e40-1e18-4b2c-bf80-c217adcc5505",
   "metadata": {},
   "outputs": [
    {
     "name": "stdout",
     "output_type": "stream",
     "text": [
      "6\n",
      "6\n"
     ]
    },
    {
     "data": {
      "text/plain": [
       "array([1., 1., 1., 1., 1., 1.])"
      ]
     },
     "execution_count": 50,
     "metadata": {},
     "output_type": "execute_result"
    }
   ],
   "source": [
    "x = np.ones((2, 3))\n",
    "\n",
    "print(np.array(x.shape).prod())\n",
    "print(np.array((2, 3)).prod())\n",
    "f(x)"
   ]
  },
  {
   "cell_type": "markdown",
   "id": "6c65e0e7-88e8-4cc5-94ac-8578735dff47",
   "metadata": {},
   "source": [
    "## forbidden case"
   ]
  },
  {
   "cell_type": "code",
   "execution_count": 51,
   "id": "39e5b099-ea25-42ff-b9a0-bca84839100f",
   "metadata": {},
   "outputs": [],
   "source": [
    "@jit\n",
    "def f(x):\n",
    "    return x.reshape(jnp.array(x.shape).prod())"
   ]
  },
  {
   "cell_type": "code",
   "execution_count": 53,
   "id": "986fa865-8b28-49a5-a1f4-39daab5d7f3b",
   "metadata": {},
   "outputs": [],
   "source": [
    "x = jnp.ones((2, 3))\n",
    "\n",
    "# f(x)  # forbidden"
   ]
  },
  {
   "cell_type": "markdown",
   "id": "3c7be253-1d53-4dbc-85d2-3afe84786d47",
   "metadata": {},
   "source": [
    "x is traced, x.shape is static (?).\n",
    "\n",
    "but, jnp.array() and .prod() makes x.shape to be a traced value (?).\n",
    "\n",
    ".reshape(<static shape>) is required because array shape must be static.\n",
    "\n",
    "so .reshape(<traced value>) is forbidden.\n"
   ]
  },
  {
   "cell_type": "markdown",
   "id": "e64f9c02-9d91-43ca-b331-85761c216a31",
   "metadata": {},
   "source": [
    "## fixed case\n",
    "\n",
    "- **numpy** for static operations.\n",
    "- **jax.numpy** for traced operations."
   ]
  },
  {
   "cell_type": "code",
   "execution_count": 54,
   "id": "1b5ec5b8-cb1e-4236-bf81-ee72dc6a7981",
   "metadata": {},
   "outputs": [],
   "source": [
    "@jit\n",
    "def f(x):\n",
    "    return x.reshape((np.prod(x.shape),))"
   ]
  },
  {
   "cell_type": "code",
   "execution_count": 58,
   "id": "433a8dab-d45d-4d96-b624-e9da00404df9",
   "metadata": {},
   "outputs": [
    {
     "data": {
      "text/plain": [
       "Array([1., 1., 1., 1., 1., 1.], dtype=float32)"
      ]
     },
     "execution_count": 58,
     "metadata": {},
     "output_type": "execute_result"
    }
   ],
   "source": [
    "x = jnp.ones((2, 3))\n",
    "\n",
    "f(x)  # now works"
   ]
  },
  {
   "cell_type": "code",
   "execution_count": null,
   "id": "1b778d4e-4624-4a97-8071-45d046939d32",
   "metadata": {},
   "outputs": [],
   "source": []
  }
 ],
 "metadata": {
  "kernelspec": {
   "display_name": "Python 3 (ipykernel)",
   "language": "python",
   "name": "python3"
  },
  "language_info": {
   "codemirror_mode": {
    "name": "ipython",
    "version": 3
   },
   "file_extension": ".py",
   "mimetype": "text/x-python",
   "name": "python",
   "nbconvert_exporter": "python",
   "pygments_lexer": "ipython3",
   "version": "3.12.2"
  }
 },
 "nbformat": 4,
 "nbformat_minor": 5
}
