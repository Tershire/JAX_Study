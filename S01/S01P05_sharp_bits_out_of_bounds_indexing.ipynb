{
 "cells": [
  {
   "cell_type": "markdown",
   "id": "630add5b-a87c-4761-bf06-ef63e3cc5665",
   "metadata": {},
   "source": [
    "**S01P05_sharp_bits_out_of_bounds_indexing.ipynb**\n",
    "\n",
    "Arz\n",
    "\n",
    "2024 APR 05 (FRI)\n",
    "\n",
    "reference:\n",
    "https://jax.readthedocs.io/en/latest/notebooks/Common_Gotchas_in_JAX.html"
   ]
  },
  {
   "cell_type": "code",
   "execution_count": 1,
   "id": "768ac575-b26d-4653-afc5-55a6a2f179cc",
   "metadata": {},
   "outputs": [],
   "source": [
    "import numpy as np"
   ]
  },
  {
   "cell_type": "code",
   "execution_count": 2,
   "id": "e1b24cb1-f2d1-4482-88d4-a750331787b6",
   "metadata": {},
   "outputs": [],
   "source": [
    "import jax\n",
    "import jax.numpy as jnp\n",
    "from jax import lax\n",
    "from jax import grad, jit\n",
    "from jax import random"
   ]
  },
  {
   "cell_type": "code",
   "execution_count": 3,
   "id": "50fd388d-2334-430d-b815-9dc0c90eeb1a",
   "metadata": {},
   "outputs": [
    {
     "name": "stdout",
     "output_type": "stream",
     "text": [
      "Exception reporting mode: Minimal\n"
     ]
    }
   ],
   "source": [
    "%xmode minimal"
   ]
  },
  {
   "cell_type": "markdown",
   "id": "2a50fe3e-4422-47bd-aaa1-0b6af862d4e5",
   "metadata": {},
   "source": [
    "# out-of_bounds indexing"
   ]
  },
  {
   "cell_type": "markdown",
   "id": "e8dfac92-832d-4a02-8f25-8122769af669",
   "metadata": {},
   "source": [
    "## NumPy: throws error"
   ]
  },
  {
   "cell_type": "code",
   "execution_count": 4,
   "id": "e6a39a91-7ba8-4328-bc79-a4d9cad4fc6e",
   "metadata": {},
   "outputs": [],
   "source": [
    "# np.arange(3)[3]  # forbidden: throws error"
   ]
  },
  {
   "cell_type": "markdown",
   "id": "7d62893a-e476-4996-86cb-086fe68e4947",
   "metadata": {},
   "source": [
    "## JAX: do something that's non-error\n",
    "\n",
    "raising an error from code running on an accelerator can be difficult or impossible."
   ]
  },
  {
   "cell_type": "markdown",
   "id": "727ba025-3276-47e3-b0d9-1d6b0506304f",
   "metadata": {},
   "source": [
    "### 1) array index retrieval operations:\n",
    "\n",
    "**index is clamped to the bounds of the array**\n",
    "\n",
    "- ex) NumPy indexing, gather-like primitives"
   ]
  },
  {
   "cell_type": "code",
   "execution_count": 5,
   "id": "0936cdec-2f13-4fb9-85f9-cd58da7af0f7",
   "metadata": {},
   "outputs": [
    {
     "data": {
      "text/plain": [
       "Array(2, dtype=int32)"
      ]
     },
     "execution_count": 5,
     "metadata": {},
     "output_type": "execute_result"
    }
   ],
   "source": [
    "jnp.arange(3)[3]"
   ]
  },
  {
   "cell_type": "markdown",
   "id": "a785c1cc-499b-41aa-8a91-0b187c6697df",
   "metadata": {},
   "source": [
    "the last element is returned."
   ]
  },
  {
   "cell_type": "code",
   "execution_count": 6,
   "id": "d0f658e0-8d21-4316-9a2d-924ee524249d",
   "metadata": {},
   "outputs": [
    {
     "data": {
      "text/plain": [
       "Array(2, dtype=int32)"
      ]
     },
     "execution_count": 6,
     "metadata": {},
     "output_type": "execute_result"
    }
   ],
   "source": [
    "jnp.arange(3).at[3].get()"
   ]
  },
  {
   "cell_type": "markdown",
   "id": "737ed147-d62b-4c12-a078-0f9cc2876c97",
   "metadata": {},
   "source": [
    "**set to nan if our-of-bounds**"
   ]
  },
  {
   "cell_type": "code",
   "execution_count": 10,
   "id": "da4f4df0-6cc7-417c-9a48-bf9d27a401ce",
   "metadata": {},
   "outputs": [
    {
     "data": {
      "text/plain": [
       "Array(nan, dtype=float32)"
      ]
     },
     "execution_count": 10,
     "metadata": {},
     "output_type": "execute_result"
    }
   ],
   "source": [
    "jnp.arange(3.0).at[3].get(mode=\"fill\", fill_value=jnp.nan)"
   ]
  },
  {
   "cell_type": "markdown",
   "id": "553b1cea-3e40-4815-98b1-3ad838f3fbed",
   "metadata": {},
   "source": [
    "⚠️❓reverse-mode automatic differentiation (which turns index updates into index retrievals and vice versa) will not preserve the semantics of out of bounds indexing. \n",
    "\n",
    "thus it may be a good idea to think of out-of-bounds indexing in JAX as a case of **undefined behavior**."
   ]
  },
  {
   "cell_type": "code",
   "execution_count": null,
   "id": "113469c6-4f7f-4277-a5a5-b57a63bdbf86",
   "metadata": {},
   "outputs": [],
   "source": []
  }
 ],
 "metadata": {
  "kernelspec": {
   "display_name": "Python 3 (ipykernel)",
   "language": "python",
   "name": "python3"
  },
  "language_info": {
   "codemirror_mode": {
    "name": "ipython",
    "version": 3
   },
   "file_extension": ".py",
   "mimetype": "text/x-python",
   "name": "python",
   "nbconvert_exporter": "python",
   "pygments_lexer": "ipython3",
   "version": "3.12.2"
  }
 },
 "nbformat": 4,
 "nbformat_minor": 5
}
