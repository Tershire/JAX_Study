{
 "cells": [
  {
   "cell_type": "markdown",
   "id": "9f585496-c42e-43c0-9053-2f4d6ef922c3",
   "metadata": {},
   "source": [
    "**S01P06_non_array_inputs.ipynb**\n",
    "\n",
    "Arz\n",
    "\n",
    "2024 APR 05 (FRI)\n",
    "\n",
    "reference:\n",
    "https://jax.readthedocs.io/en/latest/notebooks/Common_Gotchas_in_JAX.html"
   ]
  },
  {
   "cell_type": "code",
   "execution_count": 1,
   "id": "82737d1c-eca0-4beb-a3bc-80d42c01f453",
   "metadata": {},
   "outputs": [],
   "source": [
    "import numpy as np"
   ]
  },
  {
   "cell_type": "code",
   "execution_count": 2,
   "id": "7a157699-96b3-4c14-856d-7a9f1adc2331",
   "metadata": {},
   "outputs": [],
   "source": [
    "import jax\n",
    "import jax.numpy as jnp\n",
    "from jax import lax\n",
    "from jax import grad, jit\n",
    "from jax import random"
   ]
  },
  {
   "cell_type": "code",
   "execution_count": 3,
   "id": "7345aa17-9fe0-425b-9dad-ff6840a3e66b",
   "metadata": {},
   "outputs": [
    {
     "name": "stdout",
     "output_type": "stream",
     "text": [
      "Exception reporting mode: Minimal\n"
     ]
    }
   ],
   "source": [
    "%xmode minimal"
   ]
  },
  {
   "cell_type": "markdown",
   "id": "27cf723e-73e5-4337-b025-dd795a6f7e85",
   "metadata": {},
   "source": [
    "# non-array inputs"
   ]
  },
  {
   "cell_type": "markdown",
   "id": "47fdb3dc-7bac-4665-aebf-94180014280a",
   "metadata": {},
   "source": [
    "## NumPy: permitted"
   ]
  },
  {
   "cell_type": "code",
   "execution_count": 4,
   "id": "58ca1c26-d341-4be3-a768-1cacbb459bcf",
   "metadata": {},
   "outputs": [
    {
     "data": {
      "text/plain": [
       "6"
      ]
     },
     "execution_count": 4,
     "metadata": {},
     "output_type": "execute_result"
    }
   ],
   "source": [
    "np.sum([1, 2, 3])"
   ]
  },
  {
   "cell_type": "markdown",
   "id": "b46ff388-68de-49bf-8fde-8ea8150b2123",
   "metadata": {},
   "source": [
    "## JAX: not permitted\n",
    "\n",
    "passing lists or tuples to traced functions can lead to silent performance degradation that might otherwise be difficult to detect."
   ]
  },
  {
   "cell_type": "code",
   "execution_count": 5,
   "id": "315b8fc4-6c86-431d-9a56-b30dc4daf1b1",
   "metadata": {},
   "outputs": [],
   "source": [
    "# jnp.sum([1, 2 ,3])  # forbidden: throws error"
   ]
  },
  {
   "cell_type": "markdown",
   "id": "edf143a5-8b86-41f5-8e0f-8fbadf0aa10b",
   "metadata": {},
   "source": [
    "a permissive version of this function can be designed but you will see that the performance is actually degraded. "
   ]
  },
  {
   "cell_type": "code",
   "execution_count": 6,
   "id": "21fa54bf-cace-49c2-bea8-7f09cf17411a",
   "metadata": {},
   "outputs": [],
   "source": [
    "def permissive_sum(x):\n",
    "    return jnp.sum(jnp.array(x))"
   ]
  },
  {
   "cell_type": "code",
   "execution_count": 7,
   "id": "bba67958-2846-4ff8-a835-f6d9fed1bb1b",
   "metadata": {},
   "outputs": [
    {
     "data": {
      "text/plain": [
       "Array(6, dtype=int32)"
      ]
     },
     "execution_count": 7,
     "metadata": {},
     "output_type": "execute_result"
    }
   ],
   "source": [
    "permissive_sum([1, 2, 3])"
   ]
  },
  {
   "cell_type": "markdown",
   "id": "f857d645-27e9-4162-8980-8d235e618ade",
   "metadata": {},
   "source": [
    "result is correct, but,"
   ]
  },
  {
   "cell_type": "code",
   "execution_count": 8,
   "id": "d5f3ac4d-5bc4-4266-b249-ec594b73d09b",
   "metadata": {},
   "outputs": [],
   "source": [
    "from jax import make_jaxpr"
   ]
  },
  {
   "cell_type": "code",
   "execution_count": 9,
   "id": "6bf95811-c316-4b79-ae0d-7a3b648a8bd3",
   "metadata": {},
   "outputs": [
    {
     "data": {
      "text/plain": [
       "{ lambda ; a:i32[] b:i32[] c:i32[]. let\n",
       "    d:i32[] = convert_element_type[new_dtype=int32 weak_type=False] a\n",
       "    e:i32[] = convert_element_type[new_dtype=int32 weak_type=False] b\n",
       "    f:i32[] = convert_element_type[new_dtype=int32 weak_type=False] c\n",
       "    g:i32[1] = broadcast_in_dim[broadcast_dimensions=() shape=(1,)] d\n",
       "    h:i32[1] = broadcast_in_dim[broadcast_dimensions=() shape=(1,)] e\n",
       "    i:i32[1] = broadcast_in_dim[broadcast_dimensions=() shape=(1,)] f\n",
       "    j:i32[3] = concatenate[dimension=0] g h i\n",
       "    k:i32[] = reduce_sum[axes=(0,)] j\n",
       "  in (k,) }"
      ]
     },
     "execution_count": 9,
     "metadata": {},
     "output_type": "execute_result"
    }
   ],
   "source": [
    "make_jaxpr(permissive_sum)([1, 2, 3])"
   ]
  },
  {
   "cell_type": "markdown",
   "id": "e886f647-3573-4bb3-ad33-dbafe36c8467",
   "metadata": {},
   "source": [
    "each element is being traced, leading to a performance degradation."
   ]
  },
  {
   "cell_type": "markdown",
   "id": "7a8196a7-d308-4b83-b703-df2d81bd12f9",
   "metadata": {},
   "source": [
    "### solution: just directly pass JAX array"
   ]
  },
  {
   "cell_type": "code",
   "execution_count": 10,
   "id": "06b2670c-aa91-4d1a-931a-55fb6cab29d7",
   "metadata": {},
   "outputs": [
    {
     "data": {
      "text/plain": [
       "Array(6, dtype=int32)"
      ]
     },
     "execution_count": 10,
     "metadata": {},
     "output_type": "execute_result"
    }
   ],
   "source": [
    "jnp.sum(jnp.array([1, 2, 3]))"
   ]
  },
  {
   "cell_type": "code",
   "execution_count": 11,
   "id": "9171e351-9153-4b7d-8bec-9c4240740e6c",
   "metadata": {},
   "outputs": [
    {
     "data": {
      "text/plain": [
       "{ lambda ; a:i32[3]. let b:i32[] = reduce_sum[axes=(0,)] a in (b,) }"
      ]
     },
     "execution_count": 11,
     "metadata": {},
     "output_type": "execute_result"
    }
   ],
   "source": [
    "make_jaxpr(jnp.sum)(jnp.array([1, 2, 3]))"
   ]
  },
  {
   "cell_type": "code",
   "execution_count": null,
   "id": "c35fc236-b462-456f-a81a-6c8b8e7149be",
   "metadata": {},
   "outputs": [],
   "source": []
  }
 ],
 "metadata": {
  "kernelspec": {
   "display_name": "Python 3 (ipykernel)",
   "language": "python",
   "name": "python3"
  },
  "language_info": {
   "codemirror_mode": {
    "name": "ipython",
    "version": 3
   },
   "file_extension": ".py",
   "mimetype": "text/x-python",
   "name": "python",
   "nbconvert_exporter": "python",
   "pygments_lexer": "ipython3",
   "version": "3.12.2"
  }
 },
 "nbformat": 4,
 "nbformat_minor": 5
}
