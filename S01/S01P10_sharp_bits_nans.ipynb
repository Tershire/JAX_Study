{
 "cells": [
  {
   "cell_type": "markdown",
   "id": "f65ab28c-88de-47ac-b44f-087b8cc5e45b",
   "metadata": {},
   "source": [
    "**S01P10_sharp_bits_nans.ipynb**\n",
    "\n",
    "Arz\n",
    "\n",
    "2024 APR 06 (SAT)\n",
    "\n",
    "reference:\n",
    "https://jax.readthedocs.io/en/latest/notebooks/Common_Gotchas_in_JAX.html"
   ]
  },
  {
   "cell_type": "code",
   "execution_count": 1,
   "id": "19ed3219-f358-4c09-9d99-ff7687dc5ca7",
   "metadata": {},
   "outputs": [],
   "source": [
    "import numpy as np"
   ]
  },
  {
   "cell_type": "code",
   "execution_count": 2,
   "id": "4312e5f5-8d68-486e-980d-b0907d110d57",
   "metadata": {},
   "outputs": [],
   "source": [
    "import jax\n",
    "import jax.numpy as jnp\n",
    "from jax import lax\n",
    "from jax import grad, jit\n",
    "from jax import random"
   ]
  },
  {
   "cell_type": "markdown",
   "id": "10778dfa-fff1-490a-b43d-170207455839",
   "metadata": {},
   "source": [
    "# nans"
   ]
  },
  {
   "cell_type": "code",
   "execution_count": 3,
   "id": "df923803-d001-4a9d-8dc0-4cfc5c56038e",
   "metadata": {},
   "outputs": [
    {
     "data": {
      "text/plain": [
       "Array(nan, dtype=float32, weak_type=True)"
      ]
     },
     "execution_count": 3,
     "metadata": {},
     "output_type": "execute_result"
    }
   ],
   "source": [
    "jnp.divide(0., 0.)"
   ]
  },
  {
   "cell_type": "code",
   "execution_count": null,
   "id": "a19a45e9-0431-43b8-8058-8dbb34215bff",
   "metadata": {},
   "outputs": [],
   "source": []
  }
 ],
 "metadata": {
  "kernelspec": {
   "display_name": "Python 3 (ipykernel)",
   "language": "python",
   "name": "python3"
  },
  "language_info": {
   "codemirror_mode": {
    "name": "ipython",
    "version": 3
   },
   "file_extension": ".py",
   "mimetype": "text/x-python",
   "name": "python",
   "nbconvert_exporter": "python",
   "pygments_lexer": "ipython3",
   "version": "3.12.2"
  }
 },
 "nbformat": 4,
 "nbformat_minor": 5
}
