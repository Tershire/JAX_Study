{
 "cells": [
  {
   "cell_type": "markdown",
   "id": "f65ab28c-88de-47ac-b44f-087b8cc5e45b",
   "metadata": {},
   "source": [
    "**S01P12_sharp_bits_misc_divergences_from_numpy.ipynb**\n",
    "\n",
    "Arz\n",
    "\n",
    "2024 APR 06 (SAT)\n",
    "\n",
    "reference:\n",
    "https://jax.readthedocs.io/en/latest/notebooks/Common_Gotchas_in_JAX.html"
   ]
  },
  {
   "cell_type": "code",
   "execution_count": 1,
   "id": "19ed3219-f358-4c09-9d99-ff7687dc5ca7",
   "metadata": {},
   "outputs": [],
   "source": [
    "import numpy as np"
   ]
  },
  {
   "cell_type": "code",
   "execution_count": 2,
   "id": "4312e5f5-8d68-486e-980d-b0907d110d57",
   "metadata": {},
   "outputs": [],
   "source": [
    "import jax\n",
    "import jax.numpy as jnp\n",
    "from jax import lax\n",
    "from jax import grad, jit\n",
    "from jax import random"
   ]
  },
  {
   "cell_type": "markdown",
   "id": "10778dfa-fff1-490a-b43d-170207455839",
   "metadata": {},
   "source": [
    "# miscellaneous divergences from NumPy"
   ]
  },
  {
   "cell_type": "markdown",
   "id": "16150226-fac7-444d-ba5e-b73ddccf3240",
   "metadata": {},
   "source": [
    "## ex) type promotion rules for binary operations"
   ]
  },
  {
   "cell_type": "code",
   "execution_count": null,
   "id": "3b3ebe6e-121d-4697-bcf9-66245b1d3805",
   "metadata": {},
   "outputs": [],
   "source": []
  },
  {
   "cell_type": "markdown",
   "id": "b71aeee1-236d-417c-ac15-bceb8e9ef94f",
   "metadata": {},
   "source": [
    "## ex) when performing unsafe type casts"
   ]
  },
  {
   "cell_type": "markdown",
   "id": "b6c9f1f8-c8ed-477b-94d5-f9513b00ff77",
   "metadata": {},
   "source": [
    "### NumPy"
   ]
  },
  {
   "cell_type": "code",
   "execution_count": 3,
   "id": "a031578c-e314-4bce-b0ab-0b4db07d713d",
   "metadata": {},
   "outputs": [
    {
     "data": {
      "text/plain": [
       "array([254, 255,   0,   1,   2], dtype=uint8)"
      ]
     },
     "execution_count": 3,
     "metadata": {},
     "output_type": "execute_result"
    }
   ],
   "source": [
    "np.arange(254.0, 259.0).astype(\"uint8\")"
   ]
  },
  {
   "cell_type": "markdown",
   "id": "5ae36321-18af-49d9-a2ef-afccc189067a",
   "metadata": {},
   "source": [
    "### JAX"
   ]
  },
  {
   "cell_type": "code",
   "execution_count": 4,
   "id": "4b1ea713-303d-471d-b35c-c89d392fe6c7",
   "metadata": {},
   "outputs": [
    {
     "data": {
      "text/plain": [
       "Array([254, 255, 255, 255, 255], dtype=uint8)"
      ]
     },
     "execution_count": 4,
     "metadata": {},
     "output_type": "execute_result"
    }
   ],
   "source": [
    "jnp.arange(254.0, 259.0).astype(\"uint8\")"
   ]
  },
  {
   "cell_type": "code",
   "execution_count": null,
   "id": "50f159e2-e892-4a57-84eb-4e0593b06db9",
   "metadata": {},
   "outputs": [],
   "source": []
  }
 ],
 "metadata": {
  "kernelspec": {
   "display_name": "Python 3 (ipykernel)",
   "language": "python",
   "name": "python3"
  },
  "language_info": {
   "codemirror_mode": {
    "name": "ipython",
    "version": 3
   },
   "file_extension": ".py",
   "mimetype": "text/x-python",
   "name": "python",
   "nbconvert_exporter": "python",
   "pygments_lexer": "ipython3",
   "version": "3.12.2"
  }
 },
 "nbformat": 4,
 "nbformat_minor": 5
}
