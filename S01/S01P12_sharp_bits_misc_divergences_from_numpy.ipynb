{
 "cells": [
  {
   "cell_type": "markdown",
   "id": "f65ab28c-88de-47ac-b44f-087b8cc5e45b",
   "metadata": {},
   "source": [
    "**S01P11_sharp_bits_double_precision.ipynb**\n",
    "\n",
    "Arz\n",
    "\n",
    "2024 APR 06 (SAT)\n",
    "\n",
    "reference:\n",
    "https://jax.readthedocs.io/en/latest/notebooks/Common_Gotchas_in_JAX.html"
   ]
  },
  {
   "cell_type": "code",
   "execution_count": 1,
   "id": "19ed3219-f358-4c09-9d99-ff7687dc5ca7",
   "metadata": {},
   "outputs": [],
   "source": [
    "import numpy as np"
   ]
  },
  {
   "cell_type": "code",
   "execution_count": 2,
   "id": "4312e5f5-8d68-486e-980d-b0907d110d57",
   "metadata": {},
   "outputs": [],
   "source": [
    "import jax\n",
    "import jax.numpy as jnp\n",
    "from jax import lax\n",
    "from jax import grad, jit\n",
    "from jax import random"
   ]
  },
  {
   "cell_type": "markdown",
   "id": "10778dfa-fff1-490a-b43d-170207455839",
   "metadata": {},
   "source": [
    "# double precision\n",
    "\n",
    "for now, by default, JAX enforces single precision."
   ]
  },
  {
   "cell_type": "code",
   "execution_count": 3,
   "id": "a19a45e9-0431-43b8-8058-8dbb34215bff",
   "metadata": {},
   "outputs": [
    {
     "name": "stderr",
     "output_type": "stream",
     "text": [
      "/tmp/ipykernel_5522/4154315614.py:1: UserWarning: Explicitly requested dtype <class 'jax.numpy.float64'>  is not available, and will be truncated to dtype float32. To enable more dtypes, set the jax_enable_x64 configuration option or the JAX_ENABLE_X64 shell environment variable. See https://github.com/google/jax#current-gotchas for more.\n",
      "  x = random.uniform(random.key(0), (1000,), dtype=jnp.float64)\n"
     ]
    },
    {
     "data": {
      "text/plain": [
       "dtype('float32')"
      ]
     },
     "execution_count": 3,
     "metadata": {},
     "output_type": "execute_result"
    }
   ],
   "source": [
    "x = random.uniform(random.key(0), (1000,), dtype=jnp.float64)\n",
    "\n",
    "x.dtype"
   ]
  },
  {
   "cell_type": "markdown",
   "id": "6cd26859-72ba-4468-b378-9bcd75dc6031",
   "metadata": {},
   "source": [
    "## caveats"
   ]
  },
  {
   "cell_type": "markdown",
   "id": "a654d0e7-c95e-4c0d-a216-abd86a9697ec",
   "metadata": {},
   "source": [
    "⚠️ XLA doesn’t support 64-bit convolutions on all backends."
   ]
  },
  {
   "cell_type": "code",
   "execution_count": null,
   "id": "eb2bcc42-5765-416a-8615-65a22cdfb211",
   "metadata": {},
   "outputs": [],
   "source": []
  }
 ],
 "metadata": {
  "kernelspec": {
   "display_name": "Python 3 (ipykernel)",
   "language": "python",
   "name": "python3"
  },
  "language_info": {
   "codemirror_mode": {
    "name": "ipython",
    "version": 3
   },
   "file_extension": ".py",
   "mimetype": "text/x-python",
   "name": "python",
   "nbconvert_exporter": "python",
   "pygments_lexer": "ipython3",
   "version": "3.12.2"
  }
 },
 "nbformat": 4,
 "nbformat_minor": 5
}
