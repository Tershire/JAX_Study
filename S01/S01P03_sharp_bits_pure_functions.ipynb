{
 "cells": [
  {
   "cell_type": "markdown",
   "id": "e4ab97fe-3bd1-49b4-b4b6-8ac3542701cf",
   "metadata": {},
   "source": [
    "**S01P03_sharp_bits_pure_functions.ipynb**\n",
    "\n",
    "Arz\n",
    "\n",
    "2024 APR 04 (THU)\n",
    "\n",
    "reference:\n",
    "https://jax.readthedocs.io/en/latest/notebooks/Common_Gotchas_in_JAX.html"
   ]
  },
  {
   "cell_type": "code",
   "execution_count": 1,
   "id": "a420f76c-be0c-410c-851d-f4a6e18ce5ea",
   "metadata": {},
   "outputs": [],
   "source": [
    "import numpy as np"
   ]
  },
  {
   "cell_type": "code",
   "execution_count": 2,
   "id": "e7095466-8739-4c57-8665-2a3bf42f1a9d",
   "metadata": {},
   "outputs": [],
   "source": [
    "import jax\n",
    "import jax.numpy as jnp\n",
    "from jax import lax\n",
    "from jax import grad, jit\n",
    "from jax import random"
   ]
  },
  {
   "cell_type": "code",
   "execution_count": 33,
   "id": "9f5be426-cf9d-4889-8ed8-9ae55e0a9631",
   "metadata": {},
   "outputs": [
    {
     "name": "stdout",
     "output_type": "stream",
     "text": [
      "Exception reporting mode: Minimal\n"
     ]
    }
   ],
   "source": [
    "%xmode minimal"
   ]
  },
  {
   "cell_type": "markdown",
   "id": "7483b4c6-fb53-418c-b015-9b5a18e120d3",
   "metadata": {},
   "source": [
    "# pure functions\n",
    "\n",
    "the expected result of JAX only works when used for python pure functions.\n",
    "\n",
    "- pure function: if input is the same, output is the same."
   ]
  },
  {
   "cell_type": "markdown",
   "id": "c8a930e3-c842-4df5-90a7-9d2b89687d2d",
   "metadata": {},
   "source": [
    "## ex) impure: print() "
   ]
  },
  {
   "cell_type": "code",
   "execution_count": 3,
   "id": "6dd44f96-108d-4f9d-90b9-3d57b66bd8d4",
   "metadata": {},
   "outputs": [],
   "source": [
    "def impure_print(x):\n",
    "    print(\"  see if I get printed.\")\n",
    "    return x"
   ]
  },
  {
   "cell_type": "code",
   "execution_count": 4,
   "id": "ba4aac26-29bd-46fa-9f9f-e8599ec4453c",
   "metadata": {},
   "outputs": [],
   "source": [
    "impure_print_jit = jit(impure_print)"
   ]
  },
  {
   "cell_type": "code",
   "execution_count": 5,
   "id": "412324de-d259-4817-ba1b-0c5fc9df3353",
   "metadata": {},
   "outputs": [
    {
     "name": "stdout",
     "output_type": "stream",
     "text": [
      "1st run:\n",
      "  see if I get printed.\n",
      "  1\n",
      "2nd run:\n",
      "  2\n",
      "but, ...\n",
      "  see if I get printed.\n",
      "  [1]\n"
     ]
    }
   ],
   "source": [
    "print(\"1st run:\")\n",
    "print(\" \", impure_print_jit(1))\n",
    "\n",
    "print(\"2nd run:\")\n",
    "print(\" \", impure_print_jit(2))\n",
    "\n",
    "print(\"but, ...\")  # type change\n",
    "print(\" \", impure_print_jit(jnp.array([1])))"
   ]
  },
  {
   "cell_type": "markdown",
   "id": "054b479f-895e-4dee-bcd1-9e714c484e1c",
   "metadata": {},
   "source": [
    "## ex) impure: using global variables"
   ]
  },
  {
   "cell_type": "code",
   "execution_count": 6,
   "id": "d7d07bdb-1161-4747-bcc2-a38de560b030",
   "metadata": {},
   "outputs": [],
   "source": [
    "g = 9.81"
   ]
  },
  {
   "cell_type": "code",
   "execution_count": 7,
   "id": "36ec3ce4-c7e2-40c5-baf1-8d8e18cbefc1",
   "metadata": {},
   "outputs": [],
   "source": [
    "def impure_global_var_use(x):\n",
    "    return x + g"
   ]
  },
  {
   "cell_type": "code",
   "execution_count": 8,
   "id": "a54f4c12-bb26-491b-94a6-143b3884bdfc",
   "metadata": {},
   "outputs": [],
   "source": [
    "impure_global_var_use_jit = jit(impure_global_var_use)"
   ]
  },
  {
   "cell_type": "code",
   "execution_count": 9,
   "id": "5ced1321-0d55-4ce2-888d-8ead75b522dc",
   "metadata": {},
   "outputs": [
    {
     "name": "stdout",
     "output_type": "stream",
     "text": [
      "1st run:\n",
      "  10.81\n"
     ]
    }
   ],
   "source": [
    "print(\"1st run:\")\n",
    "print(\" \", impure_global_var_use_jit(1))"
   ]
  },
  {
   "cell_type": "code",
   "execution_count": 10,
   "id": "207241ad-9e90-4d50-90ff-889f899e4e73",
   "metadata": {},
   "outputs": [],
   "source": [
    "# update the global variable, g\n",
    "g = 1.62"
   ]
  },
  {
   "cell_type": "code",
   "execution_count": 11,
   "id": "543cd2d8-3257-43b1-9742-02a8d26bce36",
   "metadata": {},
   "outputs": [
    {
     "name": "stdout",
     "output_type": "stream",
     "text": [
      "run after g update:\n",
      "  10.81\n"
     ]
    }
   ],
   "source": [
    "print(\"run after g update:\")\n",
    "print(\" \", impure_global_var_use_jit(1))"
   ]
  },
  {
   "cell_type": "markdown",
   "id": "afa8d4dc-a7a8-4caa-9f4a-81426d7fb96e",
   "metadata": {},
   "source": [
    "⚠️ result still uses g=9.81 because JIT uses the already compiled code."
   ]
  },
  {
   "cell_type": "code",
   "execution_count": 12,
   "id": "37695013-d8cd-495b-a1c7-be961ead154b",
   "metadata": {},
   "outputs": [
    {
     "name": "stdout",
     "output_type": "stream",
     "text": [
      "run after type change:\n",
      "  [2.62]\n"
     ]
    }
   ],
   "source": [
    "print(\"run after type change:\")\n",
    "print(\" \", impure_global_var_use_jit(jnp.array([1])))"
   ]
  },
  {
   "cell_type": "markdown",
   "id": "3c846b3c-9d43-4cda-b0e7-d98ffce796e0",
   "metadata": {},
   "source": [
    "## ex) impure: JAX saves global variable as traced object"
   ]
  },
  {
   "cell_type": "code",
   "execution_count": 13,
   "id": "44226b25-e8e4-4667-b387-cb8526f71a77",
   "metadata": {},
   "outputs": [],
   "source": [
    "g = 9.81"
   ]
  },
  {
   "cell_type": "code",
   "execution_count": 14,
   "id": "8b143766-3b30-4380-a8e3-b58e857cda8c",
   "metadata": {},
   "outputs": [],
   "source": [
    "def impure_jax_traces_global_var(x):\n",
    "    global g\n",
    "    g = x\n",
    "    return x"
   ]
  },
  {
   "cell_type": "code",
   "execution_count": 15,
   "id": "0b8a61e6-a8f1-4fc6-b819-73ea2607fdea",
   "metadata": {},
   "outputs": [
    {
     "name": "stdout",
     "output_type": "stream",
     "text": [
      "1st run:\n",
      "  1\n",
      "g: Traced<ShapedArray(int32[], weak_type=True)>with<DynamicJaxprTrace(level=1/0)>\n"
     ]
    }
   ],
   "source": [
    "print(\"1st run:\")\n",
    "print(\" \", jit(impure_jax_traces_global_var)(1))\n",
    "print(\"g:\", g)"
   ]
  },
  {
   "cell_type": "markdown",
   "id": "fb60cbf6-aa7a-465f-b906-e613608895fc",
   "metadata": {},
   "source": [
    "## ex) pure: using internal state\n",
    "\n",
    "a function can be functionally pure even if it actually uses stateful objects internally, as long as it does not read or write external state"
   ]
  },
  {
   "cell_type": "code",
   "execution_count": 17,
   "id": "90614b13-ba44-4c91-b18c-f8d91719c2a1",
   "metadata": {},
   "outputs": [],
   "source": [
    "def pure_internal_state_use(x):\n",
    "    internal_state = dict(even=0, odd=0)\n",
    "    for i in range(3):\n",
    "        internal_state[\"even\" if i%2 == 0 else \"odd\"] += x\n",
    "    return (internal_state[\"even\"], internal_state[\"odd\"])"
   ]
  },
  {
   "cell_type": "code",
   "execution_count": 18,
   "id": "57c8328f-ef34-4d2e-b77b-9b91bcd5c255",
   "metadata": {},
   "outputs": [
    {
     "name": "stdout",
     "output_type": "stream",
     "text": [
      "1st run:\n",
      "  (Array(6, dtype=int32, weak_type=True), Array(3, dtype=int32, weak_type=True))\n"
     ]
    }
   ],
   "source": [
    "print(\"1st run:\")\n",
    "print(\" \", jit(pure_internal_state_use)(3))"
   ]
  },
  {
   "cell_type": "markdown",
   "id": "d149b467-7844-458a-bf74-624c87872cea",
   "metadata": {},
   "source": [
    "## ex) impure: using Python iterators\n",
    "\n",
    "It is not recommended to use iterators in any JAX function you want to jit or in any control-flow primitive.\n",
    "\n",
    "Python iterators are incompatiable with JAX functional programming, and leads to unexpected behavior or error."
   ]
  },
  {
   "cell_type": "code",
   "execution_count": 19,
   "id": "ba399ed8-26d4-4239-bbfb-b79bc229e756",
   "metadata": {},
   "outputs": [],
   "source": [
    "from jax import make_jaxpr"
   ]
  },
  {
   "cell_type": "markdown",
   "id": "a527a41c-ff98-4cbc-b125-58f446e1f55e",
   "metadata": {},
   "source": [
    "### ex) lax.fori_loop"
   ]
  },
  {
   "cell_type": "markdown",
   "id": "676566ea-cac5-4407-963e-40c282a3989a",
   "metadata": {},
   "source": [
    "**case: ok**"
   ]
  },
  {
   "cell_type": "code",
   "execution_count": 21,
   "id": "6fa4527e-8e21-456d-be6a-b51616d8d1e3",
   "metadata": {},
   "outputs": [],
   "source": [
    "numbers = jnp.arange(10)"
   ]
  },
  {
   "cell_type": "code",
   "execution_count": 22,
   "id": "04bda669-33cb-47c2-b6ce-caf5f329664e",
   "metadata": {},
   "outputs": [
    {
     "name": "stdout",
     "output_type": "stream",
     "text": [
      "45\n"
     ]
    }
   ],
   "source": [
    "y = lax.fori_loop(0, 10, lambda i, x: x + numbers[i], 0)\n",
    "\n",
    "print(y)"
   ]
  },
  {
   "cell_type": "markdown",
   "id": "19c89ebc-a5d1-4af5-a75d-e4c1057f1bfd",
   "metadata": {},
   "source": [
    "as expected."
   ]
  },
  {
   "cell_type": "markdown",
   "id": "56c98e48-629e-49b2-a2af-20e70da787f9",
   "metadata": {},
   "source": [
    "**case: not ok**: using iterators"
   ]
  },
  {
   "cell_type": "code",
   "execution_count": 25,
   "id": "912fd3f1-b242-49f4-9dbb-9392174339ca",
   "metadata": {},
   "outputs": [],
   "source": [
    "numbers = iter(range(10))"
   ]
  },
  {
   "cell_type": "code",
   "execution_count": 26,
   "id": "439d608a-c12c-4bd4-9998-2d262d5a9e17",
   "metadata": {},
   "outputs": [
    {
     "name": "stdout",
     "output_type": "stream",
     "text": [
      "0\n"
     ]
    }
   ],
   "source": [
    "y = lax.fori_loop(0, 10, lambda i, x: x + next(numbers), 0)\n",
    "\n",
    "print(y)"
   ]
  },
  {
   "cell_type": "markdown",
   "id": "38dddf53-d290-458f-9404-7b4326830e55",
   "metadata": {},
   "source": [
    "wrong, unexpected answer."
   ]
  },
  {
   "cell_type": "markdown",
   "id": "0065ad0f-44d6-4993-af6c-a6b48fcee503",
   "metadata": {},
   "source": [
    "### ex) lax.scan"
   ]
  },
  {
   "cell_type": "code",
   "execution_count": 27,
   "id": "6934d918-4925-4d5f-80a1-4b15442b3b89",
   "metadata": {},
   "outputs": [],
   "source": [
    "def f(numbers, extra):\n",
    "    ones = jnp.ones(numbers.shape)\n",
    "    def body(carry, aes):\n",
    "        ae1, ae2 = aes\n",
    "        return (carry + ae1*ae2 + extra, carry)\n",
    "    return lax.scan(body, 0, (numbers, ones))"
   ]
  },
  {
   "cell_type": "markdown",
   "id": "4545121f-f3fa-4317-9a11-4716b729cd8d",
   "metadata": {},
   "source": [
    "**case: ok**"
   ]
  },
  {
   "cell_type": "code",
   "execution_count": 29,
   "id": "81284e7e-9d54-4042-88f6-30a09d84d489",
   "metadata": {},
   "outputs": [],
   "source": [
    "numbers = jnp.arange(10)"
   ]
  },
  {
   "cell_type": "code",
   "execution_count": 30,
   "id": "5bfafc1b-8d50-45e0-9035-b5d722d5f763",
   "metadata": {},
   "outputs": [
    {
     "data": {
      "text/plain": [
       "{ lambda ; a:i32[10] b:i32[]. let\n",
       "    c:f32[10] = broadcast_in_dim[broadcast_dimensions=() shape=(10,)] 1.0\n",
       "    d:f32[] e:f32[10] = scan[\n",
       "      jaxpr={ lambda ; f:i32[] g:f32[] h:i32[] i:f32[]. let\n",
       "          j:f32[] = convert_element_type[new_dtype=float32 weak_type=False] h\n",
       "          k:f32[] = mul j i\n",
       "          l:f32[] = add g k\n",
       "          m:f32[] = convert_element_type[new_dtype=float32 weak_type=False] f\n",
       "          n:f32[] = add l m\n",
       "        in (n, g) }\n",
       "      length=10\n",
       "      linear=(False, False, False, False)\n",
       "      num_carry=1\n",
       "      num_consts=1\n",
       "      reverse=False\n",
       "      unroll=1\n",
       "    ] b 0.0 a c\n",
       "  in (d, e) }"
      ]
     },
     "execution_count": 30,
     "metadata": {},
     "output_type": "execute_result"
    }
   ],
   "source": [
    "make_jaxpr(f)(numbers, 3)"
   ]
  },
  {
   "cell_type": "markdown",
   "id": "317d9f58-4aed-4962-a73b-5f6bb53a89e9",
   "metadata": {},
   "source": [
    "**case: not ok**: using iterators"
   ]
  },
  {
   "cell_type": "code",
   "execution_count": 31,
   "id": "2149f330-21ce-407d-bce2-6666c06c51b0",
   "metadata": {},
   "outputs": [],
   "source": [
    "numbers = iter(range(10))"
   ]
  },
  {
   "cell_type": "code",
   "execution_count": 35,
   "id": "f0a82c56-aad2-444b-b060-468f566bf87f",
   "metadata": {},
   "outputs": [],
   "source": [
    "# make_jaxpr(f)(numbers, 3)  # forbidden: throws error"
   ]
  },
  {
   "cell_type": "markdown",
   "id": "8a21b3b0-a965-49f9-9eae-9f38c5af0138",
   "metadata": {},
   "source": [
    "### ex) lax.cond"
   ]
  },
  {
   "cell_type": "markdown",
   "id": "ffd6992e-93e1-421c-a396-3e086318700c",
   "metadata": {},
   "source": [
    "**case: ok**"
   ]
  },
  {
   "cell_type": "code",
   "execution_count": 36,
   "id": "0bf86388-6ca2-47ad-96d5-e200cf34705a",
   "metadata": {},
   "outputs": [],
   "source": [
    "operands = jnp.array([0])"
   ]
  },
  {
   "cell_type": "code",
   "execution_count": 37,
   "id": "605c5875-12a1-4223-bfc8-0dc2862ced24",
   "metadata": {},
   "outputs": [
    {
     "data": {
      "text/plain": [
       "Array([1], dtype=int32)"
      ]
     },
     "execution_count": 37,
     "metadata": {},
     "output_type": "execute_result"
    }
   ],
   "source": [
    "lax.cond(True, lambda x: x + 1, lambda x: x - 1, operands)"
   ]
  },
  {
   "cell_type": "markdown",
   "id": "1b233732-5293-4220-806c-2408d642a041",
   "metadata": {},
   "source": [
    "**case: not ok**: using iterators"
   ]
  },
  {
   "cell_type": "code",
   "execution_count": 38,
   "id": "e6044f4b-a9cf-4748-b1d3-05ee804b2472",
   "metadata": {},
   "outputs": [],
   "source": [
    "operands = iter(range(10))"
   ]
  },
  {
   "cell_type": "code",
   "execution_count": 40,
   "id": "0163c40a-820a-431c-b6e8-03be8461f178",
   "metadata": {},
   "outputs": [],
   "source": [
    "# lax.cond(True, lambda x: x + 1, lambda x: x - 1, operands)  # forbidden: throws error"
   ]
  },
  {
   "cell_type": "code",
   "execution_count": null,
   "id": "592989aa-932e-4ee4-8c48-81b79f054a53",
   "metadata": {},
   "outputs": [],
   "source": []
  }
 ],
 "metadata": {
  "kernelspec": {
   "display_name": "Python 3 (ipykernel)",
   "language": "python",
   "name": "python3"
  },
  "language_info": {
   "codemirror_mode": {
    "name": "ipython",
    "version": 3
   },
   "file_extension": ".py",
   "mimetype": "text/x-python",
   "name": "python",
   "nbconvert_exporter": "python",
   "pygments_lexer": "ipython3",
   "version": "3.12.2"
  }
 },
 "nbformat": 4,
 "nbformat_minor": 5
}
