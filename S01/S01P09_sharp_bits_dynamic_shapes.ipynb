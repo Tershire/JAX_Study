{
 "cells": [
  {
   "cell_type": "markdown",
   "id": "f7b52dcf-a07f-4f73-baef-513b25b4263a",
   "metadata": {},
   "source": [
    "**S01P09_sharp_bits_dynamic_shapes.ipynb**\n",
    "\n",
    "Arz\n",
    "\n",
    "2024 APR 06 (SAT)\n",
    "\n",
    "reference:\n",
    "https://jax.readthedocs.io/en/latest/notebooks/Common_Gotchas_in_JAX.html"
   ]
  },
  {
   "cell_type": "code",
   "execution_count": 2,
   "id": "20674dcb-719b-49cd-941c-3ba4a8a43826",
   "metadata": {},
   "outputs": [],
   "source": [
    "import numpy as np"
   ]
  },
  {
   "cell_type": "code",
   "execution_count": 3,
   "id": "10354691-84a4-4a85-b8a3-6364fee3cafd",
   "metadata": {},
   "outputs": [],
   "source": [
    "import jax\n",
    "import jax.numpy as jnp\n",
    "from jax import lax\n",
    "from jax import grad, jit\n",
    "from jax import random"
   ]
  },
  {
   "cell_type": "code",
   "execution_count": 4,
   "id": "2deeec45-de94-42e4-b00e-ad46b72d771f",
   "metadata": {},
   "outputs": [
    {
     "name": "stdout",
     "output_type": "stream",
     "text": [
      "Exception reporting mode: Minimal\n"
     ]
    }
   ],
   "source": [
    "%xmode minimal"
   ]
  },
  {
   "cell_type": "markdown",
   "id": "d01dcbea-5bfd-4d72-a4c5-f71512221d26",
   "metadata": {},
   "source": [
    "# dynamic shapes"
   ]
  },
  {
   "cell_type": "markdown",
   "id": "1f35717c-94ee-4af9-aaaa-f1f2d55556f8",
   "metadata": {},
   "source": [
    "## ex) nansum()"
   ]
  },
  {
   "cell_type": "markdown",
   "id": "25df0b54-bf31-456f-8775-45d4685e7842",
   "metadata": {},
   "source": [
    "### case: value-dependent shape"
   ]
  },
  {
   "cell_type": "code",
   "execution_count": 5,
   "id": "233e067f-20ec-44c7-b462-8e071c3716d9",
   "metadata": {},
   "outputs": [],
   "source": [
    "def nansum(x):\n",
    "    mask = ~jnp.isnan(x)\n",
    "    x_without_nans = x[mask]\n",
    "    return x_without_nans.sum()"
   ]
  },
  {
   "cell_type": "code",
   "execution_count": 7,
   "id": "97864faa-f28e-419b-b9e8-f46fa252be9c",
   "metadata": {},
   "outputs": [
    {
     "name": "stdout",
     "output_type": "stream",
     "text": [
      "8.0\n"
     ]
    }
   ],
   "source": [
    "x = jnp.array([1, jnp.nan, 3, 4, jnp.nan])\n",
    "\n",
    "print(nansum(x))"
   ]
  },
  {
   "cell_type": "code",
   "execution_count": 15,
   "id": "ee3695a2-8d71-4e1c-a1b1-e6b61af272dd",
   "metadata": {},
   "outputs": [],
   "source": [
    "# jit(nansum)(x)  # forbidden: throws error \n",
    "\n",
    "#because the shape of x_without_nans is dynamic, depending on the value of x."
   ]
  },
  {
   "cell_type": "markdown",
   "id": "1dd54680-a32a-4ca6-b150-d60ed596b229",
   "metadata": {},
   "source": [
    "### case: (work-around) value-independent shape"
   ]
  },
  {
   "cell_type": "code",
   "execution_count": 13,
   "id": "e3b9a7f9-87e1-425d-af89-7c4d145348f7",
   "metadata": {},
   "outputs": [],
   "source": [
    "def nansum(x):\n",
    "    mask = ~jnp.isnan(x)\n",
    "    return jnp.where(mask, x, 0).sum()"
   ]
  },
  {
   "cell_type": "code",
   "execution_count": 14,
   "id": "86be6d32-b6f5-49ed-8011-003f6bc55d17",
   "metadata": {},
   "outputs": [
    {
     "name": "stdout",
     "output_type": "stream",
     "text": [
      "8.0\n"
     ]
    }
   ],
   "source": [
    "x = jnp.array([1, jnp.nan, 3, 4, jnp.nan])\n",
    "\n",
    "print(nansum(x))"
   ]
  },
  {
   "cell_type": "code",
   "execution_count": 16,
   "id": "2d681df7-cd1b-4b54-aafc-d6f203330d11",
   "metadata": {},
   "outputs": [
    {
     "data": {
      "text/plain": [
       "Array(8., dtype=float32)"
      ]
     },
     "execution_count": 16,
     "metadata": {},
     "output_type": "execute_result"
    }
   ],
   "source": [
    "jit(nansum)(x)  # now works"
   ]
  },
  {
   "cell_type": "code",
   "execution_count": null,
   "id": "eaafee80-953c-4ccf-a6ff-ffa6c51fc7af",
   "metadata": {},
   "outputs": [],
   "source": []
  }
 ],
 "metadata": {
  "kernelspec": {
   "display_name": "Python 3 (ipykernel)",
   "language": "python",
   "name": "python3"
  },
  "language_info": {
   "codemirror_mode": {
    "name": "ipython",
    "version": 3
   },
   "file_extension": ".py",
   "mimetype": "text/x-python",
   "name": "python",
   "nbconvert_exporter": "python",
   "pygments_lexer": "ipython3",
   "version": "3.12.2"
  }
 },
 "nbformat": 4,
 "nbformat_minor": 5
}
