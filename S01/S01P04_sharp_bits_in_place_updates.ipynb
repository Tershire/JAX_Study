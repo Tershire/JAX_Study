{
 "cells": [
  {
   "cell_type": "markdown",
   "id": "ad8a5ae4-d094-46db-be86-54d7159e9720",
   "metadata": {},
   "source": [
    "**S01P04_sharp_bits_in_place_updates.ipynb**\n",
    "\n",
    "Arz\n",
    "\n",
    "2024 APR 05 (FRI)\n",
    "\n",
    "reference:\n",
    "https://jax.readthedocs.io/en/latest/notebooks/Common_Gotchas_in_JAX.html"
   ]
  },
  {
   "cell_type": "code",
   "execution_count": 1,
   "id": "9261df0c-fb73-48bb-9846-1fea8956ca80",
   "metadata": {},
   "outputs": [],
   "source": [
    "import numpy as np"
   ]
  },
  {
   "cell_type": "code",
   "execution_count": 2,
   "id": "82090306-f109-4e41-a838-5f1d572b4816",
   "metadata": {},
   "outputs": [],
   "source": [
    "import jax\n",
    "import jax.numpy as jnp\n",
    "from jax import lax\n",
    "from jax import grad, jit\n",
    "from jax import random"
   ]
  },
  {
   "cell_type": "code",
   "execution_count": 3,
   "id": "ef57af8a-3d9e-4fd4-8910-b0e6aaf63578",
   "metadata": {},
   "outputs": [
    {
     "name": "stdout",
     "output_type": "stream",
     "text": [
      "Exception reporting mode: Minimal\n"
     ]
    }
   ],
   "source": [
    "%xmode minimal"
   ]
  },
  {
   "cell_type": "markdown",
   "id": "785386c0-eb90-4500-a86f-b51becbece37",
   "metadata": {},
   "source": [
    "# in-place updates"
   ]
  },
  {
   "cell_type": "markdown",
   "id": "4a09ea95-fe96-45ed-ae05-63e666d893f4",
   "metadata": {},
   "source": [
    "## NumPy: in-place"
   ]
  },
  {
   "cell_type": "code",
   "execution_count": 10,
   "id": "ba8f6b43-e1c2-4cb3-9e96-5b285534c003",
   "metadata": {},
   "outputs": [
    {
     "name": "stdout",
     "output_type": "stream",
     "text": [
      "[[0. 0. 0.]\n",
      " [0. 0. 0.]\n",
      " [0. 0. 0.]]\n"
     ]
    }
   ],
   "source": [
    "x = np.zeros((3, 3), dtype=np.float32)\n",
    "\n",
    "print(x)"
   ]
  },
  {
   "cell_type": "code",
   "execution_count": 12,
   "id": "c96d8323-f88f-4856-9647-af7dc87d0635",
   "metadata": {},
   "outputs": [
    {
     "name": "stdout",
     "output_type": "stream",
     "text": [
      "[[0. 0. 1.]\n",
      " [0. 0. 1.]\n",
      " [0. 0. 1.]]\n"
     ]
    }
   ],
   "source": [
    "x[:, 2] = 1\n",
    "\n",
    "print(x)"
   ]
  },
  {
   "cell_type": "markdown",
   "id": "878e77fb-3a30-4876-bbe1-db6ead6c5d25",
   "metadata": {},
   "source": [
    "## JAX: out-of-place"
   ]
  },
  {
   "cell_type": "code",
   "execution_count": 13,
   "id": "7c415289-d996-4669-9c0a-1d0ee47e6d4a",
   "metadata": {},
   "outputs": [
    {
     "name": "stdout",
     "output_type": "stream",
     "text": [
      "[[0. 0. 0.]\n",
      " [0. 0. 0.]\n",
      " [0. 0. 0.]]\n"
     ]
    }
   ],
   "source": [
    "x = jnp.zeros((3, 3), dtype=jnp.float32)\n",
    "\n",
    "print(x)"
   ]
  },
  {
   "cell_type": "code",
   "execution_count": 14,
   "id": "2129ac34-7c76-4ccd-8496-956c18094a1f",
   "metadata": {},
   "outputs": [],
   "source": [
    "# x[:, 2] = 1  # in-place forbidden\n",
    "\n",
    "# print(x)"
   ]
  },
  {
   "cell_type": "markdown",
   "id": "bb3e176a-aa48-45de-b669-9d5b990331f6",
   "metadata": {},
   "source": [
    "### 1) .at[index].set(value)"
   ]
  },
  {
   "cell_type": "code",
   "execution_count": 15,
   "id": "5537ffee-2c6b-46c3-a1d4-033217ad0adc",
   "metadata": {},
   "outputs": [
    {
     "name": "stdout",
     "output_type": "stream",
     "text": [
      "[[0. 0. 0.]\n",
      " [0. 0. 0.]\n",
      " [0. 0. 0.]]\n"
     ]
    }
   ],
   "source": [
    "x = jnp.zeros((3, 3), dtype=jnp.float32)\n",
    "\n",
    "print(x)"
   ]
  },
  {
   "cell_type": "code",
   "execution_count": 16,
   "id": "03be5aa9-6d26-40d4-97f4-2f28b691e865",
   "metadata": {},
   "outputs": [
    {
     "name": "stdout",
     "output_type": "stream",
     "text": [
      "[[0. 0. 1.]\n",
      " [0. 0. 1.]\n",
      " [0. 0. 1.]]\n"
     ]
    }
   ],
   "source": [
    "x = x.at[:, 2].set(1)\n",
    "\n",
    "print(x)"
   ]
  },
  {
   "cell_type": "markdown",
   "id": "53f7840c-2607-44e6-a014-da104c5c631c",
   "metadata": {},
   "source": [
    "⚠️❓however, inside jit-compiled code, if the input value x of x.at[index].set(value) is not reused, the compiler will optimize the array update to occur in-place."
   ]
  },
  {
   "cell_type": "markdown",
   "id": "19612631-d0db-40ae-9ba9-2d58236572f3",
   "metadata": {},
   "source": [
    "### 2) other operations"
   ]
  },
  {
   "cell_type": "code",
   "execution_count": 22,
   "id": "b82e26e1-d1ed-40ed-b3ad-c04641d6fdd9",
   "metadata": {},
   "outputs": [
    {
     "name": "stdout",
     "output_type": "stream",
     "text": [
      "[[0. 0. 0. 0. 0.]\n",
      " [0. 0. 0. 0. 0.]\n",
      " [0. 0. 0. 0. 0.]]\n"
     ]
    }
   ],
   "source": [
    "x = jnp.zeros((3, 5), dtype=jnp.float32)\n",
    "\n",
    "print(x)"
   ]
  },
  {
   "cell_type": "code",
   "execution_count": 23,
   "id": "a50b4308-217a-44b0-8653-2939e5dbd6c1",
   "metadata": {},
   "outputs": [
    {
     "name": "stdout",
     "output_type": "stream",
     "text": [
      "[[0. 7. 0. 0. 7.]\n",
      " [0. 7. 0. 0. 7.]\n",
      " [0. 0. 0. 0. 0.]]\n"
     ]
    }
   ],
   "source": [
    "x = x.at[:2, 1::3].add(7)\n",
    "\n",
    "print(x)"
   ]
  },
  {
   "cell_type": "code",
   "execution_count": null,
   "id": "64a38f85-9deb-447c-b825-b036bb3d990c",
   "metadata": {},
   "outputs": [],
   "source": []
  }
 ],
 "metadata": {
  "kernelspec": {
   "display_name": "Python 3 (ipykernel)",
   "language": "python",
   "name": "python3"
  },
  "language_info": {
   "codemirror_mode": {
    "name": "ipython",
    "version": 3
   },
   "file_extension": ".py",
   "mimetype": "text/x-python",
   "name": "python",
   "nbconvert_exporter": "python",
   "pygments_lexer": "ipython3",
   "version": "3.11.9"
  }
 },
 "nbformat": 4,
 "nbformat_minor": 5
}
