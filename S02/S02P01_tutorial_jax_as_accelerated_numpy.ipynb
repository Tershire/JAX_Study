{
 "cells": [
  {
   "cell_type": "markdown",
   "id": "44a8148f-e74e-4ec5-8c0f-b432c29732ac",
   "metadata": {},
   "source": [
    "**S02P01_tutorial_jax_as_accelerated_numpy.ipynb**\n",
    "\n",
    "Arz\n",
    "\n",
    "2024 APR 08 (MON)\n",
    "\n",
    "reference:\n",
    "https://jax.readthedocs.io/en/latest/jax-101/01-jax-basics.html"
   ]
  },
  {
   "cell_type": "code",
   "execution_count": 1,
   "id": "4d340577-28fb-430e-b02c-1868acc6926e",
   "metadata": {},
   "outputs": [],
   "source": [
    "import numpy as np"
   ]
  },
  {
   "cell_type": "code",
   "execution_count": 2,
   "id": "ddfc2505-c168-42f6-9571-2f9afee32f00",
   "metadata": {},
   "outputs": [],
   "source": [
    "import jax\n",
    "import jax.numpy as jnp\n",
    "from jax import lax\n",
    "from jax import grad, jit\n",
    "from jax import random"
   ]
  },
  {
   "cell_type": "code",
   "execution_count": 3,
   "id": "e79cd7a6-84e5-44f0-9041-00dce88c6656",
   "metadata": {},
   "outputs": [
    {
     "name": "stdout",
     "output_type": "stream",
     "text": [
      "Exception reporting mode: Minimal\n"
     ]
    }
   ],
   "source": [
    "%xmode minimal"
   ]
  },
  {
   "cell_type": "markdown",
   "id": "6aa0f873-928f-4430-a33c-7a3dfd52b9b8",
   "metadata": {},
   "source": [
    "# getting started with JAX NumPy"
   ]
  },
  {
   "cell_type": "markdown",
   "id": "f3b352b2-fa7f-45a5-8f8c-d3167a03ec2f",
   "metadata": {},
   "source": [
    "## type"
   ]
  },
  {
   "cell_type": "code",
   "execution_count": 4,
   "id": "e9b795f6-b99a-4aa8-a3f8-5e59e64f7473",
   "metadata": {},
   "outputs": [
    {
     "name": "stdout",
     "output_type": "stream",
     "text": [
      "<class 'numpy.ndarray'> <class 'jaxlib.xla_extension.ArrayImpl'>\n"
     ]
    }
   ],
   "source": [
    "print(type(np.arange(3)), type(jnp.arange(3)))"
   ]
  },
  {
   "cell_type": "markdown",
   "id": "7a429aed-c22f-4902-a282-51c79a76888f",
   "metadata": {},
   "source": [
    "## ex) multiplication"
   ]
  },
  {
   "cell_type": "code",
   "execution_count": 5,
   "id": "d398ff6e-50cb-4ecd-84f0-211433d5f525",
   "metadata": {},
   "outputs": [
    {
     "name": "stdout",
     "output_type": "stream",
     "text": [
      "397 µs ± 56.3 µs per loop (mean ± std. dev. of 7 runs, 1 loop each)\n"
     ]
    }
   ],
   "source": [
    "x = jnp.arange(int(1e7))\n",
    "\n",
    "%timeit jnp.dot(x, x).block_until_ready()"
   ]
  },
  {
   "cell_type": "markdown",
   "id": "6bb71610-cf08-43d5-b166-9d0e2595d673",
   "metadata": {},
   "source": [
    "result on colab:\n",
    "\n",
    "|         | **time** |\n",
    "|---------|----------|\n",
    "| **CPU** | 8.8 [ms] |\n",
    "| **GPU** | 853 [µs] |\n",
    "| **TPU** |          |"
   ]
  },
  {
   "cell_type": "markdown",
   "id": "f957dd6a-4716-4cd4-9684-80434d0fa776",
   "metadata": {},
   "source": [
    "# JAX first transformation: grad"
   ]
  },
  {
   "cell_type": "code",
   "execution_count": 6,
   "id": "bf099a84-716c-4afd-96e1-6ed0900a49d8",
   "metadata": {},
   "outputs": [],
   "source": [
    "def sum_of_squares(x):\n",
    "    return jnp.sum(x**2)"
   ]
  },
  {
   "cell_type": "code",
   "execution_count": 7,
   "id": "63a56e02-805d-4654-9396-865398df9160",
   "metadata": {},
   "outputs": [],
   "source": [
    "sum_of_squares_grad = grad(sum_of_squares)"
   ]
  },
  {
   "cell_type": "code",
   "execution_count": 8,
   "id": "65e63b83-bd9c-49d1-a32d-0df27f09a64e",
   "metadata": {},
   "outputs": [
    {
     "name": "stdout",
     "output_type": "stream",
     "text": [
      "14.0\n",
      "[2. 4. 6.]\n"
     ]
    }
   ],
   "source": [
    "x = jnp.asarray([1., 2., 3.])\n",
    "\n",
    "print(sum_of_squares(x))\n",
    "print(sum_of_squares_grad(x))"
   ]
  },
  {
   "cell_type": "markdown",
   "id": "fafd876a-0b89-4419-9a50-49e8676d02d1",
   "metadata": {},
   "source": [
    "by default, jax.grad finds the gradient w.r.t. the **first** argument."
   ]
  },
  {
   "cell_type": "code",
   "execution_count": 9,
   "id": "1643fd10-d30e-4a52-9367-dfec81880365",
   "metadata": {},
   "outputs": [],
   "source": [
    "def f(x, y):\n",
    "    return jnp.sum((3*x - y)**2)"
   ]
  },
  {
   "cell_type": "code",
   "execution_count": 10,
   "id": "be93aec6-02d7-4792-984e-c3896a507a8f",
   "metadata": {},
   "outputs": [],
   "source": [
    "df_dx = grad(f)  # 2*(3*x - y)*3"
   ]
  },
  {
   "cell_type": "code",
   "execution_count": 11,
   "id": "f43ed5bd-a0f8-4461-a8a8-8dd2907c76dd",
   "metadata": {},
   "outputs": [
    {
     "name": "stdout",
     "output_type": "stream",
     "text": [
      "[11.4      23.400002 35.4     ]\n",
      "[11.4      23.400002 35.4     ]\n"
     ]
    }
   ],
   "source": [
    "x = jnp.asarray([1.0, 2.0, 3.0])\n",
    "y = jnp.asarray([1.1, 2.1, 3.1])\n",
    "\n",
    "print(df_dx(x, y))\n",
    "print(2*(3*x - y)*3)"
   ]
  },
  {
   "cell_type": "markdown",
   "id": "2bc678fe-4c91-4380-99ee-4efbcc12793b",
   "metadata": {},
   "source": [
    "specify the arguments to be accounted for jax.grad using **argnums**."
   ]
  },
  {
   "cell_type": "code",
   "execution_count": 12,
   "id": "cda38568-2696-4e51-b517-38aae6014b02",
   "metadata": {},
   "outputs": [],
   "source": [
    "f_grad = grad(f, argnums=(0, 1))  # find gradient w.r.t. both x and y"
   ]
  },
  {
   "cell_type": "code",
   "execution_count": 13,
   "id": "2bf55ef3-f1e3-4768-b85b-2a18ce871f5e",
   "metadata": {},
   "outputs": [
    {
     "name": "stdout",
     "output_type": "stream",
     "text": [
      "(Array([11.4     , 23.400002, 35.4     ], dtype=float32), Array([ -3.8,  -7.8, -11.8], dtype=float32))\n",
      "[11.4      23.400002 35.4     ] [ -3.8  -7.8 -11.8]\n"
     ]
    }
   ],
   "source": [
    "x = jnp.asarray([1.0, 2.0, 3.0])\n",
    "y = jnp.asarray([1.1, 2.1, 3.1])\n",
    "\n",
    "print(f_grad(x, y))\n",
    "print(2*(3*x - y)*3, 2*(3*x - y)*-1)"
   ]
  },
  {
   "cell_type": "markdown",
   "id": "dbf86f4b-6bb0-4945-83f7-a596d4fe0d21",
   "metadata": {},
   "source": [
    "# value and grad\n",
    "\n",
    "when both value and grad are needed.\n",
    "\n",
    "- ex) logging training loss\n",
    "\n",
    "output form: (value, grad)"
   ]
  },
  {
   "cell_type": "code",
   "execution_count": 14,
   "id": "caf962fe-6526-411c-9a22-ef2188749020",
   "metadata": {},
   "outputs": [],
   "source": [
    "x = jnp.asarray([1.0, 2.0, 3.0])\n",
    "y = jnp.asarray([1.1, 2.1, 3.1])"
   ]
  },
  {
   "cell_type": "code",
   "execution_count": 15,
   "id": "6c60ec57-3e96-42d7-a32c-f47cc635fd38",
   "metadata": {},
   "outputs": [
    {
     "data": {
      "text/plain": [
       "(Array(53.630005, dtype=float32),\n",
       " Array([11.4     , 23.400002, 35.4     ], dtype=float32))"
      ]
     },
     "execution_count": 15,
     "metadata": {},
     "output_type": "execute_result"
    }
   ],
   "source": [
    "jax.value_and_grad(f)(x, y)"
   ]
  },
  {
   "cell_type": "code",
   "execution_count": 16,
   "id": "5f938e12-b0d6-4420-a529-bc35d5c070d8",
   "metadata": {},
   "outputs": [
    {
     "data": {
      "text/plain": [
       "(Array(53.630005, dtype=float32),\n",
       " (Array([11.4     , 23.400002, 35.4     ], dtype=float32),\n",
       "  Array([ -3.8,  -7.8, -11.8], dtype=float32)))"
      ]
     },
     "execution_count": 16,
     "metadata": {},
     "output_type": "execute_result"
    }
   ],
   "source": [
    "jax.value_and_grad(f, argnums=(0, 1))(x, y)"
   ]
  },
  {
   "cell_type": "markdown",
   "id": "385c346f-f918-400c-b2b4-8d207397d14f",
   "metadata": {},
   "source": [
    "where value is simply,"
   ]
  },
  {
   "cell_type": "code",
   "execution_count": 17,
   "id": "17fe8136-3f56-4f5e-9d1b-948b198ae4af",
   "metadata": {},
   "outputs": [
    {
     "data": {
      "text/plain": [
       "Array(53.630005, dtype=float32)"
      ]
     },
     "execution_count": 17,
     "metadata": {},
     "output_type": "execute_result"
    }
   ],
   "source": [
    "f(x, y)"
   ]
  },
  {
   "cell_type": "markdown",
   "id": "1996abbe-27b4-46be-8db4-eb5a1443bfd2",
   "metadata": {},
   "source": [
    "# auxiliary data\n",
    "\n",
    "output form: (scalar output, aux)"
   ]
  },
  {
   "cell_type": "code",
   "execution_count": 18,
   "id": "ff13bdd0-728e-475b-ba49-f38f00cbe509",
   "metadata": {},
   "outputs": [],
   "source": [
    "def f_with_aux(x, y):\n",
    "    return f(x, y), 3*x - y"
   ]
  },
  {
   "cell_type": "code",
   "execution_count": 19,
   "id": "d324d39b-e89e-4dd2-aa2b-fa70825f3356",
   "metadata": {},
   "outputs": [],
   "source": [
    "# grad(f_with_aux)(x, y)  # forbidden\n",
    "\n",
    "# because f_with_aux is not a scalar function"
   ]
  },
  {
   "cell_type": "code",
   "execution_count": 20,
   "id": "d3e32ac2-109a-4fd8-ac93-c8011e75482a",
   "metadata": {},
   "outputs": [
    {
     "data": {
      "text/plain": [
       "(Array([11.4     , 23.400002, 35.4     ], dtype=float32),\n",
       " Array([1.9, 3.9, 5.9], dtype=float32))"
      ]
     },
     "execution_count": 20,
     "metadata": {},
     "output_type": "execute_result"
    }
   ],
   "source": [
    "grad(f_with_aux, has_aux=True)(x, y)"
   ]
  },
  {
   "cell_type": "code",
   "execution_count": 21,
   "id": "ba28abec-0fb9-4298-8ae5-e6420ac5c84f",
   "metadata": {},
   "outputs": [
    {
     "name": "stdout",
     "output_type": "stream",
     "text": [
      "[1.9 3.9 5.9]\n"
     ]
    }
   ],
   "source": [
    "print(3*x - y)"
   ]
  },
  {
   "cell_type": "markdown",
   "id": "a5c4163a-346f-43a7-a241-9f92748e2a2b",
   "metadata": {},
   "source": [
    "# differences from NumPy"
   ]
  },
  {
   "cell_type": "markdown",
   "id": "0b99eb1b-2b1d-4680-beea-8a3771ce4334",
   "metadata": {},
   "source": [
    "## ex) in-place modification"
   ]
  },
  {
   "cell_type": "markdown",
   "id": "ca88f8d2-cc9e-4d9a-adea-97d6c23ec522",
   "metadata": {},
   "source": [
    "### side-effect"
   ]
  },
  {
   "cell_type": "code",
   "execution_count": 22,
   "id": "3a652659-860e-4b39-bcba-7ece4bdb3f8e",
   "metadata": {},
   "outputs": [],
   "source": [
    "def modify_in_place(x):\n",
    "    x[0] = 0\n",
    "    return None"
   ]
  },
  {
   "cell_type": "code",
   "execution_count": 23,
   "id": "f8cc19e7-23f3-470e-a2ce-69159e4f0b90",
   "metadata": {},
   "outputs": [
    {
     "data": {
      "text/plain": [
       "array([0, 2, 3])"
      ]
     },
     "execution_count": 23,
     "metadata": {},
     "output_type": "execute_result"
    }
   ],
   "source": [
    "x = np.array([1, 2, 3])\n",
    "\n",
    "modify_in_place(x)\n",
    "x"
   ]
  },
  {
   "cell_type": "code",
   "execution_count": 24,
   "id": "d067c7e2-d43f-4c09-b885-f14e09f25e9a",
   "metadata": {},
   "outputs": [],
   "source": [
    "# modify_in_place(jnp.array(x))  # forbidden: throws error"
   ]
  },
  {
   "cell_type": "markdown",
   "id": "a5531530-5d8e-4dcd-b4e3-35cdd865f9bd",
   "metadata": {},
   "source": [
    "### side-effect-free (functionally pure)"
   ]
  },
  {
   "cell_type": "code",
   "execution_count": 25,
   "id": "ec9d12a2-bfff-4b60-8cd8-6206a0e46f3c",
   "metadata": {},
   "outputs": [],
   "source": [
    "def modify_in_place(x):\n",
    "    return x.at[0].set(0)"
   ]
  },
  {
   "cell_type": "code",
   "execution_count": 26,
   "id": "4df13fba-89e1-4d53-9859-c4efc69c485d",
   "metadata": {},
   "outputs": [
    {
     "data": {
      "text/plain": [
       "Array([0, 2, 3], dtype=int32)"
      ]
     },
     "execution_count": 26,
     "metadata": {},
     "output_type": "execute_result"
    }
   ],
   "source": [
    "x = np.array([1, 2, 3])\n",
    "\n",
    "y = modify_in_place(jnp.array(x))\n",
    "y"
   ]
  },
  {
   "cell_type": "markdown",
   "id": "fdc5fff4-572a-4bee-b41c-7d9e516f5a51",
   "metadata": {},
   "source": [
    "note: old array was untouched, so there is no side-effect"
   ]
  },
  {
   "cell_type": "code",
   "execution_count": 27,
   "id": "c983a7a1-e834-4632-8e21-1e9c5e2922a9",
   "metadata": {},
   "outputs": [
    {
     "data": {
      "text/plain": [
       "array([1, 2, 3])"
      ]
     },
     "execution_count": 27,
     "metadata": {},
     "output_type": "execute_result"
    }
   ],
   "source": [
    "x"
   ]
  },
  {
   "cell_type": "markdown",
   "id": "d392482d-9be8-44a8-8204-7a4d9ab7775f",
   "metadata": {},
   "source": [
    "# your first JAX training loop"
   ]
  },
  {
   "cell_type": "code",
   "execution_count": 28,
   "id": "cf6159fb-3088-4d5e-8ff5-bc551f6a8eaa",
   "metadata": {},
   "outputs": [],
   "source": [
    "import plotly.express as px\n",
    "import plotly.io as pio\n",
    "pio.renderers.default = 'iframe'"
   ]
  },
  {
   "cell_type": "markdown",
   "id": "64ed1fa9-8fef-424e-8c90-80bed018c936",
   "metadata": {},
   "source": [
    "## ex) linear regression"
   ]
  },
  {
   "cell_type": "markdown",
   "id": "df31cf08-b4e4-4bbe-995a-81516045f408",
   "metadata": {},
   "source": [
    "y_hat(theta, x) = w*x + b\n",
    "\n",
    "theta = (w, b)"
   ]
  },
  {
   "cell_type": "code",
   "execution_count": 29,
   "id": "c59c44ab-45d1-4457-90dd-ff2265084f14",
   "metadata": {},
   "outputs": [],
   "source": [
    "x = np.random.normal(size=(100,))\n",
    "noise = np.random.normal(scale=0.1, size=(100,))\n",
    "\n",
    "y = 3*x - 1 + noise"
   ]
  },
  {
   "cell_type": "code",
   "execution_count": 30,
   "id": "9d675823-318c-4145-b1e7-cf295c99e923",
   "metadata": {},
   "outputs": [
    {
     "data": {
      "text/html": [
       "<iframe\n",
       "    scrolling=\"no\"\n",
       "    width=\"100%\"\n",
       "    height=\"545px\"\n",
       "    src=\"iframe_figures/figure_30.html\"\n",
       "    frameborder=\"0\"\n",
       "    allowfullscreen\n",
       "></iframe>\n"
      ]
     },
     "metadata": {},
     "output_type": "display_data"
    }
   ],
   "source": [
    "fig = px.scatter(x=x, y=y)\n",
    "fig.show()"
   ]
  },
  {
   "cell_type": "code",
   "execution_count": 31,
   "id": "99382652-98ed-4400-a780-652df5cc6db2",
   "metadata": {},
   "outputs": [],
   "source": [
    "def model(theta, x):\n",
    "    w, b = theta\n",
    "    return w*x + b"
   ]
  },
  {
   "cell_type": "code",
   "execution_count": 32,
   "id": "0ce0b024-593c-4b75-bbc3-8856febbdb2a",
   "metadata": {},
   "outputs": [],
   "source": [
    "def loss_function(theta, x, y):\n",
    "    y_pred = model(theta, x)\n",
    "    return jnp.mean((y - y_pred)**2)"
   ]
  },
  {
   "cell_type": "markdown",
   "id": "398e1a97-b1da-4137-a535-08ce071f8c78",
   "metadata": {},
   "source": [
    "in JAX, it’s common to define an update() function that is called every step, taking the current parameters as input and returning the new parameters. this is a natural consequence of JAX’s functional nature."
   ]
  },
  {
   "cell_type": "code",
   "execution_count": 33,
   "id": "e500beaf-3ca1-4880-a311-7b52ace3d044",
   "metadata": {},
   "outputs": [],
   "source": [
    "@jit\n",
    "def update_theta(theta, x, y, alpha=0.1):\n",
    "    return theta - alpha*grad(loss_function)(theta, x, y)"
   ]
  },
  {
   "cell_type": "markdown",
   "id": "320d7ee0-fca8-4108-90a6-7c637aabf98e",
   "metadata": {},
   "source": [
    "**training**"
   ]
  },
  {
   "cell_type": "code",
   "execution_count": 34,
   "id": "fcb9264b-a464-4248-9eb9-3d5deef62dbd",
   "metadata": {},
   "outputs": [],
   "source": [
    "theta = jnp.array([1., 1.])\n",
    "\n",
    "for _ in range(1000):\n",
    "    theta = update_theta(theta, x, y)"
   ]
  },
  {
   "cell_type": "code",
   "execution_count": 44,
   "id": "a2662847-f235-45f0-9336-726ccab44ad3",
   "metadata": {},
   "outputs": [
    {
     "data": {
      "text/html": [
       "<iframe\n",
       "    scrolling=\"no\"\n",
       "    width=\"100%\"\n",
       "    height=\"545px\"\n",
       "    src=\"iframe_figures/figure_44.html\"\n",
       "    frameborder=\"0\"\n",
       "    allowfullscreen\n",
       "></iframe>\n"
      ]
     },
     "metadata": {},
     "output_type": "display_data"
    }
   ],
   "source": [
    "fig = px.scatter(x=x, y=y)\n",
    "fig_model = px.line(x=x, y=model(theta, x))\n",
    "fig_model.data[0].line.color = \"#e02a19\"\n",
    "fig.add_trace(fig_model.data[0])\n",
    "\n",
    "fig.show()"
   ]
  },
  {
   "cell_type": "code",
   "execution_count": 45,
   "id": "4f58024b-458a-4011-a5bc-7eb2b67510b3",
   "metadata": {},
   "outputs": [
    {
     "name": "stdout",
     "output_type": "stream",
     "text": [
      "w: 3.00, b: -1.01\n"
     ]
    }
   ],
   "source": [
    "w, b = theta\n",
    "print(f\"w: {w:<.2f}, b: {b:<.2f}\")"
   ]
  },
  {
   "cell_type": "code",
   "execution_count": null,
   "id": "d3bf418c-37a8-41c6-a0a4-752dcd1c73ec",
   "metadata": {},
   "outputs": [],
   "source": []
  }
 ],
 "metadata": {
  "kernelspec": {
   "display_name": "Python 3 (ipykernel)",
   "language": "python",
   "name": "python3"
  },
  "language_info": {
   "codemirror_mode": {
    "name": "ipython",
    "version": 3
   },
   "file_extension": ".py",
   "mimetype": "text/x-python",
   "name": "python",
   "nbconvert_exporter": "python",
   "pygments_lexer": "ipython3",
   "version": "3.12.2"
  }
 },
 "nbformat": 4,
 "nbformat_minor": 5
}
