{
 "cells": [
  {
   "cell_type": "markdown",
   "id": "ab9640d2-75f3-46fe-b2b3-614bb8ccde89",
   "metadata": {},
   "source": [
    "**S02P02_tutorial_jit_compilation_with_jax.ipynb**\n",
    "\n",
    "Arz\n",
    "\n",
    "2024 APR 09 (TUE)\n",
    "\n",
    "reference:\n",
    "https://jax.readthedocs.io/en/latest/jax-101/02-jitting.html"
   ]
  },
  {
   "cell_type": "code",
   "execution_count": 1,
   "id": "68c53bda-897b-4584-8e7d-071a9be0f10b",
   "metadata": {},
   "outputs": [],
   "source": [
    "import numpy as np"
   ]
  },
  {
   "cell_type": "code",
   "execution_count": 2,
   "id": "e3aa407f-01fb-4edf-ad5a-5ace14976d57",
   "metadata": {},
   "outputs": [],
   "source": [
    "import jax\n",
    "import jax.numpy as jnp\n",
    "from jax import lax\n",
    "from jax import grad, jit\n",
    "from jax import random"
   ]
  },
  {
   "cell_type": "code",
   "execution_count": 3,
   "id": "300d1a4f-8e8b-4b75-892b-f3257ff6ea11",
   "metadata": {},
   "outputs": [
    {
     "name": "stdout",
     "output_type": "stream",
     "text": [
      "Exception reporting mode: Minimal\n"
     ]
    }
   ],
   "source": [
    "%xmode minimal"
   ]
  },
  {
   "cell_type": "markdown",
   "id": "487514d3-fe8b-4008-b3eb-1826234469b3",
   "metadata": {},
   "source": [
    "# how JAX transforms work\n",
    "\n",
    "Python code -> [tracing] -> jaxpr -> [transformation]"
   ]
  },
  {
   "cell_type": "code",
   "execution_count": 4,
   "id": "639e8967-4a3d-40a3-b85b-d2d47c3c9317",
   "metadata": {},
   "outputs": [],
   "source": [
    "from jax import make_jaxpr"
   ]
  },
  {
   "cell_type": "code",
   "execution_count": 5,
   "id": "5aa9713e-20f9-497f-b5d1-d46260e89ec6",
   "metadata": {},
   "outputs": [],
   "source": [
    "g = []  # global list\n",
    "\n",
    "def log2(x):\n",
    "    g.append(x)\n",
    "    ln_x = jnp.log(x)\n",
    "    ln_2 = jnp.log(2.)\n",
    "    return ln_x/ln_2"
   ]
  },
  {
   "cell_type": "code",
   "execution_count": 6,
   "id": "b87f1f4a-fa1b-49f4-9a54-8cef512eaf8d",
   "metadata": {},
   "outputs": [
    {
     "name": "stdout",
     "output_type": "stream",
     "text": [
      "<function make_jaxpr(log2) at 0x7248eabb39c0>\n",
      "{ lambda ; a:f32[]. let\n",
      "    b:f32[] = log a\n",
      "    c:f32[] = log 2.0\n",
      "    d:f32[] = div b c\n",
      "  in (d,) }\n"
     ]
    }
   ],
   "source": [
    "print(make_jaxpr(log2))\n",
    "print(make_jaxpr(log2)(3.))"
   ]
  },
  {
   "cell_type": "markdown",
   "id": "0eed5ccd-1883-4d07-805d-ab37c2874997",
   "metadata": {},
   "source": [
    "note: **jaxpr ignores side-effects**\n",
    "\n",
    "ex) g.append()"
   ]
  },
  {
   "cell_type": "code",
   "execution_count": 7,
   "id": "9741d7e4-7e37-41b7-9dde-f3973ac8d255",
   "metadata": {},
   "outputs": [],
   "source": [
    "def log2_with_print(x):\n",
    "    print(\"x:\", x)\n",
    "    ln_x = jnp.log(x)\n",
    "    ln_2 = jnp.log(2.)\n",
    "    return ln_x/ln_2"
   ]
  },
  {
   "cell_type": "code",
   "execution_count": 8,
   "id": "d90a9f91-6516-4d04-904f-359f2f56e0c3",
   "metadata": {},
   "outputs": [
    {
     "name": "stdout",
     "output_type": "stream",
     "text": [
      "x: Traced<ShapedArray(float32[], weak_type=True)>with<DynamicJaxprTrace(level=1/0)>\n",
      "{ lambda ; a:f32[]. let\n",
      "    b:f32[] = log a\n",
      "    c:f32[] = log 2.0\n",
      "    d:f32[] = div b c\n",
      "  in (d,) }\n"
     ]
    }
   ],
   "source": [
    "print(make_jaxpr(log2_with_print)(3.))"
   ]
  },
  {
   "cell_type": "code",
   "execution_count": 9,
   "id": "a72bbb49-f8b2-4e64-9671-02a228fefee9",
   "metadata": {},
   "outputs": [],
   "source": [
    "def log2_with_cond(x):\n",
    "    if x.ndim == 2:\n",
    "        ln_x = jnp.log(x)\n",
    "        ln_2 = jnp.log(2.)\n",
    "        return ln_x/ln_2\n",
    "    else:\n",
    "        return x"
   ]
  },
  {
   "cell_type": "code",
   "execution_count": 10,
   "id": "1fe50cda-32e1-4f55-8ab5-ec89c7bbdee5",
   "metadata": {},
   "outputs": [
    {
     "name": "stdout",
     "output_type": "stream",
     "text": [
      "x: Traced<ShapedArray(float32[], weak_type=True)>with<DynamicJaxprTrace(level=1/0)>\n",
      "{ lambda ; a:f32[]. let\n",
      "    b:f32[] = log a\n",
      "    c:f32[] = log 2.0\n",
      "    d:f32[] = div b c\n",
      "  in (d,) }\n"
     ]
    }
   ],
   "source": [
    "print(make_jaxpr(log2_with_print)(2.))"
   ]
  },
  {
   "cell_type": "code",
   "execution_count": 11,
   "id": "a6044a34-e52c-42f8-8cc7-37aae24c67aa",
   "metadata": {},
   "outputs": [
    {
     "name": "stdout",
     "output_type": "stream",
     "text": [
      "{ lambda ; a:f32[]. let  in (a,) }\n"
     ]
    }
   ],
   "source": [
    "print(make_jaxpr(log2_with_cond)(3.))"
   ]
  },
  {
   "cell_type": "markdown",
   "id": "036771f5-d265-49a0-9f53-e73076864f9f",
   "metadata": {},
   "source": [
    "# JIT compiling a function"
   ]
  },
  {
   "cell_type": "markdown",
   "id": "9432b605-69a1-4f0d-84bf-efcbbddea80f",
   "metadata": {},
   "source": [
    "## ex) SELU"
   ]
  },
  {
   "cell_type": "code",
   "execution_count": 12,
   "id": "9e42d564-4637-40b7-9384-2221802a334f",
   "metadata": {},
   "outputs": [],
   "source": [
    "def selu(x, alpha=1.67, lamda=1.05):\n",
    "    return lamda*jnp.where(x > 0, x, alpha*jnp.exp(x) - alpha)"
   ]
  },
  {
   "cell_type": "code",
   "execution_count": 13,
   "id": "818a1f50-117c-4059-82f2-70380b869745",
   "metadata": {},
   "outputs": [],
   "source": [
    "x = jnp.arange(1000000)"
   ]
  },
  {
   "cell_type": "markdown",
   "id": "e0212430-1b61-4203-ac0f-e1d4a6cf9163",
   "metadata": {},
   "source": [
    "### sending one operation at a time to the accelerator\n",
    "\n",
    "this limits the ability of the XLA compiler to optimize our functions."
   ]
  },
  {
   "cell_type": "code",
   "execution_count": 14,
   "id": "d05aa9d0-ae20-445a-b035-ac4b262cf79b",
   "metadata": {},
   "outputs": [
    {
     "name": "stdout",
     "output_type": "stream",
     "text": [
      "1.71 ms ± 266 µs per loop (mean ± std. dev. of 7 runs, 1 loop each)\n"
     ]
    }
   ],
   "source": [
    "%timeit selu(x).block_until_ready()"
   ]
  },
  {
   "cell_type": "markdown",
   "id": "f669860c-a309-41d4-8e3f-7270f517d3cb",
   "metadata": {},
   "source": [
    "### JIT"
   ]
  },
  {
   "cell_type": "code",
   "execution_count": 15,
   "id": "e2d9df3d-7b33-4080-96a9-68878ff6e744",
   "metadata": {},
   "outputs": [
    {
     "name": "stdout",
     "output_type": "stream",
     "text": [
      "87.1 µs ± 14.4 µs per loop (mean ± std. dev. of 7 runs, 10,000 loops each)\n"
     ]
    }
   ],
   "source": [
    "selu_jit = jit(selu)\n",
    "\n",
    "# warm-up\n",
    "selu_jit(x).block_until_ready()  # because first run includes compiling time\n",
    "\n",
    "%timeit selu_jit(x).block_until_ready()"
   ]
  },
  {
   "cell_type": "markdown",
   "id": "3d511363-76ea-44ac-a2c8-2e3a46ccc2c4",
   "metadata": {},
   "source": [
    "# why can't we just JIT everything?\n",
    "\n",
    "not-to-jit cases"
   ]
  },
  {
   "cell_type": "markdown",
   "id": "52e2ae15-9c04-4eaa-921c-018ed13e0416",
   "metadata": {},
   "source": [
    "## ex) if conditioned on the value"
   ]
  },
  {
   "cell_type": "code",
   "execution_count": 16,
   "id": "b9377239-8f9f-40df-87e3-61c50603dfa8",
   "metadata": {},
   "outputs": [],
   "source": [
    "def f(x):\n",
    "    if x > 0:\n",
    "        return x\n",
    "    else:\n",
    "        return -x"
   ]
  },
  {
   "cell_type": "code",
   "execution_count": 17,
   "id": "658b54ee-0496-4e6b-a08b-9690b261039e",
   "metadata": {},
   "outputs": [],
   "source": [
    "f_jit = jit(f)\n",
    "\n",
    "# f_jit(1.)  # forbidden: throws error"
   ]
  },
  {
   "cell_type": "markdown",
   "id": "a1ff6c3c-eb91-4a3b-96b7-4eefbd07e7df",
   "metadata": {},
   "source": [
    "## ex) while loop conditioned on the value"
   ]
  },
  {
   "cell_type": "code",
   "execution_count": 18,
   "id": "f3dfad4a-ba88-4e34-a83e-811b3cc3b4b8",
   "metadata": {},
   "outputs": [],
   "source": [
    "def f(x, n):\n",
    "    i = 0\n",
    "    while i < n:\n",
    "        i += 1\n",
    "    return x + i"
   ]
  },
  {
   "cell_type": "code",
   "execution_count": 19,
   "id": "df1b457a-d7a9-4d0c-8dd9-32376884e621",
   "metadata": {},
   "outputs": [],
   "source": [
    "f_jit = jit(f)\n",
    "\n",
    "# f_jit(7., 30.)  # forbidden: throws error"
   ]
  },
  {
   "cell_type": "markdown",
   "id": "a9f5a9cd-7fe7-4f6d-8783-e19a47e1d507",
   "metadata": {},
   "source": [
    "### solution #1: jit part of the function"
   ]
  },
  {
   "cell_type": "code",
   "execution_count": 20,
   "id": "5ab3c481-67af-4890-bcfb-b4c9e5eaa7de",
   "metadata": {},
   "outputs": [],
   "source": [
    "@jit\n",
    "def loop_body(i):\n",
    "    return i + 1\n",
    "\n",
    "def f(x, n):\n",
    "    i = 0\n",
    "    while i < n:\n",
    "        i = loop_body(i)\n",
    "    return x + i"
   ]
  },
  {
   "cell_type": "code",
   "execution_count": 21,
   "id": "00d8fa85-20c7-411d-b323-7cb3a66c375d",
   "metadata": {},
   "outputs": [
    {
     "data": {
      "text/plain": [
       "Array(37., dtype=float32, weak_type=True)"
      ]
     },
     "execution_count": 21,
     "metadata": {},
     "output_type": "execute_result"
    }
   ],
   "source": [
    "f(7., 30.)"
   ]
  },
  {
   "cell_type": "markdown",
   "id": "8dac33a6-ff0b-48d8-b337-3f6608bcfb12",
   "metadata": {},
   "source": [
    "### solution #2: specify static arguments\n",
    "\n",
    "⚠️ caveat: whenever the value of the static argument changes, recompilation is needed, leading to performance degradation. therefore, this method is useful is the changes are rare."
   ]
  },
  {
   "cell_type": "code",
   "execution_count": 22,
   "id": "3a31b557-ad3d-42c0-a7d3-f1fc8b833fb8",
   "metadata": {},
   "outputs": [],
   "source": [
    "def f(x, n):\n",
    "    i = 0\n",
    "    while i < n:\n",
    "        i += 1\n",
    "    return x + i"
   ]
  },
  {
   "cell_type": "code",
   "execution_count": 23,
   "id": "66b2e99d-fb4f-4886-99e9-80046e7615ca",
   "metadata": {},
   "outputs": [
    {
     "data": {
      "text/plain": [
       "Array(37., dtype=float32, weak_type=True)"
      ]
     },
     "execution_count": 23,
     "metadata": {},
     "output_type": "execute_result"
    }
   ],
   "source": [
    "f_jit = jit(f, static_argnums = (1,))\n",
    "\n",
    "f_jit(7., 30.)"
   ]
  },
  {
   "cell_type": "code",
   "execution_count": 24,
   "id": "fc6dd523-1a34-4d6f-ae52-e22d1f58988e",
   "metadata": {},
   "outputs": [
    {
     "data": {
      "text/plain": [
       "Array(37., dtype=float32, weak_type=True)"
      ]
     },
     "execution_count": 24,
     "metadata": {},
     "output_type": "execute_result"
    }
   ],
   "source": [
    "f_jit = jit(f, static_argnums = 1)\n",
    "\n",
    "f_jit(7., 30.)"
   ]
  },
  {
   "cell_type": "code",
   "execution_count": 25,
   "id": "64f9f292-c421-4ba0-af81-b00f469d96bb",
   "metadata": {},
   "outputs": [
    {
     "data": {
      "text/plain": [
       "Array(37., dtype=float32, weak_type=True)"
      ]
     },
     "execution_count": 25,
     "metadata": {},
     "output_type": "execute_result"
    }
   ],
   "source": [
    "f_jit = jit(f, static_argnames=['n'])\n",
    "\n",
    "f_jit(7., 30.)"
   ]
  },
  {
   "cell_type": "markdown",
   "id": "448e8419-27c6-40b6-ab71-360c70755341",
   "metadata": {},
   "source": [
    "to use decorator for the same purpose, use Python's *partial*."
   ]
  },
  {
   "cell_type": "code",
   "execution_count": 26,
   "id": "f65ac103-66ee-4e2e-88ba-f02776051862",
   "metadata": {},
   "outputs": [],
   "source": [
    "from functools import partial"
   ]
  },
  {
   "cell_type": "code",
   "execution_count": 27,
   "id": "fb29459d-519b-463d-8c22-1bd75f408960",
   "metadata": {},
   "outputs": [],
   "source": [
    "@partial(jit, static_argnames=['n'])\n",
    "def f(x, n):\n",
    "    i = 0\n",
    "    while i < n:\n",
    "        i += 1\n",
    "    return x + i"
   ]
  },
  {
   "cell_type": "code",
   "execution_count": 28,
   "id": "6b2a1154-172a-453a-a070-9e80f9b9e951",
   "metadata": {},
   "outputs": [
    {
     "data": {
      "text/plain": [
       "Array(37., dtype=float32, weak_type=True)"
      ]
     },
     "execution_count": 28,
     "metadata": {},
     "output_type": "execute_result"
    }
   ],
   "source": [
    "f(7., 30.)"
   ]
  },
  {
   "cell_type": "markdown",
   "id": "d1fde86c-8a3b-4f2e-b497-1b6322e94a4e",
   "metadata": {},
   "source": [
    "# when to use JIT"
   ]
  },
  {
   "cell_type": "markdown",
   "id": "5a26fa90-36ba-40cd-8c77-2b8107c820db",
   "metadata": {},
   "source": [
    "actually, above examples are not worth for JIT.\n",
    "\n",
    "because jit introduces some overhead itself.\n",
    "use jit for the largest possible chunk of your computation,\n",
    "where the functions are complex and called numerous times enough for jit to be worth.\n",
    "\n",
    "- ex) entire update step in machine learning "
   ]
  },
  {
   "cell_type": "code",
   "execution_count": 29,
   "id": "fe2ddc3b-3886-4446-bba4-30d4ba1e0d7b",
   "metadata": {},
   "outputs": [],
   "source": [
    "def f(x, n):\n",
    "    i = 0\n",
    "    while i < n:\n",
    "        i += 1\n",
    "    return x + i"
   ]
  },
  {
   "cell_type": "code",
   "execution_count": 30,
   "id": "ec18ac26-4047-4e6e-b8fc-4cb4d16b854a",
   "metadata": {},
   "outputs": [],
   "source": [
    "f_jit = jit(f, static_argnames=['n'])"
   ]
  },
  {
   "cell_type": "code",
   "execution_count": 31,
   "id": "76fa20ad-f0e7-4e13-b26a-1b36808e8121",
   "metadata": {},
   "outputs": [
    {
     "name": "stdout",
     "output_type": "stream",
     "text": [
      "f:\n",
      "581 ns ± 0.842 ns per loop (mean ± std. dev. of 7 runs, 1,000,000 loops each)\n",
      "f_jit:\n",
      "77.3 µs ± 6.04 µs per loop (mean ± std. dev. of 7 runs, 10,000 loops each)\n"
     ]
    }
   ],
   "source": [
    "n = 30\n",
    "\n",
    "print(\"f:\")\n",
    "%timeit f(7., n)\n",
    "\n",
    "print(\"f_jit:\")\n",
    "%timeit f_jit(7., n).block_until_ready()"
   ]
  },
  {
   "cell_type": "markdown",
   "id": "a6244852-19c2-443e-b628-35790194dd4d",
   "metadata": {},
   "source": [
    "I think it is useful in this case (?)"
   ]
  },
  {
   "cell_type": "markdown",
   "id": "33a0b5cb-d5d8-499e-8338-b7249454a129",
   "metadata": {},
   "source": [
    "# caching"
   ]
  },
  {
   "cell_type": "markdown",
   "id": "56d4eb82-0f83-4894-a017-501d04af28da",
   "metadata": {},
   "source": [
    "⚠️ avoid calling jax.jit inside loops.\n",
    "\n",
    "because the cache relies on the hash of the function, it becomes problematic when equivalent functions are redefined."
   ]
  },
  {
   "cell_type": "code",
   "execution_count": 32,
   "id": "145f358f-cd02-4900-9038-df04ed9f4b14",
   "metadata": {},
   "outputs": [],
   "source": [
    "def loop_body(i):\n",
    "    return i + 1\n",
    "\n",
    "# not good\n",
    "def f_jit_partial(x, n):\n",
    "    i = 0\n",
    "    while i < n:\n",
    "        # don't do this!\n",
    "        # at each iteration, partial returns a function with a different hash\n",
    "        i = jax.jit(partial(loop_body))(i)\n",
    "    return x + i\n",
    "\n",
    "# not good\n",
    "def f_jit_lambda(x, n):\n",
    "    i = 0\n",
    "    while i < n:\n",
    "        # don't do this!\n",
    "        # at each iteration, lambda returns a function with a different hash\n",
    "        i = jax.jit(lambda x: loop_body(x))(i)\n",
    "    return x + i\n",
    "\n",
    "# ok but refrain from using\n",
    "def f_jit(x, n):\n",
    "    i = 0\n",
    "    while i < n:\n",
    "        # ok\n",
    "        # JAX can find the cached, compiled function\n",
    "        i = jax.jit(loop_body)(i)\n",
    "    return x + i"
   ]
  },
  {
   "cell_type": "code",
   "execution_count": 33,
   "id": "8c39b8eb-a8f5-466d-a138-864cd86faca8",
   "metadata": {},
   "outputs": [
    {
     "name": "stdout",
     "output_type": "stream",
     "text": [
      "jit called in a loop with partials:\n",
      "465 ms ± 31.7 ms per loop (mean ± std. dev. of 7 runs, 1 loop each)\n",
      "jit called in a loop with lambdas:\n",
      "391 ms ± 22.4 ms per loop (mean ± std. dev. of 7 runs, 1 loop each)\n",
      "jit called in a loop with caching:\n",
      "7.3 ms ± 255 µs per loop (mean ± std. dev. of 7 runs, 100 loops each)\n"
     ]
    }
   ],
   "source": [
    "print(\"jit called in a loop with partials:\")\n",
    "%timeit f_jit_partial(7., 30).block_until_ready()\n",
    "\n",
    "print(\"jit called in a loop with lambdas:\")\n",
    "%timeit f_jit_lambda(7., 30).block_until_ready()\n",
    "\n",
    "print(\"jit called in a loop with caching:\")\n",
    "%timeit f_jit(7., 30).block_until_ready()"
   ]
  },
  {
   "cell_type": "markdown",
   "id": "c4cd1e37-c677-433b-b5a7-d63441bbf922",
   "metadata": {},
   "source": [
    "**one can just pre-jit.**"
   ]
  },
  {
   "cell_type": "code",
   "execution_count": 34,
   "id": "5248b9f2-852d-492c-9766-439a0f24db09",
   "metadata": {},
   "outputs": [],
   "source": [
    "def loop_body(i):\n",
    "    return i + 1\n",
    "\n",
    "loop_body_jit = jit(loop_body)\n",
    "\n",
    "def f(x, n):\n",
    "    i = 0\n",
    "    while i < n:\n",
    "        i = loop_body_jit(i)\n",
    "    return x + i"
   ]
  },
  {
   "cell_type": "code",
   "execution_count": 35,
   "id": "87b1ea3f-dc4d-47ef-8069-e04eafdee9a3",
   "metadata": {},
   "outputs": [
    {
     "name": "stdout",
     "output_type": "stream",
     "text": [
      "pre-jit, cached case:\n",
      "5.52 ms ± 678 µs per loop (mean ± std. dev. of 7 runs, 100 loops each)\n"
     ]
    }
   ],
   "source": [
    "print(\"pre-jit, cached case:\")\n",
    "%timeit f(7., 30).block_until_ready()"
   ]
  },
  {
   "cell_type": "code",
   "execution_count": null,
   "id": "451647c3-b010-4fd1-93a1-e53f1ead5ba3",
   "metadata": {},
   "outputs": [],
   "source": []
  }
 ],
 "metadata": {
  "kernelspec": {
   "display_name": "Python 3 (ipykernel)",
   "language": "python",
   "name": "python3"
  },
  "language_info": {
   "codemirror_mode": {
    "name": "ipython",
    "version": 3
   },
   "file_extension": ".py",
   "mimetype": "text/x-python",
   "name": "python",
   "nbconvert_exporter": "python",
   "pygments_lexer": "ipython3",
   "version": "3.12.2"
  }
 },
 "nbformat": 4,
 "nbformat_minor": 5
}
