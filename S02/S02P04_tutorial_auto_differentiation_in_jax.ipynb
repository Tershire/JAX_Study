{
 "cells": [
  {
   "cell_type": "markdown",
   "id": "08ce592e-0d31-42ed-81df-941c86a5fa54",
   "metadata": {},
   "source": [
    "**S02P04_tutorial_auto_differentiation_in_jax.ipynb**\n",
    "\n",
    "Arz\n",
    "\n",
    "2024 APR 11 (THU)\n",
    "\n",
    "reference:\n",
    "https://jax.readthedocs.io/en/latest/jax-101/04-advanced-autodiff.html\n",
    "\n",
    "check:\n",
    "\n",
    "- https://youtu.be/wG_nF1awSSY?si=xnaKSsOx8TtBQrNb\n",
    "- https://jax.readthedocs.io/en/latest/notebooks/autodiff_cookbook.html"
   ]
  },
  {
   "cell_type": "code",
   "execution_count": 1,
   "id": "cca4ab80-7d1e-4ca5-a364-fb0377c8dcba",
   "metadata": {},
   "outputs": [],
   "source": [
    "import numpy as np"
   ]
  },
  {
   "cell_type": "code",
   "execution_count": 2,
   "id": "6b292487-451a-4a7b-94f7-ae2f0cd41d1d",
   "metadata": {},
   "outputs": [],
   "source": [
    "import jax\n",
    "import jax.numpy as jnp\n",
    "from jax import lax\n",
    "from jax import grad, jit, vmap\n",
    "from jax import random"
   ]
  },
  {
   "cell_type": "code",
   "execution_count": 3,
   "id": "80ecddf4-21b9-4409-8d42-6e283da6613e",
   "metadata": {},
   "outputs": [
    {
     "name": "stdout",
     "output_type": "stream",
     "text": [
      "Exception reporting mode: Minimal\n"
     ]
    }
   ],
   "source": [
    "%xmode minimal"
   ]
  },
  {
   "cell_type": "markdown",
   "id": "8db68eb1-abf8-402d-be24-77d57711705c",
   "metadata": {},
   "source": [
    "# higher-order derivatives"
   ]
  },
  {
   "cell_type": "markdown",
   "id": "b09dc6dc-4f77-430e-a94f-b9a88f867776",
   "metadata": {},
   "source": [
    "## ex) single variable"
   ]
  },
  {
   "cell_type": "code",
   "execution_count": 4,
   "id": "b12997ce-5b6b-4396-8d6a-8243430c228c",
   "metadata": {},
   "outputs": [],
   "source": [
    "f = lambda x: x**3 + 2*x**2 - 3*x + 1"
   ]
  },
  {
   "cell_type": "code",
   "execution_count": 5,
   "id": "d918c405-ad02-42cf-bf46-7ad52f44b23a",
   "metadata": {},
   "outputs": [],
   "source": [
    "grad_f = grad(f)  # 3x^2 + 4x - 3"
   ]
  },
  {
   "cell_type": "code",
   "execution_count": 6,
   "id": "8406f6be-de28-440a-9ef2-346ed6fb04ff",
   "metadata": {},
   "outputs": [],
   "source": [
    "grad2_f = grad(grad_f)  # 6x + 4\n",
    "grad3_f = grad(grad2_f)  # 6\n",
    "grad4_f = grad(grad3_f)  # 0"
   ]
  },
  {
   "cell_type": "markdown",
   "id": "9ba5248f-b636-4721-a389-1d84da572cde",
   "metadata": {},
   "source": [
    "**check case: x=1**"
   ]
  },
  {
   "cell_type": "code",
   "execution_count": 7,
   "id": "c1d9399e-b7d8-4f10-a71a-9248fbc08bb6",
   "metadata": {},
   "outputs": [
    {
     "name": "stdout",
     "output_type": "stream",
     "text": [
      "4.0\n",
      "10.0\n",
      "6.0\n",
      "0.0\n"
     ]
    }
   ],
   "source": [
    "print(grad_f(1.))\n",
    "print(grad2_f(1.))\n",
    "print(grad3_f(1.))\n",
    "print(grad4_f(1.))"
   ]
  },
  {
   "cell_type": "markdown",
   "id": "51ab69d5-3b7e-4f8d-9938-c5094e6e111b",
   "metadata": {},
   "source": [
    "## ex) multivariable: Hessian"
   ]
  },
  {
   "cell_type": "code",
   "execution_count": 8,
   "id": "7641c0c5-1f1c-4a07-81bf-2b6b9b4e1093",
   "metadata": {},
   "outputs": [],
   "source": [
    "def hessian(f):\n",
    "    return jax.jacfwd(jax.grad(f))"
   ]
  },
  {
   "cell_type": "code",
   "execution_count": 9,
   "id": "307afbb2-71fb-4910-be45-27e645bdbb8d",
   "metadata": {},
   "outputs": [],
   "source": [
    "def f(x):\n",
    "    return jnp.dot(x, x)"
   ]
  },
  {
   "cell_type": "markdown",
   "id": "322c50ce-0638-4b64-ad7e-8354b4888532",
   "metadata": {},
   "source": [
    "- f = **x**^T **x**\n",
    "- grad_f = 2**x**\n",
    "- hess_f = 2**I**"
   ]
  },
  {
   "cell_type": "code",
   "execution_count": 10,
   "id": "ec00c9a3-0f63-4dd9-92b5-bea5e70928b3",
   "metadata": {},
   "outputs": [
    {
     "data": {
      "text/plain": [
       "Array([[2., 0., 0.],\n",
       "       [0., 2., 0.],\n",
       "       [0., 0., 2.]], dtype=float32)"
      ]
     },
     "execution_count": 10,
     "metadata": {},
     "output_type": "execute_result"
    }
   ],
   "source": [
    "hessian(f)(jnp.arange(3.))"
   ]
  },
  {
   "cell_type": "markdown",
   "id": "04d9e8ed-6555-4204-9d06-e98d6494308f",
   "metadata": {},
   "source": [
    "# higher-order optimization"
   ]
  },
  {
   "cell_type": "markdown",
   "id": "1ea07605-5a39-46d2-a29a-72d969e8d014",
   "metadata": {},
   "source": [
    "## ❓ ex) MAML: differentiating through gradient updates"
   ]
  },
  {
   "cell_type": "code",
   "execution_count": 11,
   "id": "0e0a5191-2131-458f-9572-ffac0b6df700",
   "metadata": {},
   "outputs": [],
   "source": [
    "def meta_loss_function(params, data):\n",
    "    \"\"\"computes the loss after one step of SGD.\"\"\"\n",
    "    grads = grad(loss_function)(params, data)\n",
    "    return loss_function(params - learning_rate*grads, data)\n",
    "\n",
    "# meta_grads = grad(meta_loss_function)(params, data)"
   ]
  },
  {
   "cell_type": "markdown",
   "id": "cfad6bd2-6167-4dbd-b76f-ebc49a3bf0c3",
   "metadata": {},
   "source": [
    "# stopping gradients\n",
    "\n",
    "- ex) using multiple loss functions for various portions of the network."
   ]
  },
  {
   "cell_type": "markdown",
   "id": "39952313-09d2-4d31-a3ae-42f2f7d5ec9d",
   "metadata": {},
   "source": [
    "## ex) TD(0) RL: update"
   ]
  },
  {
   "cell_type": "code",
   "execution_count": 12,
   "id": "dc66753c-8e0e-4497-95d5-0306a6db76f0",
   "metadata": {},
   "outputs": [],
   "source": [
    "# value function\n",
    "value_function = lambda theta, state: jnp.dot(theta, state)"
   ]
  },
  {
   "cell_type": "code",
   "execution_count": 13,
   "id": "a14daf6e-0738-47cc-a4ad-07ce3f1048b2",
   "metadata": {},
   "outputs": [],
   "source": [
    "theta = jnp.array([0.1, -0.1, 0.])"
   ]
  },
  {
   "cell_type": "code",
   "execution_count": 14,
   "id": "36252e17-deb0-4a3d-97ee-81c210749237",
   "metadata": {},
   "outputs": [],
   "source": [
    "# ex) transition: (s_{k - 1} -> s_{k}) ~ r_{k}\n",
    "s_prev = jnp.array([1., 2., -1.])\n",
    "s_curr = jnp.array([2., 1., 0.])\n",
    "r_curr = jnp.array(1.)"
   ]
  },
  {
   "cell_type": "code",
   "execution_count": 15,
   "id": "766a8997-393c-4a01-bf3f-30f9ec2b12a4",
   "metadata": {},
   "outputs": [],
   "source": [
    "def td_loss(theta, s_prev, s_curr, r_curr):\n",
    "    v_prev = value_function(theta, s_prev)\n",
    "    target = value_function(theta, s_curr) + r_curr\n",
    "    return -0.5*((target - v_prev)**2)"
   ]
  },
  {
   "cell_type": "code",
   "execution_count": 16,
   "id": "28b33b9b-bda1-4a46-a719-8a286e27b99d",
   "metadata": {},
   "outputs": [],
   "source": [
    "td_update = jax.grad(td_loss)\n",
    "delta_theta = td_update(theta, s_prev, s_curr, r_curr)"
   ]
  },
  {
   "cell_type": "code",
   "execution_count": 17,
   "id": "a65e0b94-f669-4a80-910e-e176c95ae6e7",
   "metadata": {},
   "outputs": [
    {
     "data": {
      "text/plain": [
       "Array([-1.2,  1.2, -1.2], dtype=float32)"
      ]
     },
     "execution_count": 17,
     "metadata": {},
     "output_type": "execute_result"
    }
   ],
   "source": [
    "delta_theta"
   ]
  },
  {
   "cell_type": "markdown",
   "id": "9f8a9d0d-f807-45ac-a568-f9fc3a83b6d4",
   "metadata": {},
   "source": [
    "❓ force JAX to ignore the dependency of the target on theta,\n",
    "\n",
    "using **jax.lax.stop_gradient**"
   ]
  },
  {
   "cell_type": "code",
   "execution_count": 21,
   "id": "278d4732-882b-4270-ada7-09c976d316a5",
   "metadata": {},
   "outputs": [],
   "source": [
    "def td_loss(theta, s_prev, s_curr, r_curr):\n",
    "    v_prev = value_function(theta, s_prev)\n",
    "    target = value_function(theta, s_curr) + r_curr\n",
    "    return -0.5*((lax.stop_gradient(target) - v_prev)**2)"
   ]
  },
  {
   "cell_type": "code",
   "execution_count": 22,
   "id": "e7918087-8ec6-456b-b677-a01bf9cb1615",
   "metadata": {},
   "outputs": [],
   "source": [
    "td_update = grad(td_loss)\n",
    "delta_theta = td_update(theta, s_prev, s_curr, r_curr)"
   ]
  },
  {
   "cell_type": "code",
   "execution_count": 23,
   "id": "9f9e485d-26d3-4049-b9fb-a5d3c11c5d90",
   "metadata": {},
   "outputs": [
    {
     "data": {
      "text/plain": [
       "Array([ 1.2,  2.4, -1.2], dtype=float32)"
      ]
     },
     "execution_count": 23,
     "metadata": {},
     "output_type": "execute_result"
    }
   ],
   "source": [
    "delta_theta"
   ]
  },
  {
   "cell_type": "markdown",
   "id": "98a3a025-3575-4a40-9332-05041cb18227",
   "metadata": {},
   "source": [
    "### validation"
   ]
  },
  {
   "cell_type": "code",
   "execution_count": 24,
   "id": "363fce72-7230-4ea7-8a51-150a8e970cb0",
   "metadata": {},
   "outputs": [],
   "source": [
    "v_grad = grad(value_function)(theta, s_prev)\n",
    "delta_theta = (r_curr + value_function(theta, s_curr) - value_function(theta, s_prev))*v_grad"
   ]
  },
  {
   "cell_type": "code",
   "execution_count": 25,
   "id": "59d8cea3-c0fd-4d4b-891b-53b2c3333453",
   "metadata": {
    "collapsed": true,
    "jupyter": {
     "outputs_hidden": true
    }
   },
   "outputs": [
    {
     "data": {
      "text/plain": [
       "Array([ 1.2,  2.4, -1.2], dtype=float32)"
      ]
     },
     "execution_count": 25,
     "metadata": {},
     "output_type": "execute_result"
    }
   ],
   "source": [
    "delta_theta"
   ]
  },
  {
   "cell_type": "markdown",
   "id": "73570ff9-6dc6-4053-9b82-2cd3ac19af6d",
   "metadata": {},
   "source": [
    "# straight-through estimator\n",
    "\n",
    "- trick for defining a \"gradient\" of a function that is otherwise non-differentiable.\n",
    "\n",
    "using **jax.lax.stop_gradient**"
   ]
  },
  {
   "cell_type": "code",
   "execution_count": 26,
   "id": "3b36f0b9-a6a4-45c9-88d8-e327c08dc91e",
   "metadata": {},
   "outputs": [],
   "source": [
    "def f(x):\n",
    "    return jnp.round(x)  # non-differentiable"
   ]
  },
  {
   "cell_type": "code",
   "execution_count": 27,
   "id": "e8a2426a-9e65-49bc-9346-9a19b15073b0",
   "metadata": {},
   "outputs": [],
   "source": [
    "def straight_through_f(x):\n",
    "    # (?) create an exactly-zero expression with Sterbenz lemma\n",
    "    # that has an exactly-one gradient.\n",
    "    zero = x - lax.stop_gradient(x)\n",
    "    return zero + lax.stop_gradient(f(x))"
   ]
  },
  {
   "cell_type": "code",
   "execution_count": 29,
   "id": "4335d947-3939-49b9-9d80-4686fcbb5d16",
   "metadata": {},
   "outputs": [
    {
     "name": "stdout",
     "output_type": "stream",
     "text": [
      "f(x): 3.0\n",
      "straight_through_f(x): 3.0\n",
      "grad(f)(x): 0.0\n",
      "grad(straight_through_f)(x): 1.0\n"
     ]
    }
   ],
   "source": [
    "print(\"f(x):\", f(3.2))\n",
    "print(\"straight_through_f(x):\", straight_through_f(3.2))\n",
    "\n",
    "print(\"grad(f)(x):\", jax.grad(f)(3.2))\n",
    "print(\"grad(straight_through_f)(x):\", jax.grad(straight_through_f)(3.2))"
   ]
  },
  {
   "cell_type": "markdown",
   "id": "c39cfe27-8426-4a16-b3d4-02c79509e426",
   "metadata": {},
   "source": [
    "# per-example gradients"
   ]
  },
  {
   "cell_type": "code",
   "execution_count": 30,
   "id": "bd047ec2-b985-4b94-8cbf-17134c9fa0f1",
   "metadata": {},
   "outputs": [],
   "source": [
    "perex_grads = jit(vmap(grad(td_loss), in_axes=(None, 0, 0, 0)))"
   ]
  },
  {
   "cell_type": "code",
   "execution_count": 38,
   "id": "6c61b3de-c6c4-4fc4-a44f-870a5cc67dbc",
   "metadata": {},
   "outputs": [
    {
     "data": {
      "text/plain": [
       "Array([[ 1.2      ,  2.4      , -1.2      ],\n",
       "       [-0.6999999, -2.1      , -2.1      ],\n",
       "       [ 1.2      ,  2.4      , -1.2      ]], dtype=float32)"
      ]
     },
     "execution_count": 38,
     "metadata": {},
     "output_type": "execute_result"
    }
   ],
   "source": [
    "s_prevs = jnp.stack([s_prev, s_prev.at[1:].set(3), s_prev])\n",
    "s_currs = jnp.stack([s_curr, s_curr, s_curr.at[2].set(7)])\n",
    "r_currs = jnp.stack([r_curr, jnp.array(-1.), r_curr])\n",
    "\n",
    "perex_grads(theta, s_prevs, s_currs, r_currs)"
   ]
  },
  {
   "cell_type": "code",
   "execution_count": null,
   "id": "de1bf1c1-6003-43ea-8fc4-8ee5ee154abe",
   "metadata": {},
   "outputs": [],
   "source": []
  }
 ],
 "metadata": {
  "kernelspec": {
   "display_name": "Python 3 (ipykernel)",
   "language": "python",
   "name": "python3"
  },
  "language_info": {
   "codemirror_mode": {
    "name": "ipython",
    "version": 3
   },
   "file_extension": ".py",
   "mimetype": "text/x-python",
   "name": "python",
   "nbconvert_exporter": "python",
   "pygments_lexer": "ipython3",
   "version": "3.12.2"
  }
 },
 "nbformat": 4,
 "nbformat_minor": 5
}
