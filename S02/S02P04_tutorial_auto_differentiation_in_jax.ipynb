{
 "cells": [
  {
   "cell_type": "markdown",
   "id": "08ce592e-0d31-42ed-81df-941c86a5fa54",
   "metadata": {},
   "source": [
    "**S02P04_tutorial_auto_differentiation_in_jax.ipynb**\n",
    "\n",
    "Arz\n",
    "\n",
    "2024 APR 11 (THU)\n",
    "\n",
    "reference:\n",
    "https://jax.readthedocs.io/en/latest/jax-101/04-advanced-autodiff.html\n",
    "\n",
    "check:\n",
    "\n",
    "- https://youtu.be/wG_nF1awSSY?si=xnaKSsOx8TtBQrNb\n",
    "- https://jax.readthedocs.io/en/latest/notebooks/autodiff_cookbook.html"
   ]
  },
  {
   "cell_type": "code",
   "execution_count": 1,
   "id": "cca4ab80-7d1e-4ca5-a364-fb0377c8dcba",
   "metadata": {},
   "outputs": [],
   "source": [
    "import numpy as np"
   ]
  },
  {
   "cell_type": "code",
   "execution_count": 2,
   "id": "6b292487-451a-4a7b-94f7-ae2f0cd41d1d",
   "metadata": {},
   "outputs": [],
   "source": [
    "import jax\n",
    "import jax.numpy as jnp\n",
    "from jax import lax\n",
    "from jax import grad, jit, vmap\n",
    "from jax import random"
   ]
  },
  {
   "cell_type": "code",
   "execution_count": 3,
   "id": "80ecddf4-21b9-4409-8d42-6e283da6613e",
   "metadata": {},
   "outputs": [
    {
     "name": "stdout",
     "output_type": "stream",
     "text": [
      "Exception reporting mode: Minimal\n"
     ]
    }
   ],
   "source": [
    "%xmode minimal"
   ]
  },
  {
   "cell_type": "markdown",
   "id": "8db68eb1-abf8-402d-be24-77d57711705c",
   "metadata": {},
   "source": [
    "# higher-order derivatives"
   ]
  },
  {
   "cell_type": "markdown",
   "id": "b09dc6dc-4f77-430e-a94f-b9a88f867776",
   "metadata": {},
   "source": [
    "## ex) single variable"
   ]
  },
  {
   "cell_type": "code",
   "execution_count": 4,
   "id": "b12997ce-5b6b-4396-8d6a-8243430c228c",
   "metadata": {},
   "outputs": [],
   "source": [
    "f = lambda x: x**3 + 2*x**2 - 3*x + 1"
   ]
  },
  {
   "cell_type": "code",
   "execution_count": 8,
   "id": "d918c405-ad02-42cf-bf46-7ad52f44b23a",
   "metadata": {},
   "outputs": [],
   "source": [
    "grad_f = grad(f)  # 3x^2 + 4x - 3"
   ]
  },
  {
   "cell_type": "code",
   "execution_count": 9,
   "id": "8406f6be-de28-440a-9ef2-346ed6fb04ff",
   "metadata": {},
   "outputs": [],
   "source": [
    "grad2_f = grad(grad_f)  # 6x + 4\n",
    "grad3_f = grad(grad2_f)  # 6\n",
    "grad4_f = grad(grad3_f)  # 0"
   ]
  },
  {
   "cell_type": "markdown",
   "id": "9ba5248f-b636-4721-a389-1d84da572cde",
   "metadata": {},
   "source": [
    "**check case: x=1**"
   ]
  },
  {
   "cell_type": "code",
   "execution_count": 10,
   "id": "c1d9399e-b7d8-4f10-a71a-9248fbc08bb6",
   "metadata": {},
   "outputs": [
    {
     "name": "stdout",
     "output_type": "stream",
     "text": [
      "4.0\n",
      "10.0\n",
      "6.0\n",
      "0.0\n"
     ]
    }
   ],
   "source": [
    "print(grad_f(1.))\n",
    "print(grad2_f(1.))\n",
    "print(grad3_f(1.))\n",
    "print(grad4_f(1.))"
   ]
  },
  {
   "cell_type": "markdown",
   "id": "51ab69d5-3b7e-4f8d-9938-c5094e6e111b",
   "metadata": {},
   "source": [
    "## ex) multivariable: Hessian"
   ]
  },
  {
   "cell_type": "code",
   "execution_count": 12,
   "id": "7641c0c5-1f1c-4a07-81bf-2b6b9b4e1093",
   "metadata": {},
   "outputs": [],
   "source": [
    "def hessian(f):\n",
    "    return jax.jacfwd(jax.grad(f))"
   ]
  },
  {
   "cell_type": "code",
   "execution_count": 13,
   "id": "307afbb2-71fb-4910-be45-27e645bdbb8d",
   "metadata": {},
   "outputs": [],
   "source": [
    "def f(x):\n",
    "    return jnp.dot(x, x)"
   ]
  },
  {
   "cell_type": "markdown",
   "id": "322c50ce-0638-4b64-ad7e-8354b4888532",
   "metadata": {},
   "source": [
    "- f = **x**^T **x**\n",
    "- grad_f = 2**x**\n",
    "- hess_f = 2**I**"
   ]
  },
  {
   "cell_type": "code",
   "execution_count": 15,
   "id": "ec00c9a3-0f63-4dd9-92b5-bea5e70928b3",
   "metadata": {},
   "outputs": [
    {
     "data": {
      "text/plain": [
       "Array([[2., 0., 0.],\n",
       "       [0., 2., 0.],\n",
       "       [0., 0., 2.]], dtype=float32)"
      ]
     },
     "execution_count": 15,
     "metadata": {},
     "output_type": "execute_result"
    }
   ],
   "source": [
    "hessian(f)(jnp.arange(3.))"
   ]
  },
  {
   "cell_type": "markdown",
   "id": "04d9e8ed-6555-4204-9d06-e98d6494308f",
   "metadata": {},
   "source": [
    "# higher-order optimization\n",
    "\n",
    "❓ ex) MAML: differentiating through gradient updates"
   ]
  },
  {
   "cell_type": "code",
   "execution_count": 17,
   "id": "0e0a5191-2131-458f-9572-ffac0b6df700",
   "metadata": {},
   "outputs": [],
   "source": [
    "def meta_loss_function(params, data):\n",
    "    \"\"\"computes the loss after one step of SGD.\"\"\"\n",
    "    grads = grad(loss_function)(params, data)\n",
    "    return loss_function(params - learning_rate*grads, data)\n",
    "\n",
    "# meta_grads = grad(meta_loss_function)(params, data)"
   ]
  },
  {
   "cell_type": "code",
   "execution_count": null,
   "id": "dc66753c-8e0e-4497-95d5-0306a6db76f0",
   "metadata": {},
   "outputs": [],
   "source": []
  }
 ],
 "metadata": {
  "kernelspec": {
   "display_name": "Python 3 (ipykernel)",
   "language": "python",
   "name": "python3"
  },
  "language_info": {
   "codemirror_mode": {
    "name": "ipython",
    "version": 3
   },
   "file_extension": ".py",
   "mimetype": "text/x-python",
   "name": "python",
   "nbconvert_exporter": "python",
   "pygments_lexer": "ipython3",
   "version": "3.12.2"
  }
 },
 "nbformat": 4,
 "nbformat_minor": 5
}
