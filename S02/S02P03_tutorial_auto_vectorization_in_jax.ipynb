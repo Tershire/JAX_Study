{
 "cells": [
  {
   "cell_type": "markdown",
   "id": "cfa84d85-80a2-4776-b779-2d9f99e2e8d8",
   "metadata": {},
   "source": [
    "**S02P03_tutorial_auto_vectorization_in_jax.ipynb**\n",
    "\n",
    "Arz\n",
    "\n",
    "2024 APR 10 (WED)\n",
    "\n",
    "reference:\n",
    "https://jax.readthedocs.io/en/latest/jax-101/03-vectorization.html"
   ]
  },
  {
   "cell_type": "code",
   "execution_count": 1,
   "id": "e46c0f98-7926-4435-934b-9c0344e2e8d0",
   "metadata": {},
   "outputs": [],
   "source": [
    "import numpy as np"
   ]
  },
  {
   "cell_type": "code",
   "execution_count": 2,
   "id": "94aadd30-16de-4dcf-ace3-14fd1b4aaf12",
   "metadata": {},
   "outputs": [],
   "source": [
    "import jax\n",
    "import jax.numpy as jnp\n",
    "from jax import lax\n",
    "from jax import grad, jit, vmap\n",
    "from jax import random"
   ]
  },
  {
   "cell_type": "code",
   "execution_count": 3,
   "id": "99b7207b-27fd-42c7-8886-697ae4fdca1b",
   "metadata": {},
   "outputs": [
    {
     "name": "stdout",
     "output_type": "stream",
     "text": [
      "Exception reporting mode: Minimal\n"
     ]
    }
   ],
   "source": [
    "%xmode minimal"
   ]
  },
  {
   "cell_type": "markdown",
   "id": "a9adbb04-cc9f-4fd6-87a0-9c59a313fcb7",
   "metadata": {},
   "source": [
    "# manual vectorization"
   ]
  },
  {
   "cell_type": "markdown",
   "id": "3309bb89-091b-4734-9797-66a198e80752",
   "metadata": {},
   "source": [
    "ex) convolution of two vectors."
   ]
  },
  {
   "cell_type": "code",
   "execution_count": 4,
   "id": "6927e715-7210-4dc0-82df-cb32b79a251c",
   "metadata": {},
   "outputs": [],
   "source": [
    "def convolve(x, y):\n",
    "    output = []\n",
    "    for i in range(1, len(x) - 1):\n",
    "        output.append(jnp.dot(x[i-1:i+2], y))\n",
    "    return jnp.array(output)"
   ]
  },
  {
   "cell_type": "code",
   "execution_count": 5,
   "id": "4b7be2ef-7f14-4eea-a5f2-a061f54741de",
   "metadata": {},
   "outputs": [],
   "source": [
    "x = jnp.arange(5)\n",
    "y = jnp.array([2., 3., 4.])"
   ]
  },
  {
   "cell_type": "code",
   "execution_count": 6,
   "id": "d78158dc-bd40-4b01-9386-f5adf5ccf8ed",
   "metadata": {},
   "outputs": [
    {
     "data": {
      "text/plain": [
       "Array([11., 20., 29.], dtype=float32)"
      ]
     },
     "execution_count": 6,
     "metadata": {},
     "output_type": "execute_result"
    }
   ],
   "source": [
    "convolve(x, y)"
   ]
  },
  {
   "cell_type": "code",
   "execution_count": 7,
   "id": "b442d730-d0fc-4511-b408-078d46daf483",
   "metadata": {},
   "outputs": [
    {
     "name": "stdout",
     "output_type": "stream",
     "text": [
      "[[0 1 2 3 4]\n",
      " [0 1 2 3 4]\n",
      " [0 1 0 1 4]\n",
      " [0 1 2 3 4]]\n",
      "[[2. 3. 4.]\n",
      " [2. 3. 4.]\n",
      " [2. 3. 4.]\n",
      " [7. 4. 2.]]\n"
     ]
    }
   ],
   "source": [
    "x_batch = jnp.stack([x, x, x.at[1:-1].set([1, 0, 1]), x])\n",
    "y_batch = jnp.stack([y, y, y, jnp.array([7., 4., 2.])])\n",
    "\n",
    "print(x_batch)\n",
    "print(y_batch)"
   ]
  },
  {
   "cell_type": "markdown",
   "id": "b1758d21-2742-4ba1-86bd-e066ce16265d",
   "metadata": {},
   "source": [
    "## naive looping\n",
    "\n",
    "not efficient."
   ]
  },
  {
   "cell_type": "code",
   "execution_count": 8,
   "id": "5c20a388-ebac-4a4e-bea1-944666660fc4",
   "metadata": {},
   "outputs": [],
   "source": [
    "def looping_batch_convolve(x_batch, y_batch):\n",
    "    output = []\n",
    "    for i in range(x_batch.shape[0]):\n",
    "        output.append(convolve(x_batch[i], y_batch[i]))\n",
    "    return jnp.stack(output)"
   ]
  },
  {
   "cell_type": "code",
   "execution_count": 9,
   "id": "f275bdb8-d90a-41ed-854e-cdfb818f66ea",
   "metadata": {},
   "outputs": [
    {
     "data": {
      "text/plain": [
       "Array([[11., 20., 29.],\n",
       "       [11., 20., 29.],\n",
       "       [ 3.,  6., 19.],\n",
       "       [ 8., 21., 34.]], dtype=float32)"
      ]
     },
     "execution_count": 9,
     "metadata": {},
     "output_type": "execute_result"
    }
   ],
   "source": [
    "looping_batch_convolve(x_batch, y_batch)"
   ]
  },
  {
   "cell_type": "code",
   "execution_count": 10,
   "id": "4e86e0ae-c832-45d2-9e6f-478594fb4f7a",
   "metadata": {},
   "outputs": [
    {
     "name": "stdout",
     "output_type": "stream",
     "text": [
      "26.1 ms ± 1.96 ms per loop (mean ± std. dev. of 7 runs, 10 loops each)\n"
     ]
    }
   ],
   "source": [
    "%timeit looping_batch_convolve(x_batch, y_batch)"
   ]
  },
  {
   "cell_type": "markdown",
   "id": "a763aabc-d601-4150-b4b8-5cf699c4e1ef",
   "metadata": {},
   "source": [
    "## mathy\n",
    "\n",
    "ex) using linear algebra\n",
    "\n",
    "can be tricky to write or understand the code."
   ]
  },
  {
   "cell_type": "code",
   "execution_count": 11,
   "id": "910e3b86-8f33-41bb-9116-b569d03a13f9",
   "metadata": {},
   "outputs": [],
   "source": [
    "def mathy_batch_convolve(x_batch, y_batch):\n",
    "    output = []\n",
    "    for i in range(1, x_batch.shape[-1] - 1):\n",
    "        output.append(jnp.sum(x_batch[:, i-1:i+2]*y_batch, axis=1))\n",
    "    return jnp.stack(output, axis=1)"
   ]
  },
  {
   "cell_type": "code",
   "execution_count": 12,
   "id": "a2ba08b1-51d0-4280-8a04-83934c3bcc67",
   "metadata": {},
   "outputs": [
    {
     "data": {
      "text/plain": [
       "Array([[11., 20., 29.],\n",
       "       [11., 20., 29.],\n",
       "       [ 3.,  6., 19.],\n",
       "       [ 8., 21., 34.]], dtype=float32)"
      ]
     },
     "execution_count": 12,
     "metadata": {},
     "output_type": "execute_result"
    }
   ],
   "source": [
    "mathy_batch_convolve(x_batch, y_batch)"
   ]
  },
  {
   "cell_type": "code",
   "execution_count": 13,
   "id": "94f2cb1f-d1c8-449b-967b-c7e50185ed5e",
   "metadata": {},
   "outputs": [
    {
     "name": "stdout",
     "output_type": "stream",
     "text": [
      "The slowest run took 4.78 times longer than the fastest. This could mean that an intermediate result is being cached.\n",
      "2.81 ms ± 1.6 ms per loop (mean ± std. dev. of 7 runs, 100 loops each)\n"
     ]
    }
   ],
   "source": [
    "%timeit mathy_batch_convolve(x_batch, y_batch)"
   ]
  },
  {
   "cell_type": "markdown",
   "id": "5c8042ba-d747-4539-b241-3fe8e1a4c286",
   "metadata": {},
   "source": [
    "# automatic vectorization"
   ]
  },
  {
   "cell_type": "code",
   "execution_count": 14,
   "id": "7a2f2f91-3031-457a-b089-4b258d184a94",
   "metadata": {},
   "outputs": [],
   "source": [
    "auto_batch_convolve = vmap(convolve)"
   ]
  },
  {
   "cell_type": "code",
   "execution_count": 15,
   "id": "649d8d83-d25f-444b-bafd-e44f6f797d97",
   "metadata": {},
   "outputs": [
    {
     "data": {
      "text/plain": [
       "Array([[11., 20., 29.],\n",
       "       [11., 20., 29.],\n",
       "       [ 3.,  6., 19.],\n",
       "       [ 8., 21., 34.]], dtype=float32)"
      ]
     },
     "execution_count": 15,
     "metadata": {},
     "output_type": "execute_result"
    }
   ],
   "source": [
    "auto_batch_convolve(x_batch, y_batch)"
   ]
  },
  {
   "cell_type": "code",
   "execution_count": 16,
   "id": "ff3bf66b-056e-4286-bb8c-f6a2cc58939d",
   "metadata": {},
   "outputs": [
    {
     "name": "stdout",
     "output_type": "stream",
     "text": [
      "12.6 ms ± 1.12 ms per loop (mean ± std. dev. of 7 runs, 100 loops each)\n"
     ]
    }
   ],
   "source": [
    "%timeit auto_batch_convolve(x_batch, y_batch)"
   ]
  },
  {
   "cell_type": "markdown",
   "id": "314b8254-c8d2-4c4a-83f9-6d37801cd481",
   "metadata": {},
   "source": [
    "## specify batch dimension\n",
    "\n",
    "- input: **in-axes**\n",
    "- output: **out-axes**"
   ]
  },
  {
   "cell_type": "code",
   "execution_count": 17,
   "id": "1dc1c864-b5e2-4eb4-9605-2665099afe53",
   "metadata": {},
   "outputs": [
    {
     "data": {
      "text/plain": [
       "Array([[11., 11.,  3.,  8.],\n",
       "       [20., 20.,  6., 21.],\n",
       "       [29., 29., 19., 34.]], dtype=float32)"
      ]
     },
     "execution_count": 17,
     "metadata": {},
     "output_type": "execute_result"
    }
   ],
   "source": [
    "auto_batch_convolve = vmap(convolve, in_axes=1, out_axes=1)\n",
    "\n",
    "auto_batch_convolve(x_batch.T, y_batch.T) "
   ]
  },
  {
   "cell_type": "markdown",
   "id": "4c9283dc-9487-44ec-b19b-3abfa587a166",
   "metadata": {},
   "source": [
    "### case: dimension inconsistency"
   ]
  },
  {
   "cell_type": "code",
   "execution_count": 18,
   "id": "60b4ca72-907c-45dc-b270-676360ee7147",
   "metadata": {},
   "outputs": [],
   "source": [
    "auto_batch_convolve = vmap(convolve, in_axes=1, out_axes=0)\n",
    "\n",
    "# auto_batch_convolve(x_batch.T, y_batch)  # forbidden: throws error\n",
    "\n",
    "# dimension inconsistency\n",
    "# x_batch: int32[5, 4]\n",
    "# y_batch: float32[4, 3]"
   ]
  },
  {
   "cell_type": "markdown",
   "id": "efa47049-957d-410a-8c0c-d3631f3bc11b",
   "metadata": {},
   "source": [
    "**fix**\n",
    "\n",
    "in_axes=[axis to take for arg1 (x_batch), axis to take for arg2 (y_batch)]"
   ]
  },
  {
   "cell_type": "code",
   "execution_count": 19,
   "id": "92461006-3d1d-42d5-81ec-294532f0f9f1",
   "metadata": {},
   "outputs": [
    {
     "data": {
      "text/plain": [
       "Array([[11., 20., 29.],\n",
       "       [11., 20., 29.],\n",
       "       [ 3.,  6., 19.],\n",
       "       [ 8., 21., 34.]], dtype=float32)"
      ]
     },
     "execution_count": 19,
     "metadata": {},
     "output_type": "execute_result"
    }
   ],
   "source": [
    "auto_batch_convolve = vmap(convolve, in_axes=[1, 0], out_axes=0)\n",
    "\n",
    "auto_batch_convolve(x_batch.T, y_batch)"
   ]
  },
  {
   "cell_type": "code",
   "execution_count": 20,
   "id": "c75afcf8-b3da-4849-9f21-3dfbfa62475e",
   "metadata": {},
   "outputs": [
    {
     "data": {
      "text/plain": [
       "Array([[11., 11.,  3.,  8.],\n",
       "       [20., 20.,  6., 21.],\n",
       "       [29., 29., 19., 34.]], dtype=float32)"
      ]
     },
     "execution_count": 20,
     "metadata": {},
     "output_type": "execute_result"
    }
   ],
   "source": [
    "auto_batch_convolve = vmap(convolve, in_axes=[1, 0], out_axes=1)\n",
    "\n",
    "auto_batch_convolve(x_batch.T, y_batch)"
   ]
  },
  {
   "cell_type": "markdown",
   "id": "b828d4a0-4886-42dd-a0e2-9a6a9ac19ff2",
   "metadata": {},
   "source": [
    "## case: when only one of the arguments is batched"
   ]
  },
  {
   "cell_type": "code",
   "execution_count": 21,
   "id": "90e57d13-2538-453b-86c3-ac6a4eb18bbf",
   "metadata": {},
   "outputs": [
    {
     "data": {
      "text/plain": [
       "Array([[11., 20., 29.],\n",
       "       [11., 20., 29.],\n",
       "       [ 3.,  6., 19.],\n",
       "       [11., 20., 29.]], dtype=float32)"
      ]
     },
     "execution_count": 21,
     "metadata": {},
     "output_type": "execute_result"
    }
   ],
   "source": [
    "auto_batch_convolve = vmap(convolve, in_axes=[0, None])\n",
    "\n",
    "auto_batch_convolve(x_batch, y) "
   ]
  },
  {
   "cell_type": "markdown",
   "id": "d49c8634-039d-46e8-9919-f0a02ba7c08d",
   "metadata": {},
   "source": [
    "# combining transformations"
   ]
  },
  {
   "cell_type": "code",
   "execution_count": 22,
   "id": "59268b17-a99c-4ea4-a909-320825af6550",
   "metadata": {},
   "outputs": [],
   "source": [
    "auto_batch_convolve = vmap(convolve)"
   ]
  },
  {
   "cell_type": "code",
   "execution_count": 23,
   "id": "4f3eef2d-9672-49ec-8c1a-9eb26a47d334",
   "metadata": {},
   "outputs": [],
   "source": [
    "auto_batch_convolve_jit = jit(auto_batch_convolve)"
   ]
  },
  {
   "cell_type": "code",
   "execution_count": 24,
   "id": "45d46095-2dc3-40a0-b66d-3bb3b4ebd7d5",
   "metadata": {},
   "outputs": [
    {
     "data": {
      "text/plain": [
       "Array([[11., 20., 29.],\n",
       "       [11., 20., 29.],\n",
       "       [ 3.,  6., 19.],\n",
       "       [ 8., 21., 34.]], dtype=float32)"
      ]
     },
     "execution_count": 24,
     "metadata": {},
     "output_type": "execute_result"
    }
   ],
   "source": [
    "auto_batch_convolve_jit(x_batch, y_batch)"
   ]
  },
  {
   "cell_type": "code",
   "execution_count": 25,
   "id": "1ece2156-5446-4561-9dd4-f31088944710",
   "metadata": {},
   "outputs": [
    {
     "name": "stdout",
     "output_type": "stream",
     "text": [
      "163 µs ± 18.4 µs per loop (mean ± std. dev. of 7 runs, 1,000 loops each)\n"
     ]
    }
   ],
   "source": [
    "%timeit auto_batch_convolve_jit(x_batch, y_batch).block_until_ready()"
   ]
  },
  {
   "cell_type": "code",
   "execution_count": null,
   "id": "2d2940de-53fe-4468-b3a2-ba8cda492fa8",
   "metadata": {},
   "outputs": [],
   "source": []
  }
 ],
 "metadata": {
  "kernelspec": {
   "display_name": "Python 3 (ipykernel)",
   "language": "python",
   "name": "python3"
  },
  "language_info": {
   "codemirror_mode": {
    "name": "ipython",
    "version": 3
   },
   "file_extension": ".py",
   "mimetype": "text/x-python",
   "name": "python",
   "nbconvert_exporter": "python",
   "pygments_lexer": "ipython3",
   "version": "3.12.2"
  }
 },
 "nbformat": 4,
 "nbformat_minor": 5
}
