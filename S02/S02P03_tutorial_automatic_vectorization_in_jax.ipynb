{
 "cells": [
  {
   "cell_type": "markdown",
   "id": "cfa84d85-80a2-4776-b779-2d9f99e2e8d8",
   "metadata": {},
   "source": [
    "**S02P03_tutorial_automatic_vectorization_in_jax.ipynb**\n",
    "\n",
    "Arz\n",
    "\n",
    "2024 APR 09 (TUE)\n",
    "\n",
    "reference:\n",
    "https://jax.readthedocs.io/en/latest/jax-101/03-vectorization.html"
   ]
  },
  {
   "cell_type": "code",
   "execution_count": 1,
   "id": "e46c0f98-7926-4435-934b-9c0344e2e8d0",
   "metadata": {},
   "outputs": [],
   "source": [
    "import numpy as np"
   ]
  },
  {
   "cell_type": "code",
   "execution_count": 2,
   "id": "94aadd30-16de-4dcf-ace3-14fd1b4aaf12",
   "metadata": {},
   "outputs": [],
   "source": [
    "import jax\n",
    "import jax.numpy as jnp\n",
    "from jax import lax\n",
    "from jax import grad, jit\n",
    "from jax import random"
   ]
  },
  {
   "cell_type": "code",
   "execution_count": 3,
   "id": "99b7207b-27fd-42c7-8886-697ae4fdca1b",
   "metadata": {},
   "outputs": [
    {
     "name": "stdout",
     "output_type": "stream",
     "text": [
      "Exception reporting mode: Minimal\n"
     ]
    }
   ],
   "source": [
    "%xmode minimal"
   ]
  },
  {
   "cell_type": "code",
   "execution_count": null,
   "id": "ee72c458-a6bf-4264-844a-01b83b907292",
   "metadata": {},
   "outputs": [],
   "source": []
  }
 ],
 "metadata": {
  "kernelspec": {
   "display_name": "Python 3 (ipykernel)",
   "language": "python",
   "name": "python3"
  },
  "language_info": {
   "codemirror_mode": {
    "name": "ipython",
    "version": 3
   },
   "file_extension": ".py",
   "mimetype": "text/x-python",
   "name": "python",
   "nbconvert_exporter": "python",
   "pygments_lexer": "ipython3",
   "version": "3.12.2"
  }
 },
 "nbformat": 4,
 "nbformat_minor": 5
}
