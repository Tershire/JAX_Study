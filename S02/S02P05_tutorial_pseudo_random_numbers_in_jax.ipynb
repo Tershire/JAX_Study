{
 "cells": [
  {
   "cell_type": "markdown",
   "id": "95b72934-7705-4856-923e-2ec5570f8c44",
   "metadata": {},
   "source": [
    "**S02P05_tutorial_pseudo_random_numbers_in_jax.ipynb**\n",
    "\n",
    "Arz\n",
    "\n",
    "2024 APR 11 (THU)\n",
    "\n",
    "reference:\n",
    "https://jax.readthedocs.io/en/latest/jax-101/05-random-numbers.html"
   ]
  },
  {
   "cell_type": "code",
   "execution_count": 1,
   "id": "fcac8c9c-4478-477b-96b8-78e84afa96d0",
   "metadata": {},
   "outputs": [],
   "source": [
    "import numpy as np"
   ]
  },
  {
   "cell_type": "code",
   "execution_count": 2,
   "id": "3c624a00-48b2-4885-8d59-46e57a94539f",
   "metadata": {},
   "outputs": [],
   "source": [
    "import jax\n",
    "import jax.numpy as jnp\n",
    "from jax import lax\n",
    "from jax import grad, jit, vmap\n",
    "from jax import random"
   ]
  },
  {
   "cell_type": "code",
   "execution_count": 3,
   "id": "645579cc-731c-4d71-bb42-2fc2e239828f",
   "metadata": {},
   "outputs": [
    {
     "name": "stdout",
     "output_type": "stream",
     "text": [
      "Exception reporting mode: Minimal\n"
     ]
    }
   ],
   "source": [
    "%xmode minimal"
   ]
  },
  {
   "cell_type": "markdown",
   "id": "07656de3-7b9a-4e0b-9a65-f61b1727eb80",
   "metadata": {},
   "source": [
    "# random numbers in NumPy"
   ]
  },
  {
   "cell_type": "code",
   "execution_count": 13,
   "id": "ea6179e2-1c36-4b00-a284-2b762e811782",
   "metadata": {},
   "outputs": [],
   "source": [
    "np.random.seed(0)"
   ]
  },
  {
   "cell_type": "code",
   "execution_count": 14,
   "id": "d452930c-3813-42e2-9765-f5fd2ead36ac",
   "metadata": {},
   "outputs": [],
   "source": [
    "def print_truncated_random_state(n):\n",
    "    full_random_state = np.random.get_state()\n",
    "    print(str(full_random_state)[:n], \"...\")"
   ]
  },
  {
   "cell_type": "code",
   "execution_count": 15,
   "id": "f1027446-fdbc-4f00-8691-b8793d77d984",
   "metadata": {},
   "outputs": [
    {
     "name": "stdout",
     "output_type": "stream",
     "text": [
      "('MT19937', array([         0,          1, 1812433255, 1900727105, 1208447044 ...\n"
     ]
    }
   ],
   "source": [
    "print_truncated_random_state(77)"
   ]
  },
  {
   "cell_type": "markdown",
   "id": "f445477c-145a-4248-80e3-5e5c8b6d40ec",
   "metadata": {},
   "source": [
    "state is updated by each call to a random function. "
   ]
  },
  {
   "cell_type": "code",
   "execution_count": 16,
   "id": "ef15c0b6-7640-4945-9506-852412379207",
   "metadata": {},
   "outputs": [
    {
     "name": "stdout",
     "output_type": "stream",
     "text": [
      "('MT19937', array([         0,          1, 1812433255, 1900727105, 1208447044 ...\n",
      "('MT19937', array([2443250962, 1093594115, 1878467924, 2709361018, 1101979660 ...\n"
     ]
    }
   ],
   "source": [
    "print_truncated_random_state(77)\n",
    "\n",
    "_ = np.random.uniform()  # a random function\n",
    "\n",
    "print_truncated_random_state(77)"
   ]
  },
  {
   "cell_type": "code",
   "execution_count": 19,
   "id": "3c123c11-c4d0-4b7c-92dd-9c23ecb5f312",
   "metadata": {},
   "outputs": [
    {
     "name": "stdout",
     "output_type": "stream",
     "text": [
      "[0.5488135  0.71518937 0.60276338]\n"
     ]
    }
   ],
   "source": [
    "np.random.seed(0)  # initialize the random state\n",
    "print(np.random.uniform(size=3))"
   ]
  },
  {
   "cell_type": "markdown",
   "id": "dfb8d6ce-c15d-4211-a2db-eb843aba4bfc",
   "metadata": {},
   "source": [
    "## sequential equivalent guarantee\n",
    "\n",
    "one-by-one and all-at-once results in the same."
   ]
  },
  {
   "cell_type": "code",
   "execution_count": 20,
   "id": "9411ce06-02cd-4840-8753-d5f61db2b3ef",
   "metadata": {},
   "outputs": [
    {
     "name": "stdout",
     "output_type": "stream",
     "text": [
      "one by one : [0.5488135  0.71518937 0.60276338]\n",
      "all at once: [0.5488135  0.71518937 0.60276338]\n"
     ]
    }
   ],
   "source": [
    "np.random.seed(0)\n",
    "print(\"one by one :\", np.stack([np.random.uniform() for _ in range(3)]))\n",
    "\n",
    "np.random.seed(0)\n",
    "print(\"all at once:\", np.random.uniform(size=3))"
   ]
  },
  {
   "cell_type": "markdown",
   "id": "d27de9ed-5d8a-47d2-8b43-f77f007d12de",
   "metadata": {},
   "source": [
    "# random numbers in JAX"
   ]
  },
  {
   "cell_type": "markdown",
   "id": "59d97201-ef5f-4dec-8bff-98d6b2c6e613",
   "metadata": {},
   "source": [
    "a JAX code must be:\n",
    "\n",
    "- 1) reproducible\n",
    "  \n",
    "- 2) parallelizable\n",
    " \n",
    "- 3) vectorizable  "
   ]
  },
  {
   "cell_type": "markdown",
   "id": "59025160-07e6-48af-9cf3-3fc72d9c31f7",
   "metadata": {},
   "source": [
    "## NumPy assumes executions in order\n",
    "\n",
    "because the random state is global and changes at each call to a NumPy random function."
   ]
  },
  {
   "cell_type": "code",
   "execution_count": 21,
   "id": "cd58b52b-d32e-4f8e-af48-917cda8ee8eb",
   "metadata": {},
   "outputs": [],
   "source": [
    "np.random.seed(0)\n",
    "\n",
    "def f(): return np.random.uniform()\n",
    "def g(): return np.random.uniform()\n",
    "\n",
    "def h(): return f() + 2*g()"
   ]
  },
  {
   "cell_type": "code",
   "execution_count": 22,
   "id": "6582a695-8ce0-43ca-b7f2-f5738ab677fd",
   "metadata": {},
   "outputs": [
    {
     "name": "stdout",
     "output_type": "stream",
     "text": [
      "1.9791922366721637\n"
     ]
    }
   ],
   "source": [
    "print(h())"
   ]
  },
  {
   "cell_type": "markdown",
   "id": "173dc532-8398-45b7-87a7-5384dbaa446e",
   "metadata": {},
   "source": [
    "## JAX introduces *key*\n",
    "\n",
    "- the random state is not global\n",
    "- a JAX random function explicitly consumes a state associated to a key\n",
    "\n",
    "- a key has a form: (n,) where n is a scalar."
   ]
  },
  {
   "cell_type": "code",
   "execution_count": 29,
   "id": "f9971a60-04e8-4e81-abb5-51138e8c1572",
   "metadata": {},
   "outputs": [
    {
     "name": "stdout",
     "output_type": "stream",
     "text": [
      "Array((), dtype=key<fry>) overlaying:\n",
      "[0 7]\n"
     ]
    }
   ],
   "source": [
    "key = random.key(7)\n",
    "\n",
    "print(key)"
   ]
  },
  {
   "cell_type": "markdown",
   "id": "9ebe6a30-189d-4497-9fbe-3866f7f85d57",
   "metadata": {},
   "source": [
    "the random state is not changed by a random function call,\n",
    "\n",
    "as long as the key remains the same."
   ]
  },
  {
   "cell_type": "code",
   "execution_count": 30,
   "id": "ced58273-6abf-49a9-a0e3-02156f789c67",
   "metadata": {},
   "outputs": [
    {
     "name": "stdout",
     "output_type": "stream",
     "text": [
      "1.0114812\n",
      "1.0114812\n"
     ]
    }
   ],
   "source": [
    "print(random.normal(key))\n",
    "\n",
    "print(random.normal(key))"
   ]
  },
  {
   "cell_type": "markdown",
   "id": "66eb8157-ed93-44e1-ac34-61ec3be715e8",
   "metadata": {},
   "source": [
    "### rule of thumb: ⚠️ never reuse keys\n",
    "\n",
    "note: feeding the same key to different random functions can result in correlated outputs, which is generally undesirable.\n",
    "\n",
    "- use **split()** to generate different and independent samples.\n",
    "    - good idea to follow JAX convention:\n",
    "        - keep **key** to feed **split()** to generate more randomnesses.\n",
    "        - feed **subkey** to a random function."
   ]
  },
  {
   "cell_type": "code",
   "execution_count": 31,
   "id": "f2122a4e-71bf-4c43-8873-5ab61d355fbd",
   "metadata": {},
   "outputs": [
    {
     "name": "stdout",
     "output_type": "stream",
     "text": [
      "key before split: Array((), dtype=key<fry>) overlaying:\n",
      "[0 7]\n",
      "  number: [1.0114812] \n",
      "\n",
      "key after split: Array((), dtype=key<fry>) overlaying:\n",
      "[966301609 989289821]\n",
      "subkey: Array((), dtype=key<fry>) overlaying:\n",
      "[1948237315 1058547403]\n",
      "  number: [-1.4622003]\n"
     ]
    }
   ],
   "source": [
    "print(\"key before split:\", key)\n",
    "print(\"  number:\", random.normal(key, shape=(1,)), \"\\n\")\n",
    "\n",
    "new_key, subkey = random.split(key)\n",
    "del key  # discard used key, never use it again \n",
    "print(\"key after split:\", new_key)\n",
    "print(\"subkey:\", subkey)\n",
    "print(\"  number:\", random.normal(subkey, shape=(1,)))\n",
    "\n",
    "# note: you don't actually need to `del` keys. it's just for emphasis."
   ]
  },
  {
   "cell_type": "markdown",
   "id": "91bdddf5-f500-42d5-820b-217b62186043",
   "metadata": {},
   "source": [
    "### how to produce >1 subkeys at a time"
   ]
  },
  {
   "cell_type": "markdown",
   "id": "3c4c046c-0a91-4702-8016-c8627593f480",
   "metadata": {},
   "source": [
    "ex) 3 subkeys"
   ]
  },
  {
   "cell_type": "code",
   "execution_count": 33,
   "id": "c80e6a68-e397-4553-9b77-d22b8c47ea69",
   "metadata": {},
   "outputs": [],
   "source": [
    "key = random.key(7)"
   ]
  },
  {
   "cell_type": "code",
   "execution_count": 34,
   "id": "4ec78477-8d31-403f-81f8-47a478f35e1e",
   "metadata": {},
   "outputs": [
    {
     "name": "stdout",
     "output_type": "stream",
     "text": [
      "key after split: Array((), dtype=key<fry>) overlaying:\n",
      "[  51277378 1628829261]\n",
      "subkeys: [Array((), dtype=key<fry>) overlaying:\n",
      "[1440439266  395909871], Array((), dtype=key<fry>) overlaying:\n",
      "[3088387524 4291721531], Array((), dtype=key<fry>) overlaying:\n",
      "[3731608162 3705585371]] \n",
      "\n",
      "[0.3386509]\n",
      "[0.23955461]\n",
      "[-0.07911882]\n"
     ]
    }
   ],
   "source": [
    "key, *subkeys = random.split(key, 4)\n",
    "print(\"key after split:\", key)\n",
    "print(\"subkeys:\", subkeys, \"\\n\")\n",
    "\n",
    "for subkey in subkeys:\n",
    "    print(random.normal(subkey, shape=(1,)))"
   ]
  },
  {
   "cell_type": "markdown",
   "id": "c579e333-6729-4532-96be-61759af21b8c",
   "metadata": {},
   "source": [
    "## sequential equivalent guarantee does not hold\n",
    "\n",
    "because doing so would interfere with the vectorization on SIMD hardware.\n",
    "(for requirement #3: vectorizable)"
   ]
  },
  {
   "cell_type": "code",
   "execution_count": 36,
   "id": "95ac1670-afa8-4400-9488-1dcd609cf5ca",
   "metadata": {},
   "outputs": [
    {
     "name": "stdout",
     "output_type": "stream",
     "text": [
      "one by one : [-0.4787308  -0.15271705  0.47495216]\n",
      "all at once: [-0.75546646 -0.18615817 -0.11654735]\n"
     ]
    }
   ],
   "source": [
    "key = random.key(7)\n",
    "subkeys = random.split(key, 3)\n",
    "random_numbers = np.stack([random.normal(subkey) for subkey in subkeys])\n",
    "print(\"one by one :\", random_numbers)\n",
    "\n",
    "key = random.key(7)\n",
    "print(\"all at once:\", random.normal(key, shape=(3,)))"
   ]
  },
  {
   "cell_type": "code",
   "execution_count": null,
   "id": "a898c457-b967-4a57-b2c6-50c117dafc48",
   "metadata": {},
   "outputs": [],
   "source": []
  }
 ],
 "metadata": {
  "kernelspec": {
   "display_name": "Python 3 (ipykernel)",
   "language": "python",
   "name": "python3"
  },
  "language_info": {
   "codemirror_mode": {
    "name": "ipython",
    "version": 3
   },
   "file_extension": ".py",
   "mimetype": "text/x-python",
   "name": "python",
   "nbconvert_exporter": "python",
   "pygments_lexer": "ipython3",
   "version": "3.12.2"
  }
 },
 "nbformat": 4,
 "nbformat_minor": 5
}
