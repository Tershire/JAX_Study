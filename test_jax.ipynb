{
 "cells": [
  {
   "cell_type": "markdown",
   "id": "8120f122-b391-4e55-8580-a4773721722e",
   "metadata": {},
   "source": [
    "**test_jax.ipynb**\n",
    "\n",
    "Arz\n",
    "\n",
    "2024 APR 03 (WED)"
   ]
  },
  {
   "cell_type": "code",
   "execution_count": 1,
   "id": "5441832d-6882-488f-9d33-9ed8984b626e",
   "metadata": {},
   "outputs": [],
   "source": [
    "import jax"
   ]
  },
  {
   "cell_type": "code",
   "execution_count": 2,
   "id": "eeec78e8-00e5-46ed-ba33-53b55c303eea",
   "metadata": {},
   "outputs": [
    {
     "name": "stdout",
     "output_type": "stream",
     "text": [
      "Jax backend: gpu\n"
     ]
    }
   ],
   "source": [
    "print(f\"Jax backend: {jax.default_backend()}\")"
   ]
  },
  {
   "cell_type": "code",
   "execution_count": null,
   "id": "160ccc87-aa7e-4d9c-818a-39cf2c7b7f4c",
   "metadata": {},
   "outputs": [],
   "source": []
  }
 ],
 "metadata": {
  "kernelspec": {
   "display_name": "Python 3 (ipykernel)",
   "language": "python",
   "name": "python3"
  },
  "language_info": {
   "codemirror_mode": {
    "name": "ipython",
    "version": 3
   },
   "file_extension": ".py",
   "mimetype": "text/x-python",
   "name": "python",
   "nbconvert_exporter": "python",
   "pygments_lexer": "ipython3",
   "version": "3.12.2"
  }
 },
 "nbformat": 4,
 "nbformat_minor": 5
}
